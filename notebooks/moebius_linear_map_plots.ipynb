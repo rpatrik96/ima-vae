{
 "cells": [
  {
   "cell_type": "code",
   "execution_count": 106,
   "metadata": {
    "pycharm": {
     "name": "#%%\n"
    }
   },
   "outputs": [],
   "source": [
    "# imports\n",
    "from tueplots import bundles\n",
    "import wandb\n",
    "import pandas as pd\n",
    "import numpy as np\n",
    "import matplotlib.pyplot as plt\n",
    "from os.path import isfile\n",
    "\n"
   ]
  },
  {
   "cell_type": "code",
   "execution_count": 107,
   "outputs": [],
   "source": [
    "plt.rcParams.update(bundles.neurips2022(usetex=False))"
   ],
   "metadata": {
    "collapsed": false,
    "pycharm": {
     "name": "#%%\n"
    }
   }
  },
  {
   "cell_type": "code",
   "execution_count": 5,
   "metadata": {
    "pycharm": {
     "name": "#%%\n"
    }
   },
   "outputs": [],
   "source": [
    "# Constants\n",
    "ENTITY = \"ima-vae\"\n",
    "PROJECT = \"priors\"\n",
    "SWEEP_ID = \"1b7y5mzz\"\n"
   ]
  },
  {
   "cell_type": "code",
   "execution_count": 6,
   "metadata": {
    "pycharm": {
     "name": "#%%\n"
    }
   },
   "outputs": [],
   "source": [
    "api = wandb.Api(timeout=200)\n",
    "runs = api.runs(ENTITY + \"/\" + PROJECT)\n",
    "\n",
    "sweep = api.sweep(f\"{ENTITY}/{PROJECT}/{SWEEP_ID}\")\n",
    "sweep_runs = sweep.runs"
   ]
  },
  {
   "cell_type": "code",
   "execution_count": 7,
   "metadata": {
    "pycharm": {
     "name": "#%%\n"
    }
   },
   "outputs": [],
   "source": [
    "summary_list, config_list, name_list, sigmas = [], [], [], []\n",
    "filename = f\"moebius_linear_map_sweep_data_{SWEEP_ID}.csv\"\n",
    "if not isfile(filename):\n",
    "    for run in sweep_runs:\n",
    "\n",
    "\n",
    "        # .summary contains the output keys/values for metrics like accuracy.\n",
    "        #  We call ._json_dict to omit large files\n",
    "        summary_list.append(run.summary._json_dict)\n",
    "\n",
    "\n",
    "\n",
    "        # .config contains the hyperparameters.\n",
    "        #  We remove special values that start with _.\n",
    "        config_list.append(\n",
    "            {k: v for k,v in run.config.items()\n",
    "             if not k.startswith('_')})\n",
    "\n",
    "        sigmas.append(run.history(keys=[f'Metrics/val/latent_statistics.latent_variance_{i}' for i in range(config_list[-1]['latent_dim'])]).iloc[-1].to_numpy()[1:])\n",
    "\n",
    "\n",
    "        # .name is the human-readable name of the run.\n",
    "        name_list.append(run.name)\n",
    "\n",
    "\n",
    "\n",
    "    runs_df = pd.DataFrame({\n",
    "        \"summary\": summary_list,\n",
    "        \"config\": config_list,\n",
    "        \"name\": name_list,\n",
    "        \"sigmas\" : sigmas\n",
    "        })\n",
    "\n",
    "    runs_df.to_csv(filename)\n",
    "else:\n",
    "    runs_df = pd.read_csv(filename)"
   ]
  },
  {
   "cell_type": "code",
   "execution_count": 14,
   "outputs": [
    {
     "data": {
      "text/plain": "0"
     },
     "execution_count": 14,
     "metadata": {},
     "output_type": "execute_result"
    }
   ],
   "source": [
    "runs_df.loc[0]['summary']['mixing_linear_map_cima']"
   ],
   "metadata": {
    "collapsed": false,
    "pycharm": {
     "name": "#%%\n"
    }
   }
  },
  {
   "cell_type": "code",
   "execution_count": 9,
   "outputs": [
    {
     "data": {
      "text/plain": "59"
     },
     "execution_count": 9,
     "metadata": {},
     "output_type": "execute_result"
    }
   ],
   "source": [
    "len(runs_df)"
   ],
   "metadata": {
    "collapsed": false,
    "pycharm": {
     "name": "#%%\n"
    }
   }
  },
  {
   "cell_type": "code",
   "execution_count": 16,
   "outputs": [],
   "source": [
    "data = [ (summary['Metrics/val/mcc'], summary['Metrics/val/cima'], config['latent_dim'], config['decoder_var'], config['model.prior'], sigma, summary['mixing_linear_map_cima']) for summary, config, sigma in zip(runs_df['summary'], runs_df['config'], runs_df['sigmas'])]"
   ],
   "metadata": {
    "collapsed": false,
    "pycharm": {
     "name": "#%%\n"
    }
   }
  },
  {
   "cell_type": "markdown",
   "source": [
    "$$ \\sigma_k^2 (x) = \\left(-n''(\\mu_k^\\phi(x)) + \\gamma^2 \\left\\Vert \\left[ J_f(g(x))\\right]_{:k}\\right\\Vert^2\\right)^{-1} $$"
   ],
   "metadata": {
    "collapsed": false,
    "pycharm": {
     "name": "#%% md\n"
    }
   }
  },
  {
   "cell_type": "code",
   "execution_count": null,
   "outputs": [],
   "source": [
    "len(data)"
   ],
   "metadata": {
    "collapsed": false,
    "pycharm": {
     "name": "#%%\n"
    }
   }
  },
  {
   "cell_type": "code",
   "execution_count": 17,
   "outputs": [],
   "source": [
    "gamma_sq = [np.array(1./d[3]) for d in data]\n",
    "prior = [d[4] for d in data]\n",
    "sigmas = runs_df.sigmas.to_numpy()\n",
    "mcc = np.array([d[0] for d in data])\n",
    "cima = np.array([d[1] for d in data])\n",
    "dim = np.array([d[2] for d in data])\n",
    "mixing_cima = np.array([d[6] for d in data])"
   ],
   "metadata": {
    "collapsed": false,
    "pycharm": {
     "name": "#%%\n"
    }
   }
  },
  {
   "cell_type": "code",
   "execution_count": 18,
   "outputs": [],
   "source": [
    "ext_gamma_sq = [g*np.ones((d, 1)) for g,d in zip(gamma_sq, dim)]"
   ],
   "metadata": {
    "collapsed": false,
    "pycharm": {
     "name": "#%%\n"
    }
   }
  },
  {
   "cell_type": "code",
   "execution_count": 75,
   "outputs": [],
   "source": [
    "def violin_by_prior(gauss_data, laplace_data, uniform_data, xticks, xlabel, ylabel,  offset, filename, figsize=(8,6), log=False, positions=None):\n",
    "\n",
    "    if positions is None:\n",
    "        positions = xticks\n",
    "    fig, ax = plt.subplots()#plt.figure(figsize=figsize)\n",
    "    vp_gauss = plt.violinplot([np.log10(i) if log is True else i for i in gauss_data], positions=xticks)\n",
    "    vp_laplace = plt.violinplot([np.log10(i) if log is True else i for i in laplace_data], positions=-offset+xticks)\n",
    "    vp_uniform= plt.violinplot([np.log10(i) if log is True else i for i in uniform_data], positions=offset+xticks)\n",
    "    plt.legend([vp_gauss['bodies'][0],vp_laplace['bodies'][0], vp_uniform['bodies'][0]], ['gaussian', 'laplace', 'uniform'], loc='upper right')\n",
    "    plt.xlabel(xlabel)\n",
    "    plt.ylabel(ylabel)\n",
    "    ax.set_xticks(xticks)\n",
    "    ax.set_xticklabels(positions)\n",
    "    # plt.tight_layout()\n",
    "    plt.savefig(filename)"
   ],
   "metadata": {
    "collapsed": false,
    "pycharm": {
     "name": "#%%\n"
    }
   }
  },
  {
   "cell_type": "code",
   "execution_count": 76,
   "outputs": [],
   "source": [
    "def cima_mcc(cimas, mccs, mixing_cimas, priors,  prior_name):\n",
    "    cima = np.array([c for c,p in zip(cimas, priors) if p == prior_name])\n",
    "    mcc = np.array([m for m,p in zip(mccs, priors) if p == prior_name])\n",
    "    mixing_cima = np.array([d for d,p in zip(mixing_cimas, priors) if p == prior_name])\n",
    "\n",
    "\n",
    "    cima_vs_mixing_cima = [ np.array([c for mc, c in zip(mixing_cima, cima) if mc==cima_select]) for cima_select in np.unique(mixing_cimas)  ]\n",
    "    mcc_vs_mixing_cima = [ np.array([m for mc, m in zip(mixing_cima, mcc) if mc==cima_select]) for cima_select in np.unique(mixing_cimas)  ]\n",
    "\n",
    "    return cima, mcc, mixing_cima, cima_vs_mixing_cima, mcc_vs_mixing_cima"
   ],
   "metadata": {
    "collapsed": false,
    "pycharm": {
     "name": "#%%\n"
    }
   }
  },
  {
   "cell_type": "code",
   "execution_count": 77,
   "outputs": [],
   "source": [
    "cima_gauss, mcc_gauss, mixing_cima_gauss, cima_vs_mixing_cima_gauss, mcc_vs_mixing_cima_gauss = cima_mcc(cima, mcc, mixing_cima, prior, \"gaussian\")\n",
    "cima_laplace, mcc_laplace, mixing_cima_laplace, cima_vs_mixing_cima_laplace, mcc_vs_mixing_cima_laplace = cima_mcc(cima, mcc, mixing_cima, prior, \"laplace\")\n",
    "cima_uniform, mcc_uniform, mixing_cima_uniform, cima_vs_mixing_cima_uniform, mcc_vs_mixing_cima_uniform = cima_mcc(cima, mcc, mixing_cima, prior, \"uniform\")"
   ],
   "metadata": {
    "collapsed": false,
    "pycharm": {
     "name": "#%%\n"
    }
   }
  },
  {
   "cell_type": "code",
   "execution_count": 108,
   "outputs": [
    {
     "data": {
      "text/plain": "<Figure size 396x244.741 with 1 Axes>",
      "image/png": "[encoded data removed]"
     },
     "metadata": {
      "needs_background": "light"
     },
     "output_type": "display_data"
    }
   ],
   "source": [
    "violin_by_prior(mcc_vs_mixing_cima_gauss, mcc_vs_mixing_cima_laplace, mcc_vs_mixing_cima_uniform,np.log10(np.unique(mixing_cima)+1e-3), r'\\cos\\theta', 'MCC',  0.05, 'mcc_vs_mixing_cima', positions=[0,.2,.5,.999])"
   ],
   "metadata": {
    "collapsed": false,
    "pycharm": {
     "name": "#%%\n"
    }
   }
  },
  {
   "cell_type": "code",
   "execution_count": 108,
   "outputs": [],
   "source": [],
   "metadata": {
    "collapsed": false,
    "pycharm": {
     "name": "#%%\n"
    }
   }
  }
 ],
 "metadata": {
  "kernelspec": {
   "display_name": "Python 3 (ipykernel)",
   "language": "python",
   "name": "python3"
  },
  "language_info": {
   "codemirror_mode": {
    "name": "ipython",
    "version": 3
   },
   "file_extension": ".py",
   "mimetype": "text/x-python",
   "name": "python",
   "nbconvert_exporter": "python",
   "pygments_lexer": "ipython3",
   "version": "3.9.6"
  }
 },
 "nbformat": 4,
 "nbformat_minor": 1
}