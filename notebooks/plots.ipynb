{
 "cells": [
  {
   "cell_type": "code",
   "execution_count": 39,
   "metadata": {
    "pycharm": {
     "name": "#%%\n"
    }
   },
   "outputs": [],
   "source": [
    "# imports\n",
    "import tueplots\n",
    "import wandb\n",
    "import pandas as pd\n",
    "import numpy as np\n",
    "import matplotlib.pyplot as plt\n",
    "\n"
   ]
  },
  {
   "cell_type": "code",
   "execution_count": 2,
   "metadata": {
    "pycharm": {
     "name": "#%%\n"
    }
   },
   "outputs": [],
   "source": [
    "# Constants\n",
    "ENTITY = \"ima-vae\"\n",
    "PROJECT = \"priors\"\n",
    "SWEEP_ID = \"djnaq95k\"\n"
   ]
  },
  {
   "cell_type": "code",
   "execution_count": 20,
   "metadata": {
    "pycharm": {
     "name": "#%%\n"
    }
   },
   "outputs": [],
   "source": [
    "api = wandb.Api(timeout=200)\n",
    "runs = api.runs(ENTITY + \"/\" + PROJECT)\n",
    "\n",
    "sweep = api.sweep(f\"{ENTITY}/{PROJECT}/{SWEEP_ID}\")\n",
    "sweep_runs = sweep.runs"
   ]
  },
  {
   "cell_type": "code",
   "execution_count": 21,
   "metadata": {
    "pycharm": {
     "name": "#%%\n"
    }
   },
   "outputs": [],
   "source": [
    "summary_list, config_list, name_list, sigmas = [], [], [], []\n",
    "for run in sweep_runs:\n",
    "\n",
    "    if f'Metrics/val/latent_statistics.latent_variance_0' in run.history().keys():\n",
    "\n",
    "        # .summary contains the output keys/values for metrics like accuracy.\n",
    "        #  We call ._json_dict to omit large files\n",
    "        summary_list.append(run.summary._json_dict)\n",
    "\n",
    "\n",
    "\n",
    "        # .config contains the hyperparameters.\n",
    "        #  We remove special values that start with _.\n",
    "        config_list.append(\n",
    "            {k: v for k,v in run.config.items()\n",
    "             if not k.startswith('_')})\n",
    "\n",
    "        sigmas.append(run.history(keys=[f'Metrics/val/latent_statistics.latent_variance_{i}' for i in range(config_list[-1]['latent_dim'])]).iloc[-1].to_numpy()[1:])\n",
    "\n",
    "\n",
    "        # .name is the human-readable name of the run.\n",
    "        name_list.append(run.name)\n",
    "\n",
    "\n",
    "\n",
    "runs_df = pd.DataFrame({\n",
    "    \"summary\": summary_list,\n",
    "    \"config\": config_list,\n",
    "    \"name\": name_list,\n",
    "    \"sigmas\" : sigmas\n",
    "    })\n",
    "\n",
    "runs_df.to_csv(\"project.csv\")"
   ]
  },
  {
   "cell_type": "code",
   "execution_count": 5,
   "outputs": [
    {
     "data": {
      "text/plain": "                                             summary  \\\n0  {'Metrics/val/sample_col_max_norms': [[0.12357...   \n1  {'gradients/model.encoder.fc.1.weight': {'_typ...   \n\n                                              config             name  \n0  {'lr': 0.001, 'beta': 1, 'dims': 'None', 'seed...  solar-sweep-144  \n1  {'lr': 0.001, 'beta': 1, 'dims': 'None', 'seed...   rich-sweep-143  ",
      "text/html": "<div>\n<style scoped>\n    .dataframe tbody tr th:only-of-type {\n        vertical-align: middle;\n    }\n\n    .dataframe tbody tr th {\n        vertical-align: top;\n    }\n\n    .dataframe thead th {\n        text-align: right;\n    }\n</style>\n<table border=\"1\" class=\"dataframe\">\n  <thead>\n    <tr style=\"text-align: right;\">\n      <th></th>\n      <th>summary</th>\n      <th>config</th>\n      <th>name</th>\n    </tr>\n  </thead>\n  <tbody>\n    <tr>\n      <th>0</th>\n      <td>{'Metrics/val/sample_col_max_norms': [[0.12357...</td>\n      <td>{'lr': 0.001, 'beta': 1, 'dims': 'None', 'seed...</td>\n      <td>solar-sweep-144</td>\n    </tr>\n    <tr>\n      <th>1</th>\n      <td>{'gradients/model.encoder.fc.1.weight': {'_typ...</td>\n      <td>{'lr': 0.001, 'beta': 1, 'dims': 'None', 'seed...</td>\n      <td>rich-sweep-143</td>\n    </tr>\n  </tbody>\n</table>\n</div>"
     },
     "execution_count": 5,
     "metadata": {},
     "output_type": "execute_result"
    }
   ],
   "source": [
    "runs_df.head()"
   ],
   "metadata": {
    "collapsed": false,
    "pycharm": {
     "name": "#%%\n"
    }
   }
  },
  {
   "cell_type": "code",
   "execution_count": 38,
   "outputs": [],
   "source": [
    "data = [ (summary['Metrics/val/mcc'], summary['Metrics/val/cima'], config['latent_dim'], config['decoder_var'], config['model.prior'],summary['Metrics/val/col_norms'], sigma) for summary, config, sigma in zip(runs_df['summary'], runs_df['config'], runs_df['sigmas'])]"
   ],
   "metadata": {
    "collapsed": false,
    "pycharm": {
     "name": "#%%\n"
    }
   }
  },
  {
   "cell_type": "markdown",
   "source": [
    "$$ \\sigma_k^2 (x) = \\left(-n''(\\mu_k^\\phi(x)) + \\gamma^2 \\left\\Vert \\left[ J_f(g(x))\\right]_{:k}\\right\\Vert^2\\right)^{-1} $$"
   ],
   "metadata": {
    "collapsed": false,
    "pycharm": {
     "name": "#%% md\n"
    }
   }
  },
  {
   "cell_type": "code",
   "execution_count": 37,
   "outputs": [
    {
     "data": {
      "text/plain": "dict_keys(['lr', 'beta', 'dims', 'seed', 'angle', 'n_obs', 'prior', 'shape', 'affine', 'deltah', 'deltas', 'deltav', 'device', 'linear', 'mobius', 'orthog', 'ar_flow', 'dataset', 'data_dir', 'n_layers', 'fix_prior', 'n_classes', 'prior_var', 'val_ratio', 'activation', 'batch_size', 'latent_dim', 'n_segments', 'prior_beta', 'prior_mean', 'projective', 'decoder_var', 'log_latents', 'model.prior', 'prior_alpha', 'train_ratio', 'break_orthog', 'synth_source', 'mixing_layers', 'diag_posterior', 'val_transforms', 'seed_everything', 'test_transforms', 'model.latent_dim', 'train_transforms', 'data.synth_source', 'model.decoder_var', 'log_reconstruction'])"
     },
     "execution_count": 37,
     "metadata": {},
     "output_type": "execute_result"
    }
   ],
   "source": [
    "runs_df.config.iloc[0].keys()"
   ],
   "metadata": {
    "collapsed": false,
    "pycharm": {
     "name": "#%%\n"
    }
   }
  },
  {
   "cell_type": "code",
   "execution_count": 83,
   "outputs": [],
   "source": [
    "gamma_sq = [np.array(1./d[3]) for d in data]\n",
    "prior = [d[4] for d in data]\n",
    "col_norm_sq = [d[5] for d in data]\n",
    "sigmas = runs_df.sigmas.to_numpy()\n",
    "mcc = np.array([d[0] for d in data])\n",
    "cima = np.array([d[1] for d in data])\n",
    "dim = np.array([d[2] for d in data])"
   ],
   "metadata": {
    "collapsed": false,
    "pycharm": {
     "name": "#%%\n"
    }
   }
  },
  {
   "cell_type": "code",
   "execution_count": 84,
   "outputs": [],
   "source": [
    "ext_gamma_sq = [g*np.ones((d, 1)) for g,d in zip(gamma_sq, dim)]"
   ],
   "metadata": {
    "collapsed": false,
    "pycharm": {
     "name": "#%%\n"
    }
   }
  },
  {
   "cell_type": "code",
   "execution_count": 70,
   "outputs": [],
   "source": [
    "lhs_gauss = [s for s,p in zip(sigmas,prior) if p == \"gaussian\"]\n",
    "rhs_gauss = [1./(1+g*J) for g, J, p in zip(gamma_sq, col_norm_sq, prior) if p == \"gaussian\"]\n",
    "gamma_gauss = [g for g,p in zip(ext_gamma_sq, prior) if p == \"gaussian\"]\n",
    "\n",
    "lhs_laplace = [s for s,p in zip(sigmas,prior) if p == \"laplace\"]\n",
    "rhs_laplace = [1./(g*J) for g, J, p in zip(gamma_sq, col_norm_sq, prior) if p == \"laplace\"]"
   ],
   "metadata": {
    "collapsed": false,
    "pycharm": {
     "name": "#%%\n"
    }
   }
  },
  {
   "cell_type": "code",
   "execution_count": 76,
   "outputs": [
    {
     "data": {
      "text/plain": "<matplotlib.colorbar.Colorbar at 0x11c340fa0>"
     },
     "execution_count": 76,
     "metadata": {},
     "output_type": "execute_result"
    },
    {
     "data": {
      "text/plain": "<Figure size 432x288 with 2 Axes>",
      "image/png": "[encoded data removed]"
     },
     "metadata": {
      "needs_background": "light"
     },
     "output_type": "display_data"
    }
   ],
   "source": [
    "plt.scatter(np.concatenate(lhs_gauss), np.concatenate(rhs_gauss), c=np.concatenate(gamma_gauss), cmap='seismic', )\n",
    "plt.colorbar()"
   ],
   "metadata": {
    "collapsed": false,
    "pycharm": {
     "name": "#%%\n"
    }
   }
  },
  {
   "cell_type": "code",
   "execution_count": 62,
   "outputs": [
    {
     "data": {
      "text/plain": "<matplotlib.collections.PathCollection at 0x11bfcb700>"
     },
     "execution_count": 62,
     "metadata": {},
     "output_type": "execute_result"
    },
    {
     "data": {
      "text/plain": "<Figure size 432x288 with 1 Axes>",
      "image/png": "[encoded data removed]"
     },
     "metadata": {
      "needs_background": "light"
     },
     "output_type": "display_data"
    }
   ],
   "source": [
    "plt.scatter(np.concatenate(lhs_laplace), np.concatenate(rhs_laplace))"
   ],
   "metadata": {
    "collapsed": false,
    "pycharm": {
     "name": "#%%\n"
    }
   }
  },
  {
   "cell_type": "code",
   "execution_count": 91,
   "outputs": [],
   "source": [
    "cima_vs_dim = [ np.array([c for d, c in zip(dim, cima) if d==dim_select]) for dim_select in np.unique(np.array(dim))  ]\n",
    "mcc_vs_dim = [ np.array([m for d, m in zip(dim, mcc) if d==dim_select]) for dim_select in np.unique(np.array(dim))  ]"
   ],
   "metadata": {
    "collapsed": false,
    "pycharm": {
     "name": "#%%\n"
    }
   }
  },
  {
   "cell_type": "code",
   "execution_count": 87,
   "outputs": [
    {
     "data": {
      "text/plain": "4"
     },
     "execution_count": 87,
     "metadata": {},
     "output_type": "execute_result"
    }
   ],
   "source": [
    "len(cima_vs_dim)"
   ],
   "metadata": {
    "collapsed": false,
    "pycharm": {
     "name": "#%%\n"
    }
   }
  },
  {
   "cell_type": "code",
   "execution_count": 90,
   "outputs": [
    {
     "data": {
      "text/plain": "{'bodies': [<matplotlib.collections.PolyCollection at 0x11c4c36d0>,\n  <matplotlib.collections.PolyCollection at 0x11c5156d0>,\n  <matplotlib.collections.PolyCollection at 0x11c515a30>,\n  <matplotlib.collections.PolyCollection at 0x11c515d60>],\n 'cmaxes': <matplotlib.collections.LineCollection at 0x11c515310>,\n 'cmins': <matplotlib.collections.LineCollection at 0x11c523340>,\n 'cbars': <matplotlib.collections.LineCollection at 0x11c5236a0>}"
     },
     "execution_count": 90,
     "metadata": {},
     "output_type": "execute_result"
    },
    {
     "data": {
      "text/plain": "<Figure size 432x288 with 1 Axes>",
      "image/png": "[encoded data removed]"
     },
     "metadata": {
      "needs_background": "light"
     },
     "output_type": "display_data"
    }
   ],
   "source": [
    "plt.violinplot(cima_vs_dim, positions=np.unique(np.array(dim)))"
   ],
   "metadata": {
    "collapsed": false,
    "pycharm": {
     "name": "#%%\n"
    }
   }
  },
  {
   "cell_type": "code",
   "execution_count": 92,
   "outputs": [
    {
     "data": {
      "text/plain": "{'bodies': [<matplotlib.collections.PolyCollection at 0x11c4c31f0>,\n  <matplotlib.collections.PolyCollection at 0x11c59c1c0>,\n  <matplotlib.collections.PolyCollection at 0x11c59c520>,\n  <matplotlib.collections.PolyCollection at 0x11c59c850>],\n 'cmaxes': <matplotlib.collections.LineCollection at 0x11c56da30>,\n 'cmins': <matplotlib.collections.LineCollection at 0x11c59cdf0>,\n 'cbars': <matplotlib.collections.LineCollection at 0x11c5a91f0>}"
     },
     "execution_count": 92,
     "metadata": {},
     "output_type": "execute_result"
    },
    {
     "data": {
      "text/plain": "<Figure size 432x288 with 1 Axes>",
      "image/png": "[encoded data removed]"
     },
     "metadata": {
      "needs_background": "light"
     },
     "output_type": "display_data"
    }
   ],
   "source": [
    "plt.violinplot(mcc_vs_dim, positions=np.unique(np.array(dim)))"
   ],
   "metadata": {
    "collapsed": false,
    "pycharm": {
     "name": "#%%\n"
    }
   }
  }
 ],
 "metadata": {
  "kernelspec": {
   "display_name": "Python 3 (ipykernel)",
   "language": "python",
   "name": "python3"
  },
  "language_info": {
   "codemirror_mode": {
    "name": "ipython",
    "version": 3
   },
   "file_extension": ".py",
   "mimetype": "text/x-python",
   "name": "python",
   "nbconvert_exporter": "python",
   "pygments_lexer": "ipython3",
   "version": "3.9.6"
  }
 },
 "nbformat": 4,
 "nbformat_minor": 1
}