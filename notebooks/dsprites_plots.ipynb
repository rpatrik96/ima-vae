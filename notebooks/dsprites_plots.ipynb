{
 "cells": [
  {
   "cell_type": "code",
   "execution_count": 1,
   "metadata": {
    "pycharm": {
     "name": "#%%\n"
    }
   },
   "outputs": [],
   "source": [
    "# imports\n",
    "from tueplots import bundles\n",
    "import wandb\n",
    "import pandas as pd\n",
    "import numpy as np\n",
    "import matplotlib.pyplot as plt\n",
    "from tueplots  import figsizes\n",
    "\n",
    "import sys\n",
    "%load_ext autoreload\n",
    "%autoreload 2\n",
    "\n",
    "sys.path.insert(0, '.')"
   ]
  },
  {
   "cell_type": "code",
   "execution_count": 49,
   "outputs": [],
   "source": [
    "from analysis import sweep2df, BLUE, RED"
   ],
   "metadata": {
    "collapsed": false,
    "pycharm": {
     "name": "#%%\n"
    }
   }
  },
  {
   "cell_type": "code",
   "execution_count": 3,
   "outputs": [],
   "source": [
    "plt.rcParams.update(bundles.neurips2022(usetex=True))\n",
    "plt.rcParams.update({\n",
    "    'text.latex.preamble': [r'\\usepackage{amsfonts}', # mathbb\n",
    "                            r'\\usepackage{amsmath}'] # boldsymbol\n",
    "})"
   ],
   "metadata": {
    "collapsed": false,
    "pycharm": {
     "name": "#%%\n"
    }
   }
  },
  {
   "cell_type": "markdown",
   "source": [
    "# Data loading"
   ],
   "metadata": {
    "collapsed": false,
    "pycharm": {
     "name": "#%% md\n"
    }
   }
  },
  {
   "cell_type": "code",
   "execution_count": 16,
   "outputs": [
    {
     "name": "stdout",
     "output_type": "stream",
     "text": [
      "Encountered a faulty run with ID dark-sweep-50\n",
      "Encountered a faulty run with ID ethereal-sweep-49\n",
      "Encountered a faulty run with ID wise-sweep-48\n",
      "Encountered a faulty run with ID ethereal-sweep-47\n",
      "Encountered a faulty run with ID easy-sweep-46\n",
      "Encountered a faulty run with ID soft-sweep-45\n",
      "Encountered a faulty run with ID dandy-sweep-44\n",
      "Encountered a faulty run with ID serene-sweep-41\n",
      "Encountered a faulty run with ID firm-sweep-42\n",
      "Encountered a faulty run with ID laced-sweep-40\n",
      "Encountered a faulty run with ID floral-sweep-36\n",
      "Encountered a faulty run with ID swept-sweep-8\n",
      "Encountered a faulty run with ID stellar-sweep-4\n",
      "Encountered a faulty run with ID sleek-sweep-3\n",
      "Encountered a faulty run with ID whole-sweep-2\n"
     ]
    }
   ],
   "source": [
    "# Constants\n",
    "ENTITY = \"ima-vae\"\n",
    "PROJECT = \"dsprites\"\n",
    "SWEEP_ID = \"7qg2q0aw\"\n",
    "\n",
    "# W&B API\n",
    "api = wandb.Api(timeout=200)\n",
    "runs = api.runs(ENTITY + \"/\" + PROJECT)\n",
    "sweep = api.sweep(f\"{ENTITY}/{PROJECT}/{SWEEP_ID}\")\n",
    "filename = f\"dsprites_sweep_{SWEEP_ID}.csv\"\n",
    "\n",
    "\n",
    "runs_df = sweep2df(sweep.runs, filename, save=True, load=True)\n",
    "\n",
    "# runs_df = runs_df[runs_df.gamma_square == 1.]"
   ],
   "metadata": {
    "collapsed": false,
    "pycharm": {
     "name": "#%%\n"
    }
   }
  },
  {
   "cell_type": "markdown",
   "source": [
    "# Data pre-processing"
   ],
   "metadata": {
    "collapsed": false,
    "pycharm": {
     "name": "#%% md\n"
    }
   }
  },
  {
   "cell_type": "code",
   "execution_count": 33,
   "outputs": [],
   "source": [
    "\n",
    "mcc_history, cima_history = [], []\n",
    "for run in sweep.runs:\n",
    "    if run.name in runs_df[runs_df.gamma_square == 1.].name.tolist():\n",
    "        mcc_history.append(run.history(keys=[f\"Metrics/val/mcc\"])[f\"Metrics/val/mcc\"].tolist())\n",
    "        cima_history.append(run.history(keys=[f\"Metrics/val/cima\"])[f\"Metrics/val/cima\"].tolist())"
   ],
   "metadata": {
    "collapsed": false,
    "pycharm": {
     "name": "#%%\n"
    }
   }
  },
  {
   "cell_type": "code",
   "execution_count": 36,
   "outputs": [],
   "source": [
    "min_len = np.array([len(m) for m in mcc_history]).min()"
   ],
   "metadata": {
    "collapsed": false,
    "pycharm": {
     "name": "#%%\n"
    }
   }
  },
  {
   "cell_type": "code",
   "execution_count": 44,
   "outputs": [],
   "source": [
    "mcc = np.array([m[:min_len] for m in mcc_history])\n",
    "cima = np.array([m[:min_len] for m in cima_history])"
   ],
   "metadata": {
    "collapsed": false,
    "pycharm": {
     "name": "#%%\n"
    }
   }
  },
  {
   "cell_type": "markdown",
   "source": [
    "# Plot"
   ],
   "metadata": {
    "collapsed": false,
    "pycharm": {
     "name": "#%% md\n"
    }
   }
  },
  {
   "cell_type": "code",
   "execution_count": 105,
   "outputs": [
    {
     "data": {
      "text/plain": "(5.5, 3.399186938124422)"
     },
     "execution_count": 105,
     "metadata": {},
     "output_type": "execute_result"
    }
   ],
   "source": [
    "figsizes.neurips2022(nrows=1, ncols=1, rel_width=1)['figure.figsize']"
   ],
   "metadata": {
    "collapsed": false,
    "pycharm": {
     "name": "#%%\n"
    }
   }
  },
  {
   "cell_type": "code",
   "execution_count": 109,
   "outputs": [
    {
     "name": "stderr",
     "output_type": "stream",
     "text": [
      "/var/folders/rb/d8k1n6bj4lg801y0yxz4jtbh0000gn/T/ipykernel_75393/2777838377.py:40: UserWarning: FixedFormatter should only be used together with FixedLocator\n",
      "  ax.set_xticklabels(range(0, min_len * val_epoch_factor, val_epoch_factor))\n"
     ]
    },
    {
     "data": {
      "text/plain": "<Figure size 396x122.371 with 3 Axes>",
      "image/png": "[encoded data removed]"
     },
     "metadata": {
      "needs_background": "light"
     },
     "output_type": "display_data"
    }
   ],
   "source": [
    "LABELPAD = 1\n",
    "TICK_PADDING = 2\n",
    "\n",
    "fig = plt.figure(figsize=figsizes.neurips2022(nrows=1, ncols=2, rel_width=1)['figure.figsize'])\n",
    "\n",
    "\"\"\"MCC vs CIMA over different gamma\"\"\"\n",
    "ax = fig.add_subplot(121)\n",
    "ax.grid(True, which=\"both\", ls=\"-.\")\n",
    "\n",
    "# create double y-axis\n",
    "ax_cima = ax.twinx()\n",
    "ax_mcc = ax.twinx()\n",
    "\n",
    "# Link the respective y-axes for grid and plot\n",
    "ax.get_shared_y_axes().join(ax, ax_mcc)\n",
    "\n",
    "# Remove ticks and labels and set which side to label\n",
    "ticksoff = dict(labelleft=False, labelright=False, left=False, right=False)\n",
    "ax.tick_params(axis=\"y\", **ticksoff)\n",
    "ax_mcc.tick_params(axis=\"y\", labelleft=True, labelright=False, left=True, right=False)\n",
    "ax_cima.tick_params(axis=\"y\", labelleft=False, labelright=True, left=False, right=True)\n",
    "\n",
    "# MCC\n",
    "ax_mcc.errorbar(range(min_len), mcc.mean(0), yerr=mcc.std(0), label='mcc', c=BLUE)\n",
    "\n",
    "# CIMA\n",
    "ax_cima.errorbar(range(min_len), np.log10(cima).mean(0), yerr=np.log10(cima).std(0), label='cima', c=RED)\n",
    "\n",
    "\n",
    "# set z-order to make CIMA the top plot\n",
    "# https://stackoverflow.com/a/30506077/16912032\n",
    "# ax.set_zorder(ax.get_zorder()+1)\n",
    "# ax.set_frame_on(False)\n",
    "\n",
    "ax_cima.set_ylabel(\"$\\log_{10} c_{\\mathrm{IMA}}$\", labelpad=LABELPAD)\n",
    "ax.set_ylabel(\"$\\mathrm{MCC}$\", labelpad=LABELPAD+17)\n",
    "\n",
    "ax.set_xlabel(\"Epoch\", labelpad=LABELPAD)\n",
    "val_epoch_factor = 25\n",
    "ax.set_xticklabels(range(0, min_len * val_epoch_factor, val_epoch_factor))\n",
    "ax.grid(True, which=\"both\", ls=\"-.\")\n",
    "\n",
    "handle1, label1 = ax_mcc.get_legend_handles_labels()\n",
    "handle2, label2 = ax_cima.get_legend_handles_labels()\n",
    "\n",
    "plt.legend([handle2[0], handle1[0]],[\"$\\log_{10} c_{\\mathrm{IMA}}$\", \"$\\mathrm{MCC}$\"], loc='center right')\n",
    "\n",
    "plt.savefig(\"dsprites_mcc_cima.svg\")"
   ],
   "metadata": {
    "collapsed": false,
    "pycharm": {
     "name": "#%%\n"
    }
   }
  },
  {
   "cell_type": "code",
   "execution_count": 93,
   "outputs": [
    {
     "data": {
      "text/plain": "(5.5, 3.399186938124422)"
     },
     "execution_count": 93,
     "metadata": {},
     "output_type": "execute_result"
    }
   ],
   "source": [
    "figsizes.neurips2022(nrows=1, ncols=1)['figure.figsize']"
   ],
   "metadata": {
    "collapsed": false,
    "pycharm": {
     "name": "#%%\n"
    }
   }
  }
 ],
 "metadata": {
  "kernelspec": {
   "display_name": "Python 3 (ipykernel)",
   "language": "python",
   "name": "python3"
  },
  "language_info": {
   "codemirror_mode": {
    "name": "ipython",
    "version": 3
   },
   "file_extension": ".py",
   "mimetype": "text/x-python",
   "name": "python",
   "nbconvert_exporter": "python",
   "pygments_lexer": "ipython3",
   "version": "3.9.6"
  }
 },
 "nbformat": 4,
 "nbformat_minor": 1
}