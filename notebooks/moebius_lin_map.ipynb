{
 "cells": [
  {
   "cell_type": "code",
   "execution_count": 1,
   "metadata": {
    "pycharm": {
     "name": "#%%\n"
    }
   },
   "outputs": [],
   "source": [
    "# imports\n",
    "from tueplots import bundles\n",
    "import wandb\n",
    "import pandas as pd\n",
    "import numpy as np\n",
    "import matplotlib.pyplot as plt\n",
    "from tueplots  import figsizes\n",
    "\n",
    "import sys\n",
    "%load_ext autoreload\n",
    "%autoreload 2\n",
    "\n",
    "sys.path.insert(0, '.')"
   ]
  },
  {
   "cell_type": "code",
   "execution_count": 285,
   "outputs": [],
   "source": [
    "from analysis import sweep2df, format_violin"
   ],
   "metadata": {
    "collapsed": false,
    "pycharm": {
     "name": "#%%\n"
    }
   }
  },
  {
   "cell_type": "code",
   "execution_count": 3,
   "outputs": [],
   "source": [
    "plt.rcParams.update(bundles.neurips2022(usetex=False))"
   ],
   "metadata": {
    "collapsed": false,
    "pycharm": {
     "name": "#%%\n"
    }
   }
  },
  {
   "cell_type": "code",
   "execution_count": 4,
   "metadata": {
    "pycharm": {
     "name": "#%%\n"
    }
   },
   "outputs": [],
   "source": [
    "# Constants\n",
    "ENTITY = \"ima-vae\"\n",
    "PROJECT = \"priors\"\n"
   ]
  },
  {
   "cell_type": "code",
   "execution_count": 213,
   "metadata": {
    "pycharm": {
     "name": "#%%\n"
    }
   },
   "outputs": [],
   "source": [
    "SWEEP_ID = \"vtyztyfn\"\n",
    "api = wandb.Api(timeout=200)\n",
    "runs = api.runs(ENTITY + \"/\" + PROJECT)\n",
    "sweep = api.sweep(f\"{ENTITY}/{PROJECT}/{SWEEP_ID}\")\n",
    "filename = f\"moebius_lin_map_sweep_{SWEEP_ID}.csv\"\n",
    "runs_df1 = sweep2df(sweep.runs, filename, save=True,load=True)"
   ]
  },
  {
   "cell_type": "code",
   "execution_count": 215,
   "outputs": [],
   "source": [
    "SWEEP_ID = \"uac6296c\"\n",
    "api = wandb.Api(timeout=200)\n",
    "runs = api.runs(ENTITY + \"/\" + PROJECT)\n",
    "sweep = api.sweep(f\"{ENTITY}/{PROJECT}/{SWEEP_ID}\")\n",
    "filename = f\"moebius_lin_map_sweep_{SWEEP_ID}.csv\"\n",
    "runs_df2 = sweep2df(sweep.runs, filename, save=True,load=True)"
   ],
   "metadata": {
    "collapsed": false,
    "pycharm": {
     "name": "#%%\n"
    }
   }
  },
  {
   "cell_type": "code",
   "execution_count": 217,
   "outputs": [
    {
     "name": "stdout",
     "output_type": "stream",
     "text": [
      "Encountered a faulty run with ID dark-sweep-71\n",
      "Encountered a faulty run with ID fluent-sweep-17\n"
     ]
    }
   ],
   "source": [
    "SWEEP_ID = \"afkhqbu9\"\n",
    "api = wandb.Api(timeout=200)\n",
    "runs = api.runs(ENTITY + \"/\" + PROJECT)\n",
    "sweep = api.sweep(f\"{ENTITY}/{PROJECT}/{SWEEP_ID}\")\n",
    "filename = f\"ar_flow_sweep_{SWEEP_ID}.csv\"\n",
    "runs_df_flow = sweep2df(sweep.runs, filename, save=True,load=False)"
   ],
   "metadata": {
    "collapsed": false,
    "pycharm": {
     "name": "#%%\n"
    }
   }
  },
  {
   "cell_type": "code",
   "execution_count": 218,
   "outputs": [],
   "source": [
    "runs_df = pd.concat([runs_df1, runs_df2]).reset_index(drop=True)"
   ],
   "metadata": {
    "collapsed": false,
    "pycharm": {
     "name": "#%%\n"
    }
   }
  },
  {
   "cell_type": "code",
   "execution_count": 219,
   "outputs": [
    {
     "data": {
      "text/plain": "                   name  dim  gamma_square   neg_elbo    kl_loss   rec_loss  \\\n0     polished-sweep-20    3      100000.0  -0.426595  -6.929638   7.356230   \n1         deep-sweep-19    3      100000.0  -3.257252  -8.536672  11.793924   \n2        sandy-sweep-18    3      100000.0   4.223285  -7.947907   3.724625   \n3     fragrant-sweep-17    3      100000.0  10.361102 -10.001373  -0.359727   \n4    dauntless-sweep-16    3      100000.0   9.389432  -9.437149   0.047718   \n..                  ...  ...           ...        ...        ...        ...   \n93        still-sweep-5    3      100000.0  -3.430891  -8.737994  12.168889   \n94     youthful-sweep-4    3      100000.0  -4.153049  -8.451396  12.604446   \n95         deep-sweep-3    3      100000.0  -0.189227 -12.081679  12.270907   \n96  distinctive-sweep-2    3      100000.0  -1.327792 -10.123688  11.451480   \n97      stellar-sweep-1    3      100000.0   2.779357 -14.784407  12.005050   \n\n      prior      cima       mcc  min_cima  ...   sigma_0   sigma_1   sigma_2  \\\n0   uniform  0.717031  0.502673  0.172821  ...  3.018892  0.001952  0.000478   \n1   uniform  1.194666  0.542405  0.293156  ...  2.991586  0.000270  0.000187   \n2   uniform  2.267430  0.614751  0.138228  ...  2.549276  0.001252  0.000134   \n3   uniform  1.639534  0.556086  0.243287  ...  2.925527  0.000079  0.000032   \n4   uniform  1.402014  0.585836  0.358532  ...  2.876235  0.000193  0.000031   \n..      ...       ...       ...       ...  ...       ...       ...       ...   \n93  uniform  0.012383  0.801024  0.003800  ...  0.029224  0.006585  0.000816   \n94  uniform  0.126966  0.948396  0.009967  ...  0.009998  0.011723  0.003336   \n95  uniform  0.012070  0.684325  0.011468  ...  0.003770  0.000460  0.000030   \n96  uniform  0.011415  0.864192  0.009971  ...  0.012086  0.000555  0.000773   \n97  uniform  0.273311  0.694524  0.255688  ...  0.000123  0.000061  0.000024   \n\n    col_norm_sq_0  col_norm_sq_1  col_norm_sq_2     rhs_0     rhs_1     rhs_2  \\\n0        0.000007       0.123075       0.378130  1.370781  0.000081  0.000026   \n1        0.000004       0.858828       1.054050  2.827401  0.000012  0.000009   \n2        0.000005       0.176430       1.558773  1.977094  0.000057  0.000006   \n3        0.000004       2.879470       5.636644  2.232702  0.000003  0.000002   \n4        0.000021       0.965567       6.395566  0.481879  0.000010  0.000002   \n..            ...            ...            ...       ...       ...       ...   \n93       0.014736       0.046537       0.327768  0.000679  0.000215  0.000031   \n94       0.033125       0.038381       0.103651  0.000302  0.000261  0.000096   \n95       0.056627       0.523196       7.148948  0.000177  0.000019  0.000001   \n96       0.022032       0.463141       0.355368  0.000454  0.000022  0.000028   \n97       1.526075       3.193430       8.649697  0.000007  0.000003  0.000001   \n\n    mixing_cima  \n0           NaN  \n1           NaN  \n2           NaN  \n3           NaN  \n4           NaN  \n..          ...  \n93         -1.0  \n94         -1.0  \n95         -1.0  \n96         -1.0  \n97         -1.0  \n\n[98 rows x 32 columns]",
      "text/html": "<div>\n<style scoped>\n    .dataframe tbody tr th:only-of-type {\n        vertical-align: middle;\n    }\n\n    .dataframe tbody tr th {\n        vertical-align: top;\n    }\n\n    .dataframe thead th {\n        text-align: right;\n    }\n</style>\n<table border=\"1\" class=\"dataframe\">\n  <thead>\n    <tr style=\"text-align: right;\">\n      <th></th>\n      <th>name</th>\n      <th>dim</th>\n      <th>gamma_square</th>\n      <th>neg_elbo</th>\n      <th>kl_loss</th>\n      <th>rec_loss</th>\n      <th>prior</th>\n      <th>cima</th>\n      <th>mcc</th>\n      <th>min_cima</th>\n      <th>...</th>\n      <th>sigma_0</th>\n      <th>sigma_1</th>\n      <th>sigma_2</th>\n      <th>col_norm_sq_0</th>\n      <th>col_norm_sq_1</th>\n      <th>col_norm_sq_2</th>\n      <th>rhs_0</th>\n      <th>rhs_1</th>\n      <th>rhs_2</th>\n      <th>mixing_cima</th>\n    </tr>\n  </thead>\n  <tbody>\n    <tr>\n      <th>0</th>\n      <td>polished-sweep-20</td>\n      <td>3</td>\n      <td>100000.0</td>\n      <td>-0.426595</td>\n      <td>-6.929638</td>\n      <td>7.356230</td>\n      <td>uniform</td>\n      <td>0.717031</td>\n      <td>0.502673</td>\n      <td>0.172821</td>\n      <td>...</td>\n      <td>3.018892</td>\n      <td>0.001952</td>\n      <td>0.000478</td>\n      <td>0.000007</td>\n      <td>0.123075</td>\n      <td>0.378130</td>\n      <td>1.370781</td>\n      <td>0.000081</td>\n      <td>0.000026</td>\n      <td>NaN</td>\n    </tr>\n    <tr>\n      <th>1</th>\n      <td>deep-sweep-19</td>\n      <td>3</td>\n      <td>100000.0</td>\n      <td>-3.257252</td>\n      <td>-8.536672</td>\n      <td>11.793924</td>\n      <td>uniform</td>\n      <td>1.194666</td>\n      <td>0.542405</td>\n      <td>0.293156</td>\n      <td>...</td>\n      <td>2.991586</td>\n      <td>0.000270</td>\n      <td>0.000187</td>\n      <td>0.000004</td>\n      <td>0.858828</td>\n      <td>1.054050</td>\n      <td>2.827401</td>\n      <td>0.000012</td>\n      <td>0.000009</td>\n      <td>NaN</td>\n    </tr>\n    <tr>\n      <th>2</th>\n      <td>sandy-sweep-18</td>\n      <td>3</td>\n      <td>100000.0</td>\n      <td>4.223285</td>\n      <td>-7.947907</td>\n      <td>3.724625</td>\n      <td>uniform</td>\n      <td>2.267430</td>\n      <td>0.614751</td>\n      <td>0.138228</td>\n      <td>...</td>\n      <td>2.549276</td>\n      <td>0.001252</td>\n      <td>0.000134</td>\n      <td>0.000005</td>\n      <td>0.176430</td>\n      <td>1.558773</td>\n      <td>1.977094</td>\n      <td>0.000057</td>\n      <td>0.000006</td>\n      <td>NaN</td>\n    </tr>\n    <tr>\n      <th>3</th>\n      <td>fragrant-sweep-17</td>\n      <td>3</td>\n      <td>100000.0</td>\n      <td>10.361102</td>\n      <td>-10.001373</td>\n      <td>-0.359727</td>\n      <td>uniform</td>\n      <td>1.639534</td>\n      <td>0.556086</td>\n      <td>0.243287</td>\n      <td>...</td>\n      <td>2.925527</td>\n      <td>0.000079</td>\n      <td>0.000032</td>\n      <td>0.000004</td>\n      <td>2.879470</td>\n      <td>5.636644</td>\n      <td>2.232702</td>\n      <td>0.000003</td>\n      <td>0.000002</td>\n      <td>NaN</td>\n    </tr>\n    <tr>\n      <th>4</th>\n      <td>dauntless-sweep-16</td>\n      <td>3</td>\n      <td>100000.0</td>\n      <td>9.389432</td>\n      <td>-9.437149</td>\n      <td>0.047718</td>\n      <td>uniform</td>\n      <td>1.402014</td>\n      <td>0.585836</td>\n      <td>0.358532</td>\n      <td>...</td>\n      <td>2.876235</td>\n      <td>0.000193</td>\n      <td>0.000031</td>\n      <td>0.000021</td>\n      <td>0.965567</td>\n      <td>6.395566</td>\n      <td>0.481879</td>\n      <td>0.000010</td>\n      <td>0.000002</td>\n      <td>NaN</td>\n    </tr>\n    <tr>\n      <th>...</th>\n      <td>...</td>\n      <td>...</td>\n      <td>...</td>\n      <td>...</td>\n      <td>...</td>\n      <td>...</td>\n      <td>...</td>\n      <td>...</td>\n      <td>...</td>\n      <td>...</td>\n      <td>...</td>\n      <td>...</td>\n      <td>...</td>\n      <td>...</td>\n      <td>...</td>\n      <td>...</td>\n      <td>...</td>\n      <td>...</td>\n      <td>...</td>\n      <td>...</td>\n      <td>...</td>\n    </tr>\n    <tr>\n      <th>93</th>\n      <td>still-sweep-5</td>\n      <td>3</td>\n      <td>100000.0</td>\n      <td>-3.430891</td>\n      <td>-8.737994</td>\n      <td>12.168889</td>\n      <td>uniform</td>\n      <td>0.012383</td>\n      <td>0.801024</td>\n      <td>0.003800</td>\n      <td>...</td>\n      <td>0.029224</td>\n      <td>0.006585</td>\n      <td>0.000816</td>\n      <td>0.014736</td>\n      <td>0.046537</td>\n      <td>0.327768</td>\n      <td>0.000679</td>\n      <td>0.000215</td>\n      <td>0.000031</td>\n      <td>-1.0</td>\n    </tr>\n    <tr>\n      <th>94</th>\n      <td>youthful-sweep-4</td>\n      <td>3</td>\n      <td>100000.0</td>\n      <td>-4.153049</td>\n      <td>-8.451396</td>\n      <td>12.604446</td>\n      <td>uniform</td>\n      <td>0.126966</td>\n      <td>0.948396</td>\n      <td>0.009967</td>\n      <td>...</td>\n      <td>0.009998</td>\n      <td>0.011723</td>\n      <td>0.003336</td>\n      <td>0.033125</td>\n      <td>0.038381</td>\n      <td>0.103651</td>\n      <td>0.000302</td>\n      <td>0.000261</td>\n      <td>0.000096</td>\n      <td>-1.0</td>\n    </tr>\n    <tr>\n      <th>95</th>\n      <td>deep-sweep-3</td>\n      <td>3</td>\n      <td>100000.0</td>\n      <td>-0.189227</td>\n      <td>-12.081679</td>\n      <td>12.270907</td>\n      <td>uniform</td>\n      <td>0.012070</td>\n      <td>0.684325</td>\n      <td>0.011468</td>\n      <td>...</td>\n      <td>0.003770</td>\n      <td>0.000460</td>\n      <td>0.000030</td>\n      <td>0.056627</td>\n      <td>0.523196</td>\n      <td>7.148948</td>\n      <td>0.000177</td>\n      <td>0.000019</td>\n      <td>0.000001</td>\n      <td>-1.0</td>\n    </tr>\n    <tr>\n      <th>96</th>\n      <td>distinctive-sweep-2</td>\n      <td>3</td>\n      <td>100000.0</td>\n      <td>-1.327792</td>\n      <td>-10.123688</td>\n      <td>11.451480</td>\n      <td>uniform</td>\n      <td>0.011415</td>\n      <td>0.864192</td>\n      <td>0.009971</td>\n      <td>...</td>\n      <td>0.012086</td>\n      <td>0.000555</td>\n      <td>0.000773</td>\n      <td>0.022032</td>\n      <td>0.463141</td>\n      <td>0.355368</td>\n      <td>0.000454</td>\n      <td>0.000022</td>\n      <td>0.000028</td>\n      <td>-1.0</td>\n    </tr>\n    <tr>\n      <th>97</th>\n      <td>stellar-sweep-1</td>\n      <td>3</td>\n      <td>100000.0</td>\n      <td>2.779357</td>\n      <td>-14.784407</td>\n      <td>12.005050</td>\n      <td>uniform</td>\n      <td>0.273311</td>\n      <td>0.694524</td>\n      <td>0.255688</td>\n      <td>...</td>\n      <td>0.000123</td>\n      <td>0.000061</td>\n      <td>0.000024</td>\n      <td>1.526075</td>\n      <td>3.193430</td>\n      <td>8.649697</td>\n      <td>0.000007</td>\n      <td>0.000003</td>\n      <td>0.000001</td>\n      <td>-1.0</td>\n    </tr>\n  </tbody>\n</table>\n<p>98 rows × 32 columns</p>\n</div>"
     },
     "execution_count": 219,
     "metadata": {},
     "output_type": "execute_result"
    }
   ],
   "source": [
    "runs_df"
   ],
   "metadata": {
    "collapsed": false,
    "pycharm": {
     "name": "#%%\n"
    }
   }
  },
  {
   "cell_type": "code",
   "execution_count": 284,
   "outputs": [
    {
     "data": {
      "text/plain": "count    98.000000\nmean      2.386011\nstd       1.283448\nmin       0.394013\n25%       1.440110\n50%       2.100690\n75%       2.995080\nmax       6.746654\nName: mixing_linear_map_cima, dtype: float64"
     },
     "execution_count": 284,
     "metadata": {},
     "output_type": "execute_result"
    }
   ],
   "source": [
    "runs_df.mixing_linear_map_cima.describe()"
   ],
   "metadata": {
    "collapsed": false,
    "pycharm": {
     "name": "#%%\n"
    }
   }
  },
  {
   "cell_type": "code",
   "execution_count": 283,
   "outputs": [
    {
     "data": {
      "text/plain": "count    32.000000\nmean      0.296732\nstd       0.494948\nmin       0.001776\n25%       0.041143\n50%       0.154275\n75%       0.298656\nmax       2.593789\nName: mixing_cima, dtype: float64"
     },
     "execution_count": 283,
     "metadata": {},
     "output_type": "execute_result"
    }
   ],
   "source": [
    "runs_df_flow.mixing_cima.describe()"
   ],
   "metadata": {
    "collapsed": false,
    "pycharm": {
     "name": "#%%\n"
    }
   }
  },
  {
   "cell_type": "code",
   "execution_count": 249,
   "outputs": [
    {
     "data": {
      "text/plain": "(<AxesSubplot:>, <AxesSubplot:>)"
     },
     "execution_count": 249,
     "metadata": {},
     "output_type": "execute_result"
    },
    {
     "data": {
      "text/plain": "<Figure size 396x244.741 with 1 Axes>",
      "image/png": "[encoded data removed]"
     },
     "metadata": {
      "needs_background": "light"
     },
     "output_type": "display_data"
    }
   ],
   "source": [
    "runs_df.mixing_linear_map_cima.hist(), runs_df_flow.mixing_cima.hist()"
   ],
   "metadata": {
    "collapsed": false,
    "pycharm": {
     "name": "#%%\n"
    }
   }
  },
  {
   "cell_type": "code",
   "execution_count": 287,
   "outputs": [
    {
     "data": {
      "text/plain": "<Figure size 396x244.741 with 1 Axes>",
      "image/png": "[encoded data removed]"
     },
     "metadata": {
      "needs_background": "light"
     },
     "output_type": "display_data"
    }
   ],
   "source": [
    "quartile_bins = runs_df_flow.mixing_cima.describe()[[\"min\", \"25%\", \"50%\", \"75%\", \"max\"]].tolist()\n",
    "NUM_BINS = 8#len(quartile_bins)\n",
    "bins = np.logspace( np.log10(runs_df_flow.mixing_cima.min()-1e-8), np.log10(runs_df_flow.mixing_cima.max()+1e-8), NUM_BINS)\n",
    "binned_cima = pd.cut(runs_df_flow.mixing_cima, bins=bins, labels=list(range(NUM_BINS-1)), retbins=False, right=True, include_lowest=True)\n",
    "\n",
    "groups = [runs_df_flow.mcc4min_neg_elbo[binned_cima==label] for label in list(range(NUM_BINS-1))]\n",
    "vp = plt.violinplot(groups, showmedians=True)\n",
    "format_violin(vp)"
   ],
   "metadata": {
    "collapsed": false,
    "pycharm": {
     "name": "#%%\n"
    }
   }
  },
  {
   "cell_type": "markdown",
   "source": [],
   "metadata": {
    "collapsed": false,
    "pycharm": {
     "name": "#%% md\n"
    }
   }
  },
  {
   "cell_type": "code",
   "execution_count": 185,
   "outputs": [],
   "source": [],
   "metadata": {
    "collapsed": false,
    "pycharm": {
     "name": "#%%\n"
    }
   }
  },
  {
   "cell_type": "code",
   "execution_count": 37,
   "outputs": [],
   "source": [
    "\"\"\"Data for Mobius with linear maps\"\"\"\n",
    "quartile_bins = runs_df.mixing_linear_map_cima.describe()[[\"min\", \"25%\", \"50%\", \"75%\", \"max\"]].tolist()\n",
    "NUM_BINS = 6 #len(quartile_bins)\n",
    "bins = np.logspace( np.log10(runs_df.mixing_linear_map_cima.min()-1e-8), np.log10(runs_df.mixing_linear_map_cima.max()+1e-8), NUM_BINS)\n",
    "binned_cima, retbins = pd.cut(runs_df.mixing_linear_map_cima, bins=bins, labels=list(range(NUM_BINS-1)), retbins=True, right=True, include_lowest=True)"
   ],
   "metadata": {
    "collapsed": false,
    "pycharm": {
     "name": "#%%\n"
    }
   }
  },
  {
   "cell_type": "code",
   "execution_count": 279,
   "outputs": [
    {
     "name": "stderr",
     "output_type": "stream",
     "text": [
      "/var/folders/rb/d8k1n6bj4lg801y0yxz4jtbh0000gn/T/ipykernel_40393/3764264506.py:29: UserWarning: FixedFormatter should only be used together with FixedLocator\n",
      "  ax.set_xticklabels( xticklabels)\n"
     ]
    },
    {
     "data": {
      "text/plain": "<Figure size 396x244.741 with 1 Axes>",
      "image/png": "[encoded data removed]"
     },
     "metadata": {
      "needs_background": "light"
     },
     "output_type": "display_data"
    }
   ],
   "source": [
    "fig = plt.figure(figsize=figsizes.neurips2022(nrows=1, ncols=1)['figure.figsize'])\n",
    "\n",
    "# \"\"\"MCC vs CIMA over different gamma\"\"\"\n",
    "# ax = fig.add_subplot(121)\n",
    "# ax2 = ax.twinx()\n",
    "#\n",
    "# vp= ax.violinplot([np.log10(g) for g in gg_cima], showmedians=True)\n",
    "# format_violin(vp)\n",
    "# ax.set_ylabel(\"$\\log_{10} C_{IMA}$\")\n",
    "#\n",
    "# vp2= ax2.violinplot(gg_mcc, showmedians=True)\n",
    "# format_violin(vp2,'#D0021B')\n",
    "# ax2.set_ylabel(\"$MCC$\")\n",
    "#\n",
    "# ax.set_xlabel(\"$\\log_{10}\\gamma^2$\")\n",
    "# ax.set_xticklabels([0]+ sorted(np.log10(runs_df[\"gamma_square\"]).astype(int).unique()))\n",
    "# plt.legend([vp['bodies'][0],vp2['bodies'][0]], [\"$\\log_{10} C_{IMA}$\", \"$MCC$\"], loc='right')\n",
    "\n",
    "\"\"\"MCC vs the mixing lin map's CIMA\"\"\"\n",
    "groups = [runs_df.mcc4min_neg_elbo[binned_cima==label] for label in list(range(NUM_BINS-1))]\n",
    "ax = fig.add_subplot(111)\n",
    "vp = plt.violinplot(groups, showmedians=True)\n",
    "format_violin(vp)\n",
    "\n",
    "ax.set_ylabel(\"$MCC$\")\n",
    "ax.set_xlabel(\"$\\log_{10}C_{IMA}$\")\n",
    "logbins = sorted(np.log10(bins))\n",
    "xticklabels = [0]+[f\"$[{logbins[i]:.3f};{logbins[i+1]:.3f})$\" for i in range(NUM_BINS-1)]\n",
    "ax.set_xticklabels( xticklabels)\n",
    "\n",
    "plt.legend([vp['bodies'][0],], [\"$MCC$\"], loc='upper right')\n",
    "\n",
    "\n",
    "plt.savefig(\"moebius_mcc_lin_map_cima.svg\")"
   ],
   "metadata": {
    "collapsed": false,
    "pycharm": {
     "name": "#%%\n"
    }
   }
  }
 ],
 "metadata": {
  "kernelspec": {
   "display_name": "Python 3 (ipykernel)",
   "language": "python",
   "name": "python3"
  },
  "language_info": {
   "codemirror_mode": {
    "name": "ipython",
    "version": 3
   },
   "file_extension": ".py",
   "mimetype": "text/x-python",
   "name": "python",
   "nbconvert_exporter": "python",
   "pygments_lexer": "ipython3",
   "version": "3.9.6"
  }
 },
 "nbformat": 4,
 "nbformat_minor": 1
}