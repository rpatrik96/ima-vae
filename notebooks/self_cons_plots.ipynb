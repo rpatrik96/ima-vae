{
 "cells": [
  {
   "cell_type": "code",
   "execution_count": 16,
   "metadata": {
    "pycharm": {
     "name": "#%%\n"
    }
   },
   "outputs": [
    {
     "name": "stdout",
     "output_type": "stream",
     "text": [
      "The autoreload extension is already loaded. To reload it, use:\n",
      "  %reload_ext autoreload\n"
     ]
    }
   ],
   "source": [
    "# imports\n",
    "from tueplots import bundles\n",
    "import wandb\n",
    "import pandas as pd\n",
    "import numpy as np\n",
    "import matplotlib.pyplot as plt\n",
    "from matplotlib.ticker import MultipleLocator, FormatStrFormatter\n",
    "from tueplots import figsizes\n",
    "\n",
    "import sys\n",
    "%load_ext autoreload\n",
    "%autoreload 2\n",
    "\n",
    "sys.path.insert(0, '.')"
   ]
  },
  {
   "cell_type": "code",
   "execution_count": 2,
   "outputs": [],
   "source": [
    "from analysis import sweep2df"
   ],
   "metadata": {
    "collapsed": false,
    "pycharm": {
     "name": "#%%\n"
    }
   }
  },
  {
   "cell_type": "code",
   "execution_count": 3,
   "outputs": [
    {
     "name": "stderr",
     "output_type": "stream",
     "text": [
      "/usr/local/Cellar/python@3.9/3.9.6/Frameworks/Python.framework/Versions/3.9/lib/python3.9/_collections_abc.py:940: MatplotlibDeprecationWarning: Support for setting the 'text.latex.preamble' or 'pgf.preamble' rcParam to a list of strings is deprecated since 3.3 and will be removed two minor releases later; set it to a single string instead.\n",
      "  self[key] = other[key]\n"
     ]
    }
   ],
   "source": [
    "plt.rcParams.update(bundles.neurips2022(usetex=True))\n",
    "plt.rcParams.update({\n",
    "    'text.latex.preamble': [r'\\usepackage{amsfonts}', # mathbb\n",
    "                            r'\\usepackage{amsmath}'] # boldsymbol\n",
    "})"
   ],
   "metadata": {
    "collapsed": false,
    "pycharm": {
     "name": "#%%\n"
    }
   }
  },
  {
   "cell_type": "markdown",
   "source": [
    "# Data loading"
   ],
   "metadata": {
    "collapsed": false,
    "pycharm": {
     "name": "#%% md\n"
    }
   }
  },
  {
   "cell_type": "code",
   "execution_count": 4,
   "metadata": {
    "pycharm": {
     "name": "#%%\n"
    }
   },
   "outputs": [],
   "source": [
    "# Constants\n",
    "ENTITY = \"ima-vae\"\n",
    "PROJECT = \"priors\"\n",
    "SWEEP_ID = \"k2u5yzbe\"\n"
   ]
  },
  {
   "cell_type": "code",
   "execution_count": 5,
   "metadata": {
    "pycharm": {
     "name": "#%%\n"
    }
   },
   "outputs": [],
   "source": [
    "api = wandb.Api(timeout=200)\n",
    "runs = api.runs(ENTITY + \"/\" + PROJECT)\n",
    "sweep = api.sweep(f\"{ENTITY}/{PROJECT}/{SWEEP_ID}\")\n",
    "filename = f\"mlp_sweep_{SWEEP_ID}.csv\""
   ]
  },
  {
   "cell_type": "code",
   "execution_count": 6,
   "metadata": {
    "pycharm": {
     "name": "#%%\n"
    }
   },
   "outputs": [
    {
     "name": "stdout",
     "output_type": "stream",
     "text": [
      "\t Loading mlp_sweep_k2u5yzbe.csv...\n"
     ]
    }
   ],
   "source": [
    "runs_df = sweep2df(sweep.runs, filename, save=True, load=True)"
   ]
  },
  {
   "cell_type": "code",
   "execution_count": 7,
   "outputs": [],
   "source": [
    "runs_df = runs_df[runs_df.gamma_square <= 1e5]"
   ],
   "metadata": {
    "collapsed": false,
    "pycharm": {
     "name": "#%%\n"
    }
   }
  },
  {
   "cell_type": "markdown",
   "source": [
    "## Data inspection"
   ],
   "metadata": {
    "collapsed": false,
    "pycharm": {
     "name": "#%% md\n"
    }
   }
  },
  {
   "cell_type": "markdown",
   "source": [],
   "metadata": {
    "collapsed": false,
    "pycharm": {
     "name": "#%% md\n"
    }
   }
  },
  {
   "cell_type": "code",
   "execution_count": 12,
   "outputs": [
    {
     "data": {
      "text/plain": "             cima4min_neg_elbo                                          \\\n                         count      mean       std       min       25%   \ngamma_square                                                             \n10.0                      20.0  0.000323  0.000192  0.000081  0.000206   \n100.0                     20.0  0.000080  0.000047  0.000044  0.000049   \n1000.0                    20.0  0.000085  0.000036  0.000038  0.000061   \n10000.0                   20.0  0.000194  0.000122  0.000070  0.000122   \n100000.0                  20.0  0.002921  0.004313  0.000150  0.000670   \n1000000.0                 20.0  0.011433  0.014424  0.000535  0.003817   \n\n                                            \n                   50%       75%       max  \ngamma_square                                \n10.0          0.000280  0.000422  0.000786  \n100.0         0.000068  0.000087  0.000239  \n1000.0        0.000069  0.000124  0.000152  \n10000.0       0.000150  0.000206  0.000508  \n100000.0      0.001527  0.002333  0.015286  \n1000000.0     0.007682  0.013934  0.067504  ",
      "text/html": "<div>\n<style scoped>\n    .dataframe tbody tr th:only-of-type {\n        vertical-align: middle;\n    }\n\n    .dataframe tbody tr th {\n        vertical-align: top;\n    }\n\n    .dataframe thead tr th {\n        text-align: left;\n    }\n\n    .dataframe thead tr:last-of-type th {\n        text-align: right;\n    }\n</style>\n<table border=\"1\" class=\"dataframe\">\n  <thead>\n    <tr>\n      <th></th>\n      <th colspan=\"8\" halign=\"left\">cima4min_neg_elbo</th>\n    </tr>\n    <tr>\n      <th></th>\n      <th>count</th>\n      <th>mean</th>\n      <th>std</th>\n      <th>min</th>\n      <th>25%</th>\n      <th>50%</th>\n      <th>75%</th>\n      <th>max</th>\n    </tr>\n    <tr>\n      <th>gamma_square</th>\n      <th></th>\n      <th></th>\n      <th></th>\n      <th></th>\n      <th></th>\n      <th></th>\n      <th></th>\n      <th></th>\n    </tr>\n  </thead>\n  <tbody>\n    <tr>\n      <th>10.0</th>\n      <td>20.0</td>\n      <td>0.000323</td>\n      <td>0.000192</td>\n      <td>0.000081</td>\n      <td>0.000206</td>\n      <td>0.000280</td>\n      <td>0.000422</td>\n      <td>0.000786</td>\n    </tr>\n    <tr>\n      <th>100.0</th>\n      <td>20.0</td>\n      <td>0.000080</td>\n      <td>0.000047</td>\n      <td>0.000044</td>\n      <td>0.000049</td>\n      <td>0.000068</td>\n      <td>0.000087</td>\n      <td>0.000239</td>\n    </tr>\n    <tr>\n      <th>1000.0</th>\n      <td>20.0</td>\n      <td>0.000085</td>\n      <td>0.000036</td>\n      <td>0.000038</td>\n      <td>0.000061</td>\n      <td>0.000069</td>\n      <td>0.000124</td>\n      <td>0.000152</td>\n    </tr>\n    <tr>\n      <th>10000.0</th>\n      <td>20.0</td>\n      <td>0.000194</td>\n      <td>0.000122</td>\n      <td>0.000070</td>\n      <td>0.000122</td>\n      <td>0.000150</td>\n      <td>0.000206</td>\n      <td>0.000508</td>\n    </tr>\n    <tr>\n      <th>100000.0</th>\n      <td>20.0</td>\n      <td>0.002921</td>\n      <td>0.004313</td>\n      <td>0.000150</td>\n      <td>0.000670</td>\n      <td>0.001527</td>\n      <td>0.002333</td>\n      <td>0.015286</td>\n    </tr>\n    <tr>\n      <th>1000000.0</th>\n      <td>20.0</td>\n      <td>0.011433</td>\n      <td>0.014424</td>\n      <td>0.000535</td>\n      <td>0.003817</td>\n      <td>0.007682</td>\n      <td>0.013934</td>\n      <td>0.067504</td>\n    </tr>\n  </tbody>\n</table>\n</div>"
     },
     "execution_count": 12,
     "metadata": {},
     "output_type": "execute_result"
    }
   ],
   "source": [
    "runs_df[[ \"cima4min_neg_elbo\", \"gamma_square\"]].groupby(\"gamma_square\").describe()"
   ],
   "metadata": {
    "collapsed": false,
    "pycharm": {
     "name": "#%%\n"
    }
   }
  },
  {
   "cell_type": "code",
   "execution_count": 13,
   "outputs": [
    {
     "data": {
      "text/plain": "             mcc4min_neg_elbo                                          \\\n                        count      mean       std       min       25%   \ngamma_square                                                            \n10.0                     20.0  0.772567  0.069567  0.657052  0.718902   \n100.0                    20.0  0.817722  0.070872  0.690639  0.764773   \n1000.0                   20.0  0.820650  0.074847  0.673085  0.781316   \n10000.0                  20.0  0.819645  0.075730  0.677624  0.774213   \n100000.0                 20.0  0.819170  0.073330  0.687830  0.777809   \n1000000.0                20.0  0.818180  0.073318  0.700416  0.778697   \n\n                                            \n                   50%       75%       max  \ngamma_square                                \n10.0          0.787214  0.803759  0.913309  \n100.0         0.829019  0.861029  0.967725  \n1000.0        0.835685  0.866475  0.973323  \n10000.0       0.845035  0.867481  0.968253  \n100000.0      0.834189  0.870567  0.966177  \n1000000.0     0.830764  0.869964  0.965708  ",
      "text/html": "<div>\n<style scoped>\n    .dataframe tbody tr th:only-of-type {\n        vertical-align: middle;\n    }\n\n    .dataframe tbody tr th {\n        vertical-align: top;\n    }\n\n    .dataframe thead tr th {\n        text-align: left;\n    }\n\n    .dataframe thead tr:last-of-type th {\n        text-align: right;\n    }\n</style>\n<table border=\"1\" class=\"dataframe\">\n  <thead>\n    <tr>\n      <th></th>\n      <th colspan=\"8\" halign=\"left\">mcc4min_neg_elbo</th>\n    </tr>\n    <tr>\n      <th></th>\n      <th>count</th>\n      <th>mean</th>\n      <th>std</th>\n      <th>min</th>\n      <th>25%</th>\n      <th>50%</th>\n      <th>75%</th>\n      <th>max</th>\n    </tr>\n    <tr>\n      <th>gamma_square</th>\n      <th></th>\n      <th></th>\n      <th></th>\n      <th></th>\n      <th></th>\n      <th></th>\n      <th></th>\n      <th></th>\n    </tr>\n  </thead>\n  <tbody>\n    <tr>\n      <th>10.0</th>\n      <td>20.0</td>\n      <td>0.772567</td>\n      <td>0.069567</td>\n      <td>0.657052</td>\n      <td>0.718902</td>\n      <td>0.787214</td>\n      <td>0.803759</td>\n      <td>0.913309</td>\n    </tr>\n    <tr>\n      <th>100.0</th>\n      <td>20.0</td>\n      <td>0.817722</td>\n      <td>0.070872</td>\n      <td>0.690639</td>\n      <td>0.764773</td>\n      <td>0.829019</td>\n      <td>0.861029</td>\n      <td>0.967725</td>\n    </tr>\n    <tr>\n      <th>1000.0</th>\n      <td>20.0</td>\n      <td>0.820650</td>\n      <td>0.074847</td>\n      <td>0.673085</td>\n      <td>0.781316</td>\n      <td>0.835685</td>\n      <td>0.866475</td>\n      <td>0.973323</td>\n    </tr>\n    <tr>\n      <th>10000.0</th>\n      <td>20.0</td>\n      <td>0.819645</td>\n      <td>0.075730</td>\n      <td>0.677624</td>\n      <td>0.774213</td>\n      <td>0.845035</td>\n      <td>0.867481</td>\n      <td>0.968253</td>\n    </tr>\n    <tr>\n      <th>100000.0</th>\n      <td>20.0</td>\n      <td>0.819170</td>\n      <td>0.073330</td>\n      <td>0.687830</td>\n      <td>0.777809</td>\n      <td>0.834189</td>\n      <td>0.870567</td>\n      <td>0.966177</td>\n    </tr>\n    <tr>\n      <th>1000000.0</th>\n      <td>20.0</td>\n      <td>0.818180</td>\n      <td>0.073318</td>\n      <td>0.700416</td>\n      <td>0.778697</td>\n      <td>0.830764</td>\n      <td>0.869964</td>\n      <td>0.965708</td>\n    </tr>\n  </tbody>\n</table>\n</div>"
     },
     "execution_count": 13,
     "metadata": {},
     "output_type": "execute_result"
    }
   ],
   "source": [
    "runs_df[[ \"mcc4min_neg_elbo\", \"gamma_square\"]].groupby(\"gamma_square\").describe()"
   ],
   "metadata": {
    "collapsed": false,
    "pycharm": {
     "name": "#%%\n"
    }
   }
  },
  {
   "cell_type": "code",
   "execution_count": 14,
   "outputs": [
    {
     "data": {
      "text/plain": "             min_neg_elbo                                                    \\\n                    count      mean       std       min       25%       50%   \ngamma_square                                                                  \n10.0                 20.0  4.263436  0.002470  4.258281  4.261927  4.263021   \n100.0                20.0  4.276257  0.005615  4.267282  4.271860  4.276455   \n1000.0               20.0  4.329178  0.021063  4.294472  4.311069  4.327895   \n10000.0              20.0  4.504620  0.079485  4.392209  4.443849  4.498628   \n100000.0             20.0  5.145434  0.364360  4.777776  4.901717  5.043657   \n1000000.0            20.0  8.800124  2.260568  6.828425  7.397291  8.272244   \n\n                                   \n                   75%        max  \ngamma_square                       \n10.0          4.265005   4.268206  \n100.0         4.278580   4.288528  \n1000.0        4.343697   4.373414  \n10000.0       4.560320   4.651727  \n100000.0      5.209848   6.169360  \n1000000.0     9.172992  16.827099  ",
      "text/html": "<div>\n<style scoped>\n    .dataframe tbody tr th:only-of-type {\n        vertical-align: middle;\n    }\n\n    .dataframe tbody tr th {\n        vertical-align: top;\n    }\n\n    .dataframe thead tr th {\n        text-align: left;\n    }\n\n    .dataframe thead tr:last-of-type th {\n        text-align: right;\n    }\n</style>\n<table border=\"1\" class=\"dataframe\">\n  <thead>\n    <tr>\n      <th></th>\n      <th colspan=\"8\" halign=\"left\">min_neg_elbo</th>\n    </tr>\n    <tr>\n      <th></th>\n      <th>count</th>\n      <th>mean</th>\n      <th>std</th>\n      <th>min</th>\n      <th>25%</th>\n      <th>50%</th>\n      <th>75%</th>\n      <th>max</th>\n    </tr>\n    <tr>\n      <th>gamma_square</th>\n      <th></th>\n      <th></th>\n      <th></th>\n      <th></th>\n      <th></th>\n      <th></th>\n      <th></th>\n      <th></th>\n    </tr>\n  </thead>\n  <tbody>\n    <tr>\n      <th>10.0</th>\n      <td>20.0</td>\n      <td>4.263436</td>\n      <td>0.002470</td>\n      <td>4.258281</td>\n      <td>4.261927</td>\n      <td>4.263021</td>\n      <td>4.265005</td>\n      <td>4.268206</td>\n    </tr>\n    <tr>\n      <th>100.0</th>\n      <td>20.0</td>\n      <td>4.276257</td>\n      <td>0.005615</td>\n      <td>4.267282</td>\n      <td>4.271860</td>\n      <td>4.276455</td>\n      <td>4.278580</td>\n      <td>4.288528</td>\n    </tr>\n    <tr>\n      <th>1000.0</th>\n      <td>20.0</td>\n      <td>4.329178</td>\n      <td>0.021063</td>\n      <td>4.294472</td>\n      <td>4.311069</td>\n      <td>4.327895</td>\n      <td>4.343697</td>\n      <td>4.373414</td>\n    </tr>\n    <tr>\n      <th>10000.0</th>\n      <td>20.0</td>\n      <td>4.504620</td>\n      <td>0.079485</td>\n      <td>4.392209</td>\n      <td>4.443849</td>\n      <td>4.498628</td>\n      <td>4.560320</td>\n      <td>4.651727</td>\n    </tr>\n    <tr>\n      <th>100000.0</th>\n      <td>20.0</td>\n      <td>5.145434</td>\n      <td>0.364360</td>\n      <td>4.777776</td>\n      <td>4.901717</td>\n      <td>5.043657</td>\n      <td>5.209848</td>\n      <td>6.169360</td>\n    </tr>\n    <tr>\n      <th>1000000.0</th>\n      <td>20.0</td>\n      <td>8.800124</td>\n      <td>2.260568</td>\n      <td>6.828425</td>\n      <td>7.397291</td>\n      <td>8.272244</td>\n      <td>9.172992</td>\n      <td>16.827099</td>\n    </tr>\n  </tbody>\n</table>\n</div>"
     },
     "execution_count": 14,
     "metadata": {},
     "output_type": "execute_result"
    }
   ],
   "source": [
    "runs_df[[ \"min_neg_elbo\", \"gamma_square\"]].groupby(\"gamma_square\").describe()"
   ],
   "metadata": {
    "collapsed": false,
    "pycharm": {
     "name": "#%%\n"
    }
   }
  },
  {
   "cell_type": "markdown",
   "source": [
    "# Data Pre-processing"
   ],
   "metadata": {
    "collapsed": false,
    "pycharm": {
     "name": "#%% md\n"
    }
   }
  },
  {
   "cell_type": "markdown",
   "source": [
    "$$ \\sigma_k^2 (x) = \\left(-n''(\\mu_k^\\phi(x)) + \\gamma^2 \\left\\Vert \\left[ J_f(g(x))\\right]_{:k}\\right\\Vert^2\\right)^{-1} $$"
   ],
   "metadata": {
    "collapsed": false,
    "pycharm": {
     "name": "#%% md\n"
    }
   }
  },
  {
   "cell_type": "code",
   "execution_count": 8,
   "outputs": [],
   "source": [
    "df_rhs = pd.DataFrame(runs_df[[col for col in runs_df.columns if \"rhs\" in col]].stack().droplevel(1), columns=[\"rhs\"])\n",
    "df_lhs = pd.DataFrame(runs_df[[col for col in runs_df.columns if \"sigma\" in col]].stack().droplevel(1), columns=[\"lhs\"])\n",
    "df_rhs_lhs_gamma_sq = df_rhs.merge( df_lhs, left_index=True, right_index=True).merge(runs_df[\"gamma_square\"], left_index=True, right_index=True)"
   ],
   "metadata": {
    "collapsed": false,
    "pycharm": {
     "name": "#%%\n"
    }
   }
  },
  {
   "cell_type": "code",
   "execution_count": 9,
   "outputs": [],
   "source": [
    "df_mse_sources_mean_decoded_sources = pd.DataFrame(runs_df[[col for col in runs_df.columns if col == \"mse_sources_mean_decoded_sources\"]].stack().droplevel(1), columns=[\"mse_sources_mean_decoded_sources\"])\n",
    "df_mse_obs_decoded_mean_latents = pd.DataFrame(runs_df[[col for col in runs_df.columns if col == \"mse_obs_decoded_mean_latents\"]].stack().droplevel(1), columns=[\"mse_obs_decoded_mean_latents\"])\n",
    "df_mse_gamma_sq = df_mse_sources_mean_decoded_sources.merge( df_mse_obs_decoded_mean_latents, left_index=True, right_index=True).merge(runs_df[\"gamma_square\"], left_index=True, right_index=True)"
   ],
   "metadata": {
    "collapsed": false,
    "pycharm": {
     "name": "#%%\n"
    }
   }
  },
  {
   "cell_type": "markdown",
   "source": [
    "# Plot"
   ],
   "metadata": {
    "collapsed": false,
    "pycharm": {
     "name": "#%% md\n"
    }
   }
  },
  {
   "cell_type": "code",
   "execution_count": 18,
   "outputs": [],
   "source": [
    "log10 = \"\\log_{10}\"\n",
    "x = r\"{\\boldsymbol{x}}\"\n",
    "gsq = \"\\gamma^2\"\n",
    "phi = r\"{\\boldsymbol{\\phi}}\"\n"
   ],
   "metadata": {
    "collapsed": false,
    "pycharm": {
     "name": "#%%\n"
    }
   }
  },
  {
   "cell_type": "code",
   "execution_count": 11,
   "outputs": [
    {
     "name": "stderr",
     "output_type": "stream",
     "text": [
      "/var/folders/rb/d8k1n6bj4lg801y0yxz4jtbh0000gn/T/ipykernel_75408/1117137172.py:45: MatplotlibDeprecationWarning: Starting from Matplotlib 3.6, colorbar() will steal space from the mappable's axes, rather than from the current axes, to place the colorbar.  To silence this warning, explicitly pass the 'ax' argument to colorbar().\n",
      "  cbar = fig.colorbar(im)\n"
     ]
    },
    {
     "data": {
      "text/plain": "<Figure size 396x122.371 with 3 Axes>",
      "image/png": "[encoded data removed]"
     },
     "metadata": {
      "needs_background": "light"
     },
     "output_type": "display_data"
    }
   ],
   "source": [
    "TICK_PADDING = 2\n",
    "LABELPAD = 1\n",
    "cmap = \"coolwarm\"\n",
    "\n",
    "fig = plt.figure(figsize=figsizes.neurips2022(nrows=1, ncols=2)['figure.figsize'])\n",
    "\n",
    "ax = fig.add_subplot(121)\n",
    "ax.grid(True, which=\"both\", ls=\"-.\")\n",
    "ax.set_axisbelow(True)\n",
    "\n",
    "im = ax.scatter(np.log10(df_rhs_lhs_gamma_sq.gamma_square), np.log10(df_rhs_lhs_gamma_sq.lhs), c=np.log10(df_rhs_lhs_gamma_sq.gamma_square), cmap=cmap)\n",
    "# ax.plot(np.linspace(.85, 6), -np.linspace(.85, 6), c=\"black\", label='$y=x^{-2}$')\n",
    "ax.set_ylabel(r\"$%s{{\\sigma}}^{%s}_k(%s)^2$\" % (log10, phi, x), labelpad=LABELPAD)\n",
    "ax.set_xlabel(\"$%s%s$\" % (log10, gsq), labelpad=LABELPAD)\n",
    "# plt.legend()\n",
    "ax.tick_params(axis='both', which='major', pad=TICK_PADDING)\n",
    "\n",
    "# ax = fig.add_subplot(132)\n",
    "# ax.grid(True, which=\"both\", ls=\"-.\")\n",
    "# ax.set_axisbelow(True)\n",
    "#\n",
    "# ax.scatter(np.log10(df_rhs_lhs_gamma_sq.lhs), np.log10(df_rhs_lhs_gamma_sq.rhs), c=np.log10(df_rhs_lhs_gamma_sq.gamma_square), cmap=cmap)\n",
    "# # ax.plot(np.linspace(-6, 0.), np.linspace(-6, 0.), c=\"black\", label='$y=x$')\n",
    "# ax.set_ylabel(\"$%s \\mathrm{RHS}$\" % log10, labelpad=LABELPAD)\n",
    "# ax.set_xlabel(\"$%s \\mathrm{LHS}$\" % log10, labelpad=LABELPAD)\n",
    "# # plt.legend()\n",
    "# ax.tick_params(axis='both', which='major', pad=TICK_PADDING)\n",
    "\n",
    "\n",
    "ax = fig.add_subplot(122)\n",
    "ax.grid(True, which=\"both\", ls=\"-.\")\n",
    "ax.set_axisbelow(True)\n",
    "\n",
    "ax.scatter(np.log10(df_mse_gamma_sq.gamma_square), np.log10((df_mse_gamma_sq.mse_obs_decoded_mean_latents)), c=np.log10(df_mse_gamma_sq.gamma_square), cmap=cmap)\n",
    "# ax.plot(np.linspace(.85, 6), -np.linspace(.85, 6), c=\"black\", label='$y=x$')\n",
    "\n",
    "ax.set_ylabel(\n",
    "    r\"${%s} \\Vert  {\\boldsymbol{f}}^{{\\boldsymbol{\\theta}}} ( {\\boldsymbol{\\mu}}^{%s} (%s) ) - %s \\Vert^2_2$\" % (\n",
    "        log10, phi, x, x), labelpad=LABELPAD)\n",
    "\n",
    "ax.set_xlabel(\"$%s%s$\" % (log10, gsq), labelpad=LABELPAD)\n",
    "# plt.legend()\n",
    "ax.tick_params(axis='both', which='major', pad=TICK_PADDING)\n",
    "\n",
    "cbar = fig.colorbar(im)\n",
    "# cbar.ax.set_yticklabels(['0','1','2','>3'])\n",
    "cbar.set_label('$%s%s$' % (log10, gsq), rotation=270)\n",
    "cbar.ax.get_yaxis().labelpad = 13\n",
    "plt.savefig(\"self_cons_mlp_gauss_two_panel.svg\")"
   ],
   "metadata": {
    "collapsed": false,
    "pycharm": {
     "name": "#%%\n"
    }
   }
  },
  {
   "cell_type": "markdown",
   "source": [
    "## $\\gamma$ vs its MLE"
   ],
   "metadata": {
    "collapsed": false,
    "pycharm": {
     "name": "#%% md\n"
    }
   }
  },
  {
   "cell_type": "code",
   "execution_count": 13,
   "outputs": [
    {
     "data": {
      "text/plain": "count        20.000000\nmean     229166.660800\nstd       76578.869703\nmin       84821.143282\n25%      170032.930909\n50%      252680.138602\n75%      282452.130364\nmax      379812.801344\nName: mse_obs_decoded_mean_latents, dtype: float64"
     },
     "execution_count": 13,
     "metadata": {},
     "output_type": "execute_result"
    }
   ],
   "source": [
    "(1/df_mse_gamma_sq[df_mse_gamma_sq.gamma_square==1e5].mse_obs_decoded_mean_latents).describe()"
   ],
   "metadata": {
    "collapsed": false,
    "pycharm": {
     "name": "#%%\n"
    }
   }
  },
  {
   "cell_type": "code",
   "execution_count": 37,
   "outputs": [
    {
     "name": "stderr",
     "output_type": "stream",
     "text": [
      "/var/folders/rb/d8k1n6bj4lg801y0yxz4jtbh0000gn/T/ipykernel_2553/2197503874.py:23: MatplotlibDeprecationWarning: Starting from Matplotlib 3.6, colorbar() will steal space from the mappable's axes, rather than from the current axes, to place the colorbar.  To silence this warning, explicitly pass the 'ax' argument to colorbar().\n",
      "  cbar = fig.colorbar(im)\n"
     ]
    },
    {
     "data": {
      "text/plain": "<Figure size 396x244.741 with 2 Axes>",
      "image/png": "[encoded data removed]"
     },
     "metadata": {
      "needs_background": "light"
     },
     "output_type": "display_data"
    }
   ],
   "source": [
    "TICK_PADDING = 2\n",
    "LABELPAD = 3\n",
    "cmap = \"coolwarm\"\n",
    "\n",
    "fig = plt.figure(figsize=figsizes.neurips2022(nrows=2, ncols=2)['figure.figsize'])\n",
    "\n",
    "ax = fig.add_subplot(111)\n",
    "\n",
    "ax.grid(True, which=\"both\", ls=\"-.\")\n",
    "ax.set_axisbelow(True)\n",
    "\n",
    "ax.scatter(np.log10(df_mse_gamma_sq.gamma_square), np.log10(1./(df_mse_gamma_sq.mse_obs_decoded_mean_latents)), c=np.log10(df_mse_gamma_sq.gamma_square), cmap=cmap)\n",
    "# ax.plot(np.linspace(.85, 6), -np.linspace(.85, 6), c=\"black\", label='$y=x$')\n",
    "\n",
    "ax.set_ylabel(\n",
    "    r\"${%s} {%s}_{\\mathrm{MLE}}$\" % (\n",
    "        log10, gsq), labelpad=LABELPAD)\n",
    "\n",
    "ax.set_xlabel(\"$%s%s$\" % (log10, gsq), labelpad=LABELPAD)\n",
    "# plt.legend()\n",
    "ax.tick_params(axis='both', which='major', pad=TICK_PADDING)\n",
    "\n",
    "cbar = fig.colorbar(im)\n",
    "# cbar.ax.set_yticklabels(['0','1','2','>3'])\n",
    "cbar.set_label('$%s%s$' % (log10, gsq), rotation=270)\n",
    "cbar.ax.get_yaxis().labelpad = 13\n",
    "\n",
    "\n",
    "# Make a plot with major ticks that are multiples of 20 and minor ticks that\n",
    "# are multiples of 5.  Label major ticks with '%d' formatting but don't label\n",
    "# minor ticks.\n",
    "ax.xaxis.set_major_locator(MultipleLocator(1))\n",
    "ax.xaxis.set_major_formatter(FormatStrFormatter('%d'))\n",
    "\n",
    "\n",
    "plt.savefig(\"gamma_vs_mle_estimate.svg\")"
   ],
   "metadata": {
    "collapsed": false,
    "pycharm": {
     "name": "#%%\n"
    }
   }
  }
 ],
 "metadata": {
  "kernelspec": {
   "display_name": "Python 3 (ipykernel)",
   "language": "python",
   "name": "python3"
  },
  "language_info": {
   "codemirror_mode": {
    "name": "ipython",
    "version": 3
   },
   "file_extension": ".py",
   "mimetype": "text/x-python",
   "name": "python",
   "nbconvert_exporter": "python",
   "pygments_lexer": "ipython3",
   "version": "3.9.6"
  }
 },
 "nbformat": 4,
 "nbformat_minor": 1
}