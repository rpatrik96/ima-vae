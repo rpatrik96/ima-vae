{
 "cells": [
  {
   "cell_type": "code",
   "execution_count": 1,
   "metadata": {
    "pycharm": {
     "name": "#%%\n"
    }
   },
   "outputs": [],
   "source": [
    "# imports\n",
    "from tueplots import bundles\n",
    "import wandb\n",
    "import pandas as pd\n",
    "import numpy as np\n",
    "import matplotlib.pyplot as plt\n",
    "from os.path import isfile\n",
    "\n",
    "import sys\n",
    "%load_ext autoreload\n",
    "%autoreload 2\n",
    "\n",
    "sys.path.insert(0, '.')"
   ]
  },
  {
   "cell_type": "code",
   "execution_count": 2,
   "outputs": [],
   "source": [
    "from analysis import sweep2df"
   ],
   "metadata": {
    "collapsed": false,
    "pycharm": {
     "name": "#%%\n"
    }
   }
  },
  {
   "cell_type": "code",
   "execution_count": 3,
   "outputs": [],
   "source": [
    "plt.rcParams.update(bundles.neurips2022(usetex=False))"
   ],
   "metadata": {
    "collapsed": false,
    "pycharm": {
     "name": "#%%\n"
    }
   }
  },
  {
   "cell_type": "code",
   "execution_count": 4,
   "outputs": [
    {
     "data": {
      "text/plain": "{'text.usetex': False,\n 'font.serif': ['Times New Roman'],\n 'mathtext.fontset': 'stix',\n 'mathtext.rm': 'Times New Roman',\n 'mathtext.it': 'Times New Roman:italic',\n 'mathtext.bf': 'Times New Roman:bold',\n 'font.family': 'serif',\n 'figure.figsize': (5.5, 3.399186938124422),\n 'figure.constrained_layout.use': True,\n 'figure.autolayout': False,\n 'font.size': 9,\n 'axes.labelsize': 9,\n 'legend.fontsize': 7,\n 'xtick.labelsize': 7,\n 'ytick.labelsize': 7,\n 'axes.titlesize': 9}"
     },
     "execution_count": 4,
     "metadata": {},
     "output_type": "execute_result"
    }
   ],
   "source": [
    "bundles.neurips2022(usetex=False)"
   ],
   "metadata": {
    "collapsed": false,
    "pycharm": {
     "name": "#%%\n"
    }
   }
  },
  {
   "cell_type": "code",
   "execution_count": 5,
   "metadata": {
    "pycharm": {
     "name": "#%%\n"
    }
   },
   "outputs": [],
   "source": [
    "# Constants\n",
    "ENTITY = \"ima-vae\"\n",
    "PROJECT = \"priors\"\n",
    "SWEEP_ID = \"2y77igd1\"\n"
   ]
  },
  {
   "cell_type": "code",
   "execution_count": 92,
   "metadata": {
    "pycharm": {
     "name": "#%%\n"
    }
   },
   "outputs": [],
   "source": [
    "api = wandb.Api(timeout=200)\n",
    "runs = api.runs(ENTITY + \"/\" + PROJECT)\n",
    "sweep = api.sweep(f\"{ENTITY}/{PROJECT}/{SWEEP_ID}\")\n",
    "filename = f\"moebius_sweep_{SWEEP_ID}.csv\""
   ]
  },
  {
   "cell_type": "code",
   "execution_count": 93,
   "metadata": {
    "pycharm": {
     "name": "#%%\n"
    }
   },
   "outputs": [],
   "source": [
    "runs_df = sweep2df(sweep.runs, filename, True,load=False)"
   ]
  },
  {
   "cell_type": "code",
   "execution_count": 85,
   "outputs": [
    {
     "data": {
      "text/plain": "     Unnamed: 0                   name  dim  gamma_square  neg_elbo  \\\n0             0      scarlet-sweep-117    3     1000000.0 -0.463049   \n1             1       atomic-sweep-116    3      100000.0 -3.996430   \n2             2      ancient-sweep-112    3      100000.0 -3.586784   \n3             3       spring-sweep-113    3      100000.0 -3.934934   \n4             4        vital-sweep-104    3      100000.0 -3.676967   \n..          ...                    ...  ...           ...       ...   \n96           96        hearty-sweep-16    3          10.0 -0.628291   \n97           97       worldly-sweep-14    3          10.0 -0.629037   \n98           98      electric-sweep-13    3          10.0 -0.629196   \n99           99          amber-sweep-5    3          10.0 -0.630610   \n100         100  misunderstood-sweep-2    3          10.0 -0.628700   \n\n       kl_loss   rec_loss    prior      cima       mcc  ...  \\\n0   -14.710348  15.173395  uniform  0.001031  0.950404  ...   \n1    -8.473587  12.470016  uniform  0.001027  0.970464  ...   \n2    -8.464359  12.051142  uniform  0.003386  0.951198  ...   \n3    -8.590427  12.525364  uniform  0.002835  0.962819  ...   \n4    -8.408730  12.085697  uniform  0.010156  0.949157  ...   \n..         ...        ...      ...       ...       ...  ...   \n96   -0.029677   0.657968  uniform  1.681410  0.149829  ...   \n97   -0.028636   0.657673  uniform  2.732165  0.152009  ...   \n98   -0.028810   0.658006  uniform  0.139535  0.151928  ...   \n99   -0.026974   0.657584  uniform  2.011273  0.147999  ...   \n100  -0.029314   0.658014  uniform  0.533577  0.153660  ...   \n\n     mse_obs_decoded_mean_latents   sigma_0   sigma_1   sigma_2  \\\n0                        0.090469  0.000046  0.000060  0.000057   \n1                        0.159183  0.005522  0.008229  0.007855   \n2                        0.136959  0.007778  0.008751  0.005789   \n3                        0.086533  0.007939  0.007793  0.004224   \n4                        0.076917  0.009489  0.009656  0.004853   \n..                            ...       ...       ...       ...   \n96                       0.002663  3.051715  3.196243  3.118419   \n97                       0.003187  3.133762  3.053871  3.105312   \n98                       0.002722  2.980591  3.030186  2.984174   \n99                       0.003388  3.030219  3.165489  3.011441   \n100                      0.002787  2.966259  2.997663  2.987550   \n\n     col_norm_sq_0  col_norm_sq_1  col_norm_sq_2        rhs_0        rhs_1  \\\n0         0.376000       0.280504       0.277115     0.000003     0.000004   \n1         0.054120       0.045492       0.050592     0.000185     0.000220   \n2         0.049475       0.044894       0.054576     0.000202     0.000223   \n3         0.048887       0.045082       0.070696     0.000205     0.000222   \n4         0.048634       0.046286       0.058589     0.000206     0.000216   \n..             ...            ...            ...          ...          ...   \n96        0.000015       0.000017       0.000044  6813.537006  5913.999350   \n97        0.000034       0.000049       0.000043  2946.676136  2028.687045   \n98        0.000033       0.000041       0.000009  3024.593273  2462.646376   \n99        0.000026       0.000054       0.000005  3847.065156  1842.198024   \n100       0.000058       0.000021       0.000092  1717.882695  4801.295981   \n\n            rhs_2  \n0        0.000004  \n1        0.000198  \n2        0.000183  \n3        0.000141  \n4        0.000171  \n..            ...  \n96    2263.865816  \n97    2347.593478  \n98   11314.802235  \n99   19432.445254  \n100   1083.640826  \n\n[101 rows x 31 columns]",
      "text/html": "<div>\n<style scoped>\n    .dataframe tbody tr th:only-of-type {\n        vertical-align: middle;\n    }\n\n    .dataframe tbody tr th {\n        vertical-align: top;\n    }\n\n    .dataframe thead th {\n        text-align: right;\n    }\n</style>\n<table border=\"1\" class=\"dataframe\">\n  <thead>\n    <tr style=\"text-align: right;\">\n      <th></th>\n      <th>Unnamed: 0</th>\n      <th>name</th>\n      <th>dim</th>\n      <th>gamma_square</th>\n      <th>neg_elbo</th>\n      <th>kl_loss</th>\n      <th>rec_loss</th>\n      <th>prior</th>\n      <th>cima</th>\n      <th>mcc</th>\n      <th>...</th>\n      <th>mse_obs_decoded_mean_latents</th>\n      <th>sigma_0</th>\n      <th>sigma_1</th>\n      <th>sigma_2</th>\n      <th>col_norm_sq_0</th>\n      <th>col_norm_sq_1</th>\n      <th>col_norm_sq_2</th>\n      <th>rhs_0</th>\n      <th>rhs_1</th>\n      <th>rhs_2</th>\n    </tr>\n  </thead>\n  <tbody>\n    <tr>\n      <th>0</th>\n      <td>0</td>\n      <td>scarlet-sweep-117</td>\n      <td>3</td>\n      <td>1000000.0</td>\n      <td>-0.463049</td>\n      <td>-14.710348</td>\n      <td>15.173395</td>\n      <td>uniform</td>\n      <td>0.001031</td>\n      <td>0.950404</td>\n      <td>...</td>\n      <td>0.090469</td>\n      <td>0.000046</td>\n      <td>0.000060</td>\n      <td>0.000057</td>\n      <td>0.376000</td>\n      <td>0.280504</td>\n      <td>0.277115</td>\n      <td>0.000003</td>\n      <td>0.000004</td>\n      <td>0.000004</td>\n    </tr>\n    <tr>\n      <th>1</th>\n      <td>1</td>\n      <td>atomic-sweep-116</td>\n      <td>3</td>\n      <td>100000.0</td>\n      <td>-3.996430</td>\n      <td>-8.473587</td>\n      <td>12.470016</td>\n      <td>uniform</td>\n      <td>0.001027</td>\n      <td>0.970464</td>\n      <td>...</td>\n      <td>0.159183</td>\n      <td>0.005522</td>\n      <td>0.008229</td>\n      <td>0.007855</td>\n      <td>0.054120</td>\n      <td>0.045492</td>\n      <td>0.050592</td>\n      <td>0.000185</td>\n      <td>0.000220</td>\n      <td>0.000198</td>\n    </tr>\n    <tr>\n      <th>2</th>\n      <td>2</td>\n      <td>ancient-sweep-112</td>\n      <td>3</td>\n      <td>100000.0</td>\n      <td>-3.586784</td>\n      <td>-8.464359</td>\n      <td>12.051142</td>\n      <td>uniform</td>\n      <td>0.003386</td>\n      <td>0.951198</td>\n      <td>...</td>\n      <td>0.136959</td>\n      <td>0.007778</td>\n      <td>0.008751</td>\n      <td>0.005789</td>\n      <td>0.049475</td>\n      <td>0.044894</td>\n      <td>0.054576</td>\n      <td>0.000202</td>\n      <td>0.000223</td>\n      <td>0.000183</td>\n    </tr>\n    <tr>\n      <th>3</th>\n      <td>3</td>\n      <td>spring-sweep-113</td>\n      <td>3</td>\n      <td>100000.0</td>\n      <td>-3.934934</td>\n      <td>-8.590427</td>\n      <td>12.525364</td>\n      <td>uniform</td>\n      <td>0.002835</td>\n      <td>0.962819</td>\n      <td>...</td>\n      <td>0.086533</td>\n      <td>0.007939</td>\n      <td>0.007793</td>\n      <td>0.004224</td>\n      <td>0.048887</td>\n      <td>0.045082</td>\n      <td>0.070696</td>\n      <td>0.000205</td>\n      <td>0.000222</td>\n      <td>0.000141</td>\n    </tr>\n    <tr>\n      <th>4</th>\n      <td>4</td>\n      <td>vital-sweep-104</td>\n      <td>3</td>\n      <td>100000.0</td>\n      <td>-3.676967</td>\n      <td>-8.408730</td>\n      <td>12.085697</td>\n      <td>uniform</td>\n      <td>0.010156</td>\n      <td>0.949157</td>\n      <td>...</td>\n      <td>0.076917</td>\n      <td>0.009489</td>\n      <td>0.009656</td>\n      <td>0.004853</td>\n      <td>0.048634</td>\n      <td>0.046286</td>\n      <td>0.058589</td>\n      <td>0.000206</td>\n      <td>0.000216</td>\n      <td>0.000171</td>\n    </tr>\n    <tr>\n      <th>...</th>\n      <td>...</td>\n      <td>...</td>\n      <td>...</td>\n      <td>...</td>\n      <td>...</td>\n      <td>...</td>\n      <td>...</td>\n      <td>...</td>\n      <td>...</td>\n      <td>...</td>\n      <td>...</td>\n      <td>...</td>\n      <td>...</td>\n      <td>...</td>\n      <td>...</td>\n      <td>...</td>\n      <td>...</td>\n      <td>...</td>\n      <td>...</td>\n      <td>...</td>\n      <td>...</td>\n    </tr>\n    <tr>\n      <th>96</th>\n      <td>96</td>\n      <td>hearty-sweep-16</td>\n      <td>3</td>\n      <td>10.0</td>\n      <td>-0.628291</td>\n      <td>-0.029677</td>\n      <td>0.657968</td>\n      <td>uniform</td>\n      <td>1.681410</td>\n      <td>0.149829</td>\n      <td>...</td>\n      <td>0.002663</td>\n      <td>3.051715</td>\n      <td>3.196243</td>\n      <td>3.118419</td>\n      <td>0.000015</td>\n      <td>0.000017</td>\n      <td>0.000044</td>\n      <td>6813.537006</td>\n      <td>5913.999350</td>\n      <td>2263.865816</td>\n    </tr>\n    <tr>\n      <th>97</th>\n      <td>97</td>\n      <td>worldly-sweep-14</td>\n      <td>3</td>\n      <td>10.0</td>\n      <td>-0.629037</td>\n      <td>-0.028636</td>\n      <td>0.657673</td>\n      <td>uniform</td>\n      <td>2.732165</td>\n      <td>0.152009</td>\n      <td>...</td>\n      <td>0.003187</td>\n      <td>3.133762</td>\n      <td>3.053871</td>\n      <td>3.105312</td>\n      <td>0.000034</td>\n      <td>0.000049</td>\n      <td>0.000043</td>\n      <td>2946.676136</td>\n      <td>2028.687045</td>\n      <td>2347.593478</td>\n    </tr>\n    <tr>\n      <th>98</th>\n      <td>98</td>\n      <td>electric-sweep-13</td>\n      <td>3</td>\n      <td>10.0</td>\n      <td>-0.629196</td>\n      <td>-0.028810</td>\n      <td>0.658006</td>\n      <td>uniform</td>\n      <td>0.139535</td>\n      <td>0.151928</td>\n      <td>...</td>\n      <td>0.002722</td>\n      <td>2.980591</td>\n      <td>3.030186</td>\n      <td>2.984174</td>\n      <td>0.000033</td>\n      <td>0.000041</td>\n      <td>0.000009</td>\n      <td>3024.593273</td>\n      <td>2462.646376</td>\n      <td>11314.802235</td>\n    </tr>\n    <tr>\n      <th>99</th>\n      <td>99</td>\n      <td>amber-sweep-5</td>\n      <td>3</td>\n      <td>10.0</td>\n      <td>-0.630610</td>\n      <td>-0.026974</td>\n      <td>0.657584</td>\n      <td>uniform</td>\n      <td>2.011273</td>\n      <td>0.147999</td>\n      <td>...</td>\n      <td>0.003388</td>\n      <td>3.030219</td>\n      <td>3.165489</td>\n      <td>3.011441</td>\n      <td>0.000026</td>\n      <td>0.000054</td>\n      <td>0.000005</td>\n      <td>3847.065156</td>\n      <td>1842.198024</td>\n      <td>19432.445254</td>\n    </tr>\n    <tr>\n      <th>100</th>\n      <td>100</td>\n      <td>misunderstood-sweep-2</td>\n      <td>3</td>\n      <td>10.0</td>\n      <td>-0.628700</td>\n      <td>-0.029314</td>\n      <td>0.658014</td>\n      <td>uniform</td>\n      <td>0.533577</td>\n      <td>0.153660</td>\n      <td>...</td>\n      <td>0.002787</td>\n      <td>2.966259</td>\n      <td>2.997663</td>\n      <td>2.987550</td>\n      <td>0.000058</td>\n      <td>0.000021</td>\n      <td>0.000092</td>\n      <td>1717.882695</td>\n      <td>4801.295981</td>\n      <td>1083.640826</td>\n    </tr>\n  </tbody>\n</table>\n<p>101 rows × 31 columns</p>\n</div>"
     },
     "execution_count": 85,
     "metadata": {},
     "output_type": "execute_result"
    }
   ],
   "source": [
    "runs_df"
   ],
   "metadata": {
    "collapsed": false,
    "pycharm": {
     "name": "#%%\n"
    }
   }
  },
  {
   "cell_type": "code",
   "execution_count": 90,
   "outputs": [],
   "source": [
    "runs_df = runs_df[runs_df.gamma_square <= 1e5]"
   ],
   "metadata": {
    "collapsed": false,
    "pycharm": {
     "name": "#%%\n"
    }
   }
  },
  {
   "cell_type": "markdown",
   "source": [
    "$$ \\sigma_k^2 (x) = \\left(-n''(\\mu_k^\\phi(x)) + \\gamma^2 \\left\\Vert \\left[ J_f(g(x))\\right]_{:k}\\right\\Vert^2\\right)^{-1} $$"
   ],
   "metadata": {
    "collapsed": false,
    "pycharm": {
     "name": "#%% md\n"
    }
   }
  },
  {
   "cell_type": "markdown",
   "source": [],
   "metadata": {
    "collapsed": false,
    "pycharm": {
     "name": "#%% md\n"
    }
   }
  },
  {
   "cell_type": "code",
   "execution_count": 86,
   "outputs": [
    {
     "data": {
      "text/plain": "             cima4min_neg_elbo                                          \\\n                         count      mean       std       min       25%   \ngamma_square                                                             \n10.0                      20.0  1.335482  0.564094  0.611589  0.792626   \n100.0                     20.0  1.236132  0.559228  0.450587  0.768593   \n1000.0                    19.0  0.068911  0.139163  0.002055  0.002738   \n10000.0                   15.0  0.001613  0.000886  0.000733  0.000937   \n100000.0                   8.0  0.003139  0.002061  0.000728  0.001932   \n1000000.0                 19.0  0.001834  0.001601  0.000057  0.001219   \n\n                                            \n                   50%       75%       max  \ngamma_square                                \n10.0          1.350295  1.737893  2.397702  \n100.0         1.049250  1.718161  2.334175  \n1000.0        0.004156  0.007729  0.444581  \n10000.0       0.001533  0.002020  0.003491  \n100000.0      0.002916  0.003568  0.007543  \n1000000.0     0.001760  0.001933  0.007712  ",
      "text/html": "<div>\n<style scoped>\n    .dataframe tbody tr th:only-of-type {\n        vertical-align: middle;\n    }\n\n    .dataframe tbody tr th {\n        vertical-align: top;\n    }\n\n    .dataframe thead tr th {\n        text-align: left;\n    }\n\n    .dataframe thead tr:last-of-type th {\n        text-align: right;\n    }\n</style>\n<table border=\"1\" class=\"dataframe\">\n  <thead>\n    <tr>\n      <th></th>\n      <th colspan=\"8\" halign=\"left\">cima4min_neg_elbo</th>\n    </tr>\n    <tr>\n      <th></th>\n      <th>count</th>\n      <th>mean</th>\n      <th>std</th>\n      <th>min</th>\n      <th>25%</th>\n      <th>50%</th>\n      <th>75%</th>\n      <th>max</th>\n    </tr>\n    <tr>\n      <th>gamma_square</th>\n      <th></th>\n      <th></th>\n      <th></th>\n      <th></th>\n      <th></th>\n      <th></th>\n      <th></th>\n      <th></th>\n    </tr>\n  </thead>\n  <tbody>\n    <tr>\n      <th>10.0</th>\n      <td>20.0</td>\n      <td>1.335482</td>\n      <td>0.564094</td>\n      <td>0.611589</td>\n      <td>0.792626</td>\n      <td>1.350295</td>\n      <td>1.737893</td>\n      <td>2.397702</td>\n    </tr>\n    <tr>\n      <th>100.0</th>\n      <td>20.0</td>\n      <td>1.236132</td>\n      <td>0.559228</td>\n      <td>0.450587</td>\n      <td>0.768593</td>\n      <td>1.049250</td>\n      <td>1.718161</td>\n      <td>2.334175</td>\n    </tr>\n    <tr>\n      <th>1000.0</th>\n      <td>19.0</td>\n      <td>0.068911</td>\n      <td>0.139163</td>\n      <td>0.002055</td>\n      <td>0.002738</td>\n      <td>0.004156</td>\n      <td>0.007729</td>\n      <td>0.444581</td>\n    </tr>\n    <tr>\n      <th>10000.0</th>\n      <td>15.0</td>\n      <td>0.001613</td>\n      <td>0.000886</td>\n      <td>0.000733</td>\n      <td>0.000937</td>\n      <td>0.001533</td>\n      <td>0.002020</td>\n      <td>0.003491</td>\n    </tr>\n    <tr>\n      <th>100000.0</th>\n      <td>8.0</td>\n      <td>0.003139</td>\n      <td>0.002061</td>\n      <td>0.000728</td>\n      <td>0.001932</td>\n      <td>0.002916</td>\n      <td>0.003568</td>\n      <td>0.007543</td>\n    </tr>\n    <tr>\n      <th>1000000.0</th>\n      <td>19.0</td>\n      <td>0.001834</td>\n      <td>0.001601</td>\n      <td>0.000057</td>\n      <td>0.001219</td>\n      <td>0.001760</td>\n      <td>0.001933</td>\n      <td>0.007712</td>\n    </tr>\n  </tbody>\n</table>\n</div>"
     },
     "execution_count": 86,
     "metadata": {},
     "output_type": "execute_result"
    }
   ],
   "source": [
    "runs_df[[ \"cima4min_neg_elbo\", \"gamma_square\"]].groupby(\"gamma_square\").describe()"
   ],
   "metadata": {
    "collapsed": false,
    "pycharm": {
     "name": "#%%\n"
    }
   }
  },
  {
   "cell_type": "code",
   "execution_count": 14,
   "outputs": [
    {
     "data": {
      "text/plain": "             mcc4min_neg_elbo                                          \\\n                        count      mean       std       min       25%   \ngamma_square                                                            \n10.0                     20.0  0.152054  0.002594  0.145711  0.150620   \n100.0                    20.0  0.150781  0.003009  0.144056  0.149297   \n1000.0                   19.0  0.711884  0.095085  0.529063  0.738003   \n10000.0                  15.0  0.960604  0.008021  0.945257  0.954726   \n100000.0                  8.0  0.961928  0.006590  0.951066  0.959291   \n1000000.0                19.0  0.874615  0.078698  0.681927  0.835355   \n\n                                            \n                   50%       75%       max  \ngamma_square                                \n10.0          0.151827  0.153587  0.156768  \n100.0         0.150826  0.152549  0.156737  \n1000.0        0.758195  0.764575  0.773091  \n10000.0       0.961280  0.967258  0.972414  \n100000.0      0.960931  0.965914  0.972617  \n1000000.0     0.892959  0.925237  0.966841  ",
      "text/html": "<div>\n<style scoped>\n    .dataframe tbody tr th:only-of-type {\n        vertical-align: middle;\n    }\n\n    .dataframe tbody tr th {\n        vertical-align: top;\n    }\n\n    .dataframe thead tr th {\n        text-align: left;\n    }\n\n    .dataframe thead tr:last-of-type th {\n        text-align: right;\n    }\n</style>\n<table border=\"1\" class=\"dataframe\">\n  <thead>\n    <tr>\n      <th></th>\n      <th colspan=\"8\" halign=\"left\">mcc4min_neg_elbo</th>\n    </tr>\n    <tr>\n      <th></th>\n      <th>count</th>\n      <th>mean</th>\n      <th>std</th>\n      <th>min</th>\n      <th>25%</th>\n      <th>50%</th>\n      <th>75%</th>\n      <th>max</th>\n    </tr>\n    <tr>\n      <th>gamma_square</th>\n      <th></th>\n      <th></th>\n      <th></th>\n      <th></th>\n      <th></th>\n      <th></th>\n      <th></th>\n      <th></th>\n    </tr>\n  </thead>\n  <tbody>\n    <tr>\n      <th>10.0</th>\n      <td>20.0</td>\n      <td>0.152054</td>\n      <td>0.002594</td>\n      <td>0.145711</td>\n      <td>0.150620</td>\n      <td>0.151827</td>\n      <td>0.153587</td>\n      <td>0.156768</td>\n    </tr>\n    <tr>\n      <th>100.0</th>\n      <td>20.0</td>\n      <td>0.150781</td>\n      <td>0.003009</td>\n      <td>0.144056</td>\n      <td>0.149297</td>\n      <td>0.150826</td>\n      <td>0.152549</td>\n      <td>0.156737</td>\n    </tr>\n    <tr>\n      <th>1000.0</th>\n      <td>19.0</td>\n      <td>0.711884</td>\n      <td>0.095085</td>\n      <td>0.529063</td>\n      <td>0.738003</td>\n      <td>0.758195</td>\n      <td>0.764575</td>\n      <td>0.773091</td>\n    </tr>\n    <tr>\n      <th>10000.0</th>\n      <td>15.0</td>\n      <td>0.960604</td>\n      <td>0.008021</td>\n      <td>0.945257</td>\n      <td>0.954726</td>\n      <td>0.961280</td>\n      <td>0.967258</td>\n      <td>0.972414</td>\n    </tr>\n    <tr>\n      <th>100000.0</th>\n      <td>8.0</td>\n      <td>0.961928</td>\n      <td>0.006590</td>\n      <td>0.951066</td>\n      <td>0.959291</td>\n      <td>0.960931</td>\n      <td>0.965914</td>\n      <td>0.972617</td>\n    </tr>\n    <tr>\n      <th>1000000.0</th>\n      <td>19.0</td>\n      <td>0.874615</td>\n      <td>0.078698</td>\n      <td>0.681927</td>\n      <td>0.835355</td>\n      <td>0.892959</td>\n      <td>0.925237</td>\n      <td>0.966841</td>\n    </tr>\n  </tbody>\n</table>\n</div>"
     },
     "execution_count": 14,
     "metadata": {},
     "output_type": "execute_result"
    }
   ],
   "source": [
    "runs_df[[ \"mcc4min_neg_elbo\", \"gamma_square\"]].groupby(\"gamma_square\").describe()"
   ],
   "metadata": {
    "collapsed": false,
    "pycharm": {
     "name": "#%%\n"
    }
   }
  },
  {
   "cell_type": "code",
   "execution_count": 15,
   "outputs": [
    {
     "data": {
      "text/plain": "             min_neg_elbo                                                    \\\n                    count      mean       std       min       25%       50%   \ngamma_square                                                                  \n10.0                 20.0 -0.631330  0.001146 -0.633572 -0.632227 -0.631218   \n100.0                20.0 -3.733695  0.001176 -3.736262 -3.734592 -3.733493   \n1000.0               19.0 -4.696911  0.014440 -4.711015 -4.707474 -4.705772   \n10000.0              15.0 -4.734727  0.121436 -4.889158 -4.822603 -4.767874   \n100000.0              8.0 -3.801725  0.359346 -4.190283 -4.126556 -3.843761   \n1000000.0            19.0 -1.070482  0.429434 -1.910325 -1.271884 -1.067890   \n\n                                  \n                   75%       max  \ngamma_square                      \n10.0         -0.630326 -0.629624  \n100.0        -3.732953 -3.731812  \n1000.0       -4.687442 -4.660370  \n10000.0      -4.644563 -4.476871  \n100000.0     -3.529593 -3.312922  \n1000000.0    -0.749999 -0.202977  ",
      "text/html": "<div>\n<style scoped>\n    .dataframe tbody tr th:only-of-type {\n        vertical-align: middle;\n    }\n\n    .dataframe tbody tr th {\n        vertical-align: top;\n    }\n\n    .dataframe thead tr th {\n        text-align: left;\n    }\n\n    .dataframe thead tr:last-of-type th {\n        text-align: right;\n    }\n</style>\n<table border=\"1\" class=\"dataframe\">\n  <thead>\n    <tr>\n      <th></th>\n      <th colspan=\"8\" halign=\"left\">min_neg_elbo</th>\n    </tr>\n    <tr>\n      <th></th>\n      <th>count</th>\n      <th>mean</th>\n      <th>std</th>\n      <th>min</th>\n      <th>25%</th>\n      <th>50%</th>\n      <th>75%</th>\n      <th>max</th>\n    </tr>\n    <tr>\n      <th>gamma_square</th>\n      <th></th>\n      <th></th>\n      <th></th>\n      <th></th>\n      <th></th>\n      <th></th>\n      <th></th>\n      <th></th>\n    </tr>\n  </thead>\n  <tbody>\n    <tr>\n      <th>10.0</th>\n      <td>20.0</td>\n      <td>-0.631330</td>\n      <td>0.001146</td>\n      <td>-0.633572</td>\n      <td>-0.632227</td>\n      <td>-0.631218</td>\n      <td>-0.630326</td>\n      <td>-0.629624</td>\n    </tr>\n    <tr>\n      <th>100.0</th>\n      <td>20.0</td>\n      <td>-3.733695</td>\n      <td>0.001176</td>\n      <td>-3.736262</td>\n      <td>-3.734592</td>\n      <td>-3.733493</td>\n      <td>-3.732953</td>\n      <td>-3.731812</td>\n    </tr>\n    <tr>\n      <th>1000.0</th>\n      <td>19.0</td>\n      <td>-4.696911</td>\n      <td>0.014440</td>\n      <td>-4.711015</td>\n      <td>-4.707474</td>\n      <td>-4.705772</td>\n      <td>-4.687442</td>\n      <td>-4.660370</td>\n    </tr>\n    <tr>\n      <th>10000.0</th>\n      <td>15.0</td>\n      <td>-4.734727</td>\n      <td>0.121436</td>\n      <td>-4.889158</td>\n      <td>-4.822603</td>\n      <td>-4.767874</td>\n      <td>-4.644563</td>\n      <td>-4.476871</td>\n    </tr>\n    <tr>\n      <th>100000.0</th>\n      <td>8.0</td>\n      <td>-3.801725</td>\n      <td>0.359346</td>\n      <td>-4.190283</td>\n      <td>-4.126556</td>\n      <td>-3.843761</td>\n      <td>-3.529593</td>\n      <td>-3.312922</td>\n    </tr>\n    <tr>\n      <th>1000000.0</th>\n      <td>19.0</td>\n      <td>-1.070482</td>\n      <td>0.429434</td>\n      <td>-1.910325</td>\n      <td>-1.271884</td>\n      <td>-1.067890</td>\n      <td>-0.749999</td>\n      <td>-0.202977</td>\n    </tr>\n  </tbody>\n</table>\n</div>"
     },
     "execution_count": 15,
     "metadata": {},
     "output_type": "execute_result"
    }
   ],
   "source": [
    "runs_df[[ \"min_neg_elbo\", \"gamma_square\"]].groupby(\"gamma_square\").describe()"
   ],
   "metadata": {
    "collapsed": false,
    "pycharm": {
     "name": "#%%\n"
    }
   }
  },
  {
   "cell_type": "markdown",
   "source": [],
   "metadata": {
    "collapsed": false,
    "pycharm": {
     "name": "#%% md\n"
    }
   }
  },
  {
   "cell_type": "code",
   "execution_count": 16,
   "outputs": [],
   "source": [
    "df_rhs = pd.DataFrame(runs_df[[col for col in runs_df.columns if \"rhs\" in col]].stack().droplevel(1), columns=[\"rhs\"])\n",
    "df_lhs = pd.DataFrame(runs_df[[col for col in runs_df.columns if \"sigma\" in col]].stack().droplevel(1), columns=[\"lhs\"])\n",
    "df_rhs_lhs_gamma_sq = df_rhs.merge( df_lhs, left_index=True, right_index=True).merge(runs_df[\"gamma_square\"], left_index=True, right_index=True)"
   ],
   "metadata": {
    "collapsed": false,
    "pycharm": {
     "name": "#%%\n"
    }
   }
  },
  {
   "cell_type": "code",
   "execution_count": 17,
   "outputs": [],
   "source": [
    "df_mse_sources_mean_decoded_sources = pd.DataFrame(runs_df[[col for col in runs_df.columns if col == \"mse_sources_mean_decoded_sources\"]].stack().droplevel(1), columns=[\"mse_sources_mean_decoded_sources\"])\n",
    "df_mse_obs_decoded_mean_latents = pd.DataFrame(runs_df[[col for col in runs_df.columns if col == \"mse_obs_decoded_mean_latents\"]].stack().droplevel(1), columns=[\"mse_obs_decoded_mean_latents\"])\n",
    "df_mse_gamma_sq = df_mse_sources_mean_decoded_sources.merge( df_mse_obs_decoded_mean_latents, left_index=True, right_index=True).merge(runs_df[\"gamma_square\"], left_index=True, right_index=True)"
   ],
   "metadata": {
    "collapsed": false,
    "pycharm": {
     "name": "#%%\n"
    }
   }
  },
  {
   "cell_type": "code",
   "execution_count": 49,
   "outputs": [],
   "source": [
    "def format_violin(vp, facecolor='#1A85FF'):\n",
    "    for el in vp['bodies']:\n",
    "        el.set_facecolor(facecolor)\n",
    "        el.set_edgecolor('black')\n",
    "        el.set_linewidth(1.5)\n",
    "        el.set_alpha(.9)\n",
    "    for pn in ['cbars', 'cmins', 'cmaxes', 'cmedians']:\n",
    "        vp_ = vp[pn]\n",
    "        vp_.set_edgecolor('black')\n",
    "        vp_.set_linewidth(1)"
   ],
   "metadata": {
    "collapsed": false,
    "pycharm": {
     "name": "#%%\n"
    }
   }
  },
  {
   "cell_type": "code",
   "execution_count": 44,
   "outputs": [],
   "source": [
    "def create_violinplot(groups, xlabel, ylabel, xticklabels, filename=None, ax=None):\n",
    "    if ax is None:\n",
    "        fig, ax = plt.subplots()\n",
    "    else:\n",
    "        ax = ax.twinx()\n",
    "\n",
    "    vp= ax.violinplot(groups, showmedians=True)\n",
    "    format_violin(vp, '#1A85FF')\n",
    "\n",
    "    ax.set_xticklabels(xticklabels)\n",
    "    # ax.set_xticks(xticks)\n",
    "    # plt.locator_params(axis='y', nbins=5)\n",
    "    # plt.yticks(fontsize=24)\n",
    "    # plt.ylim([0, 0.5])\n",
    "    ax.set_ylabel(ylabel)\n",
    "    # ax.set_xlabel(xlabel)\n",
    "    if filename is not None:\n",
    "        plt.savefig(f\"{filename}.svg\")\n",
    "    return ax"
   ],
   "metadata": {
    "collapsed": false,
    "pycharm": {
     "name": "#%%\n"
    }
   }
  },
  {
   "cell_type": "code",
   "execution_count": 37,
   "outputs": [],
   "source": [
    "from tueplots  import figsizes"
   ],
   "metadata": {
    "collapsed": false,
    "pycharm": {
     "name": "#%%\n"
    }
   }
  },
  {
   "cell_type": "code",
   "execution_count": 38,
   "outputs": [
    {
     "data": {
      "text/plain": "(5.5, 1.1330623127081405)"
     },
     "execution_count": 38,
     "metadata": {},
     "output_type": "execute_result"
    }
   ],
   "source": [
    "figsizes.neurips2022(ncols=3)['figure.figsize']"
   ],
   "metadata": {
    "collapsed": false,
    "pycharm": {
     "name": "#%%\n"
    }
   }
  },
  {
   "cell_type": "code",
   "execution_count": 87,
   "outputs": [],
   "source": [
    "elbo_filter = runs_df[[ \"neg_elbo\", \"gamma_square\"]].groupby(\"gamma_square\").describe()['neg_elbo']['75%']\n",
    "groups = [g for _, g in runs_df[[ \"neg_elbo\", \"mcc4min_neg_elbo\", \"cima4min_neg_elbo\", \"gamma_square\"]].groupby(\"gamma_square\")]\n",
    "gg_mcc = [g[g.neg_elbo <= threshold].mcc4min_neg_elbo  for g, threshold in zip(groups, elbo_filter)]\n",
    "gg_cima = [g[g.neg_elbo <= threshold].cima4min_neg_elbo  for g, threshold in zip(groups, elbo_filter)]\n",
    "gg_gamma = [g[g.neg_elbo <= threshold].gamma_square  for g, threshold in zip(groups, elbo_filter)]"
   ],
   "metadata": {
    "collapsed": false,
    "pycharm": {
     "name": "#%%\n"
    }
   }
  },
  {
   "cell_type": "code",
   "execution_count": 88,
   "outputs": [
    {
     "name": "stderr",
     "output_type": "stream",
     "text": [
      "/var/folders/rb/d8k1n6bj4lg801y0yxz4jtbh0000gn/T/ipykernel_25805/4189041675.py:17: UserWarning: FixedFormatter should only be used together with FixedLocator\n",
      "  ax.set_xticklabels(xticklabels)\n"
     ]
    },
    {
     "data": {
      "text/plain": "<Figure size 396x244.741 with 1 Axes>",
      "image/png": "[encoded data removed]"
     },
     "metadata": {
      "needs_background": "light"
     },
     "output_type": "display_data"
    }
   ],
   "source": [
    "ax = create_violinplot(gg_mcc, '$\\log_{10}\\gamma^2$', '$MCC$', [0]+ sorted(np.log10(runs_df[\"gamma_square\"]).astype(int).unique()), filename=\"mcc_vs_gamma\")"
   ],
   "metadata": {
    "collapsed": false,
    "pycharm": {
     "name": "#%%\n"
    }
   }
  },
  {
   "cell_type": "code",
   "execution_count": 46,
   "outputs": [
    {
     "name": "stderr",
     "output_type": "stream",
     "text": [
      "/var/folders/rb/d8k1n6bj4lg801y0yxz4jtbh0000gn/T/ipykernel_25805/4189041675.py:17: UserWarning: FixedFormatter should only be used together with FixedLocator\n",
      "  ax.set_xticklabels(xticklabels)\n"
     ]
    },
    {
     "data": {
      "text/plain": "<AxesSubplot:ylabel='$\\\\log_{10}C_{IMA}$'>"
     },
     "execution_count": 46,
     "metadata": {},
     "output_type": "execute_result"
    },
    {
     "data": {
      "text/plain": "<Figure size 396x244.741 with 0 Axes>"
     },
     "metadata": {},
     "output_type": "display_data"
    }
   ],
   "source": [
    "create_violinplot([np.log10(g) for g in gg_cima], r'$\\log_{10}\\gamma^2$', r'$\\log_{10}C_{IMA}$', [0]+ sorted(np.log10(runs_df[\"gamma_square\"]).astype(int).unique()), filename=\"cima_vs_gamma\", ax=ax)"
   ],
   "metadata": {
    "collapsed": false,
    "pycharm": {
     "name": "#%%\n"
    }
   }
  },
  {
   "cell_type": "code",
   "execution_count": 89,
   "outputs": [
    {
     "data": {
      "text/plain": "<matplotlib.legend.Legend at 0x12235fcd0>"
     },
     "execution_count": 89,
     "metadata": {},
     "output_type": "execute_result"
    },
    {
     "data": {
      "text/plain": "<Figure size 396x244.741 with 2 Axes>",
      "image/png": "[encoded data removed]"
     },
     "metadata": {
      "needs_background": "light"
     },
     "output_type": "display_data"
    }
   ],
   "source": [
    "fig, ax = plt.subplots()\n",
    "ax2 = ax.twinx()\n",
    "\n",
    "vp= ax.violinplot([np.log10(g) for g in gg_cima], showmedians=True)\n",
    "format_violin(vp)\n",
    "ax.set_ylabel(\"$\\log_{10} C_{IMA}$\")\n",
    "\n",
    "vp2= ax2.violinplot(gg_mcc, showmedians=True)\n",
    "format_violin(vp2,'#D0021B')\n",
    "ax2.set_ylabel(\"$MCC$\")\n",
    "\n",
    "ax.set_xlabel(\"$\\log_{10}\\gamma^2$\")\n",
    "plt.legend([vp['bodies'][0],vp2['bodies'][0]], [\"$\\log_{10} C_{IMA}$\", \"$MCC$\"], loc='right')"
   ],
   "metadata": {
    "collapsed": false,
    "pycharm": {
     "name": "#%%\n"
    }
   }
  },
  {
   "cell_type": "code",
   "execution_count": 529,
   "outputs": [
    {
     "data": {
      "text/plain": "<matplotlib.colorbar.Colorbar at 0x11f099130>"
     },
     "execution_count": 529,
     "metadata": {},
     "output_type": "execute_result"
    },
    {
     "data": {
      "text/plain": "<Figure size 576x432 with 2 Axes>",
      "image/png": "[encoded data removed]"
     },
     "metadata": {
      "needs_background": "light"
     },
     "output_type": "display_data"
    }
   ],
   "source": [
    "plt.figure(figsize=(8,6))\n",
    "plt.scatter([np.log10(item) for sublist in gg_cima for item in sublist],[-np.log10(item) for sublist in gg_mcc for item in sublist], c=[np.log10(item) for sublist in gg_gamma for item in sublist], cmap=\"bwr\")\n",
    "plt.colorbar()"
   ],
   "metadata": {
    "collapsed": false,
    "pycharm": {
     "name": "#%%\n"
    }
   }
  },
  {
   "cell_type": "code",
   "execution_count": 494,
   "outputs": [],
   "source": [
    "larger_gamma_df = runs_df[runs_df['gamma_square']>100]"
   ],
   "metadata": {
    "collapsed": false,
    "pycharm": {
     "name": "#%%\n"
    }
   }
  },
  {
   "cell_type": "code",
   "execution_count": 495,
   "outputs": [
    {
     "data": {
      "text/plain": "<matplotlib.colorbar.Colorbar at 0x120e20ca0>"
     },
     "execution_count": 495,
     "metadata": {},
     "output_type": "execute_result"
    },
    {
     "data": {
      "text/plain": "<Figure size 396x244.741 with 2 Axes>",
      "image/png": "[encoded data removed]"
     },
     "metadata": {
      "needs_background": "light"
     },
     "output_type": "display_data"
    }
   ],
   "source": [
    "plt.scatter(np.log10(larger_gamma_df['cima4min_neg_elbo']), -np.log10(larger_gamma_df['mcc4min_neg_elbo']), c=np.log10(larger_gamma_df['gamma_square']), cmap='bwr')\n",
    "plt.colorbar()"
   ],
   "metadata": {
    "collapsed": false,
    "pycharm": {
     "name": "#%%\n"
    }
   }
  },
  {
   "cell_type": "code",
   "execution_count": null,
   "outputs": [],
   "source": [
    "def violin_by_prior(gauss_data, laplace_data, uniform_data, xticks, xlabel, ylabel,  offset, filename, figsize=(8,6), log=False):\n",
    "\n",
    "    plt.figure(figsize=figsize)\n",
    "    vp_gauss = plt.violinplot([np.log10(i) if log is True else i for i in gauss_data], positions=xticks)\n",
    "    vp_laplace = plt.violinplot([np.log10(i) if log is True else i for i in laplace_data], positions=-offset+xticks)\n",
    "    vp_uniform= plt.violinplot([np.log10(i) if log is True else i for i in uniform_data], positions=offset+xticks)\n",
    "    plt.legend([vp_gauss['bodies'][0],vp_laplace['bodies'][0], vp_uniform['bodies'][0]], ['gaussian', 'laplace', 'uniform'], loc='upper right')\n",
    "    plt.xlabel(xlabel)\n",
    "    plt.ylabel(ylabel)\n",
    "    plt.xticks(xticks)\n",
    "    # plt.tight_layout()\n",
    "    plt.savefig(filename)"
   ],
   "metadata": {
    "collapsed": false,
    "pycharm": {
     "name": "#%%\n"
    }
   }
  },
  {
   "cell_type": "code",
   "execution_count": null,
   "outputs": [],
   "source": [
    "violin_by_prior(lhs_rhs_vs_gamma_gauss, lhs_rhs_vs_gamma_laplace, lhs_rhs_vs_gamma_uniform,  np.unique(np.log10(gamma_uniform_ext)), '$Log10(gamma^2)$', '$Log10|LHS-RHS|$',  0.15, 'opt_sigma_vs_gamma', log=True)"
   ],
   "metadata": {
    "collapsed": false,
    "pycharm": {
     "name": "#%%\n"
    }
   }
  }
 ],
 "metadata": {
  "kernelspec": {
   "display_name": "Python 3 (ipykernel)",
   "language": "python",
   "name": "python3"
  },
  "language_info": {
   "codemirror_mode": {
    "name": "ipython",
    "version": 3
   },
   "file_extension": ".py",
   "mimetype": "text/x-python",
   "name": "python",
   "nbconvert_exporter": "python",
   "pygments_lexer": "ipython3",
   "version": "3.9.6"
  }
 },
 "nbformat": 4,
 "nbformat_minor": 1
}