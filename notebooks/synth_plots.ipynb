{
 "cells": [
  {
   "cell_type": "code",
   "execution_count": 1,
   "metadata": {
    "pycharm": {
     "name": "#%%\n"
    }
   },
   "outputs": [],
   "source": [
    "# imports\n",
    "from tueplots import bundles\n",
    "import wandb\n",
    "import pandas as pd\n",
    "import numpy as np\n",
    "import matplotlib.pyplot as plt\n",
    "from tueplots  import figsizes\n",
    "\n",
    "import sys\n",
    "%load_ext autoreload\n",
    "%autoreload 2\n",
    "\n",
    "sys.path.insert(0, '.')"
   ]
  },
  {
   "cell_type": "code",
   "execution_count": 2,
   "outputs": [],
   "source": [
    "from analysis import sweep2df"
   ],
   "metadata": {
    "collapsed": false,
    "pycharm": {
     "name": "#%%\n"
    }
   }
  },
  {
   "cell_type": "code",
   "execution_count": 3,
   "outputs": [],
   "source": [
    "plt.rcParams.update(bundles.neurips2022(usetex=False))"
   ],
   "metadata": {
    "collapsed": false,
    "pycharm": {
     "name": "#%%\n"
    }
   }
  },
  {
   "cell_type": "code",
   "execution_count": 128,
   "metadata": {
    "pycharm": {
     "name": "#%%\n"
    }
   },
   "outputs": [],
   "source": [
    "# Constants\n",
    "ENTITY = \"ima-vae\"\n",
    "PROJECT = \"priors\"\n",
    "SWEEP_ID = \"aparoxur\"\n"
   ]
  },
  {
   "cell_type": "code",
   "execution_count": 129,
   "metadata": {
    "pycharm": {
     "name": "#%%\n"
    }
   },
   "outputs": [],
   "source": [
    "api = wandb.Api(timeout=200)\n",
    "runs = api.runs(ENTITY + \"/\" + PROJECT)\n",
    "sweep = api.sweep(f\"{ENTITY}/{PROJECT}/{SWEEP_ID}\")\n",
    "filename = f\"moebius_sweep_{SWEEP_ID}.csv\""
   ]
  },
  {
   "cell_type": "code",
   "execution_count": 130,
   "metadata": {
    "pycharm": {
     "name": "#%%\n"
    }
   },
   "outputs": [
    {
     "ename": "IndexError",
     "evalue": "single positional indexer is out-of-bounds",
     "output_type": "error",
     "traceback": [
      "\u001B[0;31m---------------------------------------------------------------------------\u001B[0m",
      "\u001B[0;31mIndexError\u001B[0m                                Traceback (most recent call last)",
      "\u001B[0;32m/var/folders/rb/d8k1n6bj4lg801y0yxz4jtbh0000gn/T/ipykernel_25805/287403411.py\u001B[0m in \u001B[0;36m<module>\u001B[0;34m\u001B[0m\n\u001B[0;32m----> 1\u001B[0;31m \u001B[0mruns_df\u001B[0m \u001B[0;34m=\u001B[0m \u001B[0msweep2df\u001B[0m\u001B[0;34m(\u001B[0m\u001B[0msweep\u001B[0m\u001B[0;34m.\u001B[0m\u001B[0mruns\u001B[0m\u001B[0;34m,\u001B[0m \u001B[0mfilename\u001B[0m\u001B[0;34m,\u001B[0m \u001B[0;32mTrue\u001B[0m\u001B[0;34m,\u001B[0m\u001B[0mload\u001B[0m\u001B[0;34m=\u001B[0m\u001B[0;32mFalse\u001B[0m\u001B[0;34m)\u001B[0m\u001B[0;34m\u001B[0m\u001B[0;34m\u001B[0m\u001B[0m\n\u001B[0m",
      "\u001B[0;32m~/Documents/GitHub/ima-vae/notebooks/./analysis.py\u001B[0m in \u001B[0;36msweep2df\u001B[0;34m(sweep_runs, filename, save, load)\u001B[0m\n\u001B[1;32m     44\u001B[0m             )\n\u001B[1;32m     45\u001B[0m \u001B[0;34m\u001B[0m\u001B[0m\n\u001B[0;32m---> 46\u001B[0;31m             mse_sources_mean_decoded_sources = run.history(\n\u001B[0m\u001B[1;32m     47\u001B[0m                 \u001B[0mkeys\u001B[0m\u001B[0;34m=\u001B[0m\u001B[0;34m[\u001B[0m\u001B[0;34mf\"Metrics/val/mse_sources_mean_decoded_sources\"\u001B[0m\u001B[0;34m]\u001B[0m\u001B[0;34m\u001B[0m\u001B[0;34m\u001B[0m\u001B[0m\n\u001B[1;32m     48\u001B[0m             \u001B[0;34m)\u001B[0m\u001B[0;34m.\u001B[0m\u001B[0miloc\u001B[0m\u001B[0;34m[\u001B[0m\u001B[0mint\u001B[0m\u001B[0;34m(\u001B[0m\u001B[0mmin_neg_elbo_step\u001B[0m\u001B[0;34m)\u001B[0m\u001B[0;34m]\u001B[0m\u001B[0;34m[\u001B[0m\u001B[0;34m\u001B[0m\u001B[0;34m\u001B[0m\u001B[0m\n",
      "\u001B[0;32m/usr/local/lib/python3.9/site-packages/pandas/core/indexing.py\u001B[0m in \u001B[0;36m__getitem__\u001B[0;34m(self, key)\u001B[0m\n\u001B[1;32m    929\u001B[0m \u001B[0;34m\u001B[0m\u001B[0m\n\u001B[1;32m    930\u001B[0m             \u001B[0mmaybe_callable\u001B[0m \u001B[0;34m=\u001B[0m \u001B[0mcom\u001B[0m\u001B[0;34m.\u001B[0m\u001B[0mapply_if_callable\u001B[0m\u001B[0;34m(\u001B[0m\u001B[0mkey\u001B[0m\u001B[0;34m,\u001B[0m \u001B[0mself\u001B[0m\u001B[0;34m.\u001B[0m\u001B[0mobj\u001B[0m\u001B[0;34m)\u001B[0m\u001B[0;34m\u001B[0m\u001B[0;34m\u001B[0m\u001B[0m\n\u001B[0;32m--> 931\u001B[0;31m             \u001B[0;32mreturn\u001B[0m \u001B[0mself\u001B[0m\u001B[0;34m.\u001B[0m\u001B[0m_getitem_axis\u001B[0m\u001B[0;34m(\u001B[0m\u001B[0mmaybe_callable\u001B[0m\u001B[0;34m,\u001B[0m \u001B[0maxis\u001B[0m\u001B[0;34m=\u001B[0m\u001B[0maxis\u001B[0m\u001B[0;34m)\u001B[0m\u001B[0;34m\u001B[0m\u001B[0;34m\u001B[0m\u001B[0m\n\u001B[0m\u001B[1;32m    932\u001B[0m \u001B[0;34m\u001B[0m\u001B[0m\n\u001B[1;32m    933\u001B[0m     \u001B[0;32mdef\u001B[0m \u001B[0m_is_scalar_access\u001B[0m\u001B[0;34m(\u001B[0m\u001B[0mself\u001B[0m\u001B[0;34m,\u001B[0m \u001B[0mkey\u001B[0m\u001B[0;34m:\u001B[0m \u001B[0mtuple\u001B[0m\u001B[0;34m)\u001B[0m\u001B[0;34m:\u001B[0m\u001B[0;34m\u001B[0m\u001B[0;34m\u001B[0m\u001B[0m\n",
      "\u001B[0;32m/usr/local/lib/python3.9/site-packages/pandas/core/indexing.py\u001B[0m in \u001B[0;36m_getitem_axis\u001B[0;34m(self, key, axis)\u001B[0m\n\u001B[1;32m   1564\u001B[0m \u001B[0;34m\u001B[0m\u001B[0m\n\u001B[1;32m   1565\u001B[0m             \u001B[0;31m# validate the location\u001B[0m\u001B[0;34m\u001B[0m\u001B[0;34m\u001B[0m\u001B[0;34m\u001B[0m\u001B[0m\n\u001B[0;32m-> 1566\u001B[0;31m             \u001B[0mself\u001B[0m\u001B[0;34m.\u001B[0m\u001B[0m_validate_integer\u001B[0m\u001B[0;34m(\u001B[0m\u001B[0mkey\u001B[0m\u001B[0;34m,\u001B[0m \u001B[0maxis\u001B[0m\u001B[0;34m)\u001B[0m\u001B[0;34m\u001B[0m\u001B[0;34m\u001B[0m\u001B[0m\n\u001B[0m\u001B[1;32m   1567\u001B[0m \u001B[0;34m\u001B[0m\u001B[0m\n\u001B[1;32m   1568\u001B[0m             \u001B[0;32mreturn\u001B[0m \u001B[0mself\u001B[0m\u001B[0;34m.\u001B[0m\u001B[0mobj\u001B[0m\u001B[0;34m.\u001B[0m\u001B[0m_ixs\u001B[0m\u001B[0;34m(\u001B[0m\u001B[0mkey\u001B[0m\u001B[0;34m,\u001B[0m \u001B[0maxis\u001B[0m\u001B[0;34m=\u001B[0m\u001B[0maxis\u001B[0m\u001B[0;34m)\u001B[0m\u001B[0;34m\u001B[0m\u001B[0;34m\u001B[0m\u001B[0m\n",
      "\u001B[0;32m/usr/local/lib/python3.9/site-packages/pandas/core/indexing.py\u001B[0m in \u001B[0;36m_validate_integer\u001B[0;34m(self, key, axis)\u001B[0m\n\u001B[1;32m   1498\u001B[0m         \u001B[0mlen_axis\u001B[0m \u001B[0;34m=\u001B[0m \u001B[0mlen\u001B[0m\u001B[0;34m(\u001B[0m\u001B[0mself\u001B[0m\u001B[0;34m.\u001B[0m\u001B[0mobj\u001B[0m\u001B[0;34m.\u001B[0m\u001B[0m_get_axis\u001B[0m\u001B[0;34m(\u001B[0m\u001B[0maxis\u001B[0m\u001B[0;34m)\u001B[0m\u001B[0;34m)\u001B[0m\u001B[0;34m\u001B[0m\u001B[0;34m\u001B[0m\u001B[0m\n\u001B[1;32m   1499\u001B[0m         \u001B[0;32mif\u001B[0m \u001B[0mkey\u001B[0m \u001B[0;34m>=\u001B[0m \u001B[0mlen_axis\u001B[0m \u001B[0;32mor\u001B[0m \u001B[0mkey\u001B[0m \u001B[0;34m<\u001B[0m \u001B[0;34m-\u001B[0m\u001B[0mlen_axis\u001B[0m\u001B[0;34m:\u001B[0m\u001B[0;34m\u001B[0m\u001B[0;34m\u001B[0m\u001B[0m\n\u001B[0;32m-> 1500\u001B[0;31m             \u001B[0;32mraise\u001B[0m \u001B[0mIndexError\u001B[0m\u001B[0;34m(\u001B[0m\u001B[0;34m\"single positional indexer is out-of-bounds\"\u001B[0m\u001B[0;34m)\u001B[0m\u001B[0;34m\u001B[0m\u001B[0;34m\u001B[0m\u001B[0m\n\u001B[0m\u001B[1;32m   1501\u001B[0m \u001B[0;34m\u001B[0m\u001B[0m\n\u001B[1;32m   1502\u001B[0m     \u001B[0;31m# -------------------------------------------------------------------\u001B[0m\u001B[0;34m\u001B[0m\u001B[0;34m\u001B[0m\u001B[0;34m\u001B[0m\u001B[0m\n",
      "\u001B[0;31mIndexError\u001B[0m: single positional indexer is out-of-bounds"
     ]
    }
   ],
   "source": [
    "runs_df = sweep2df(sweep.runs, filename, True,load=False)"
   ]
  },
  {
   "cell_type": "code",
   "execution_count": 131,
   "outputs": [
    {
     "data": {
      "text/plain": "                      name  dim  gamma_square  neg_elbo   kl_loss   rec_loss  \\\n2         fluent-sweep-114    3      100000.0 -3.640918 -8.714379  12.355302   \n3         atomic-sweep-116    3      100000.0 -3.996430 -8.473587  12.470016   \n4          laced-sweep-114    3      100000.0 -3.747862 -8.485846  12.233707   \n5        ancient-sweep-112    3      100000.0 -3.586784 -8.464359  12.051142   \n6         spring-sweep-113    3      100000.0 -3.934934 -8.590427  12.525364   \n..                     ...  ...           ...       ...       ...        ...   \n101        hearty-sweep-16    3          10.0 -0.628291 -0.029677   0.657968   \n102       worldly-sweep-14    3          10.0 -0.629037 -0.028636   0.657673   \n103      electric-sweep-13    3          10.0 -0.629196 -0.028810   0.658006   \n104          amber-sweep-5    3          10.0 -0.630610 -0.026974   0.657584   \n105  misunderstood-sweep-2    3          10.0 -0.628700 -0.029314   0.658014   \n\n       prior      cima       mcc  min_cima  ...  mse_obs_decoded_mean_latents  \\\n2    uniform  0.000936  0.969670  0.000156  ...                      0.274316   \n3    uniform  0.001027  0.970464  0.000728  ...                      0.159183   \n4    uniform  0.003681  0.946228  0.000269  ...                      0.045951   \n5    uniform  0.003386  0.951198  0.000124  ...                      0.136959   \n6    uniform  0.002835  0.962819  0.001381  ...                      0.086533   \n..       ...       ...       ...       ...  ...                           ...   \n101  uniform  1.681410  0.149829  0.419867  ...                      0.002663   \n102  uniform  2.732165  0.152009  0.672617  ...                      0.003187   \n103  uniform  0.139535  0.151928  0.139535  ...                      0.002722   \n104  uniform  2.011273  0.147999  0.895605  ...                      0.003388   \n105  uniform  0.533577  0.153660  0.533577  ...                      0.002787   \n\n      sigma_0   sigma_1   sigma_2  col_norm_sq_0  col_norm_sq_1  \\\n2    0.007393  0.009558  0.001937       0.047193       0.044481   \n3    0.005522  0.008229  0.007855       0.054120       0.045492   \n4    0.007410  0.007825  0.008242       0.050532       0.049638   \n5    0.007778  0.008751  0.005789       0.049475       0.044894   \n6    0.007939  0.007793  0.004224       0.048887       0.045082   \n..        ...       ...       ...            ...            ...   \n101  3.051715  3.196243  3.118419       0.000015       0.000017   \n102  3.133762  3.053871  3.105312       0.000034       0.000049   \n103  2.980591  3.030186  2.984174       0.000033       0.000041   \n104  3.030219  3.165489  3.011441       0.000026       0.000054   \n105  2.966259  2.997663  2.987550       0.000058       0.000021   \n\n     col_norm_sq_2        rhs_0        rhs_1         rhs_2  \n2         0.098077     0.000212     0.000225      0.000102  \n3         0.050592     0.000185     0.000220      0.000198  \n4         0.051911     0.000198     0.000201      0.000193  \n5         0.054576     0.000202     0.000223      0.000183  \n6         0.070696     0.000205     0.000222      0.000141  \n..             ...          ...          ...           ...  \n101       0.000044  6813.537006  5913.999350   2263.865816  \n102       0.000043  2946.676136  2028.687045   2347.593478  \n103       0.000009  3024.593273  2462.646376  11314.802235  \n104       0.000005  3847.065156  1842.198024  19432.445254  \n105       0.000092  1717.882695  4801.295981   1083.640826  \n\n[86 rows x 30 columns]",
      "text/html": "<div>\n<style scoped>\n    .dataframe tbody tr th:only-of-type {\n        vertical-align: middle;\n    }\n\n    .dataframe tbody tr th {\n        vertical-align: top;\n    }\n\n    .dataframe thead th {\n        text-align: right;\n    }\n</style>\n<table border=\"1\" class=\"dataframe\">\n  <thead>\n    <tr style=\"text-align: right;\">\n      <th></th>\n      <th>name</th>\n      <th>dim</th>\n      <th>gamma_square</th>\n      <th>neg_elbo</th>\n      <th>kl_loss</th>\n      <th>rec_loss</th>\n      <th>prior</th>\n      <th>cima</th>\n      <th>mcc</th>\n      <th>min_cima</th>\n      <th>...</th>\n      <th>mse_obs_decoded_mean_latents</th>\n      <th>sigma_0</th>\n      <th>sigma_1</th>\n      <th>sigma_2</th>\n      <th>col_norm_sq_0</th>\n      <th>col_norm_sq_1</th>\n      <th>col_norm_sq_2</th>\n      <th>rhs_0</th>\n      <th>rhs_1</th>\n      <th>rhs_2</th>\n    </tr>\n  </thead>\n  <tbody>\n    <tr>\n      <th>2</th>\n      <td>fluent-sweep-114</td>\n      <td>3</td>\n      <td>100000.0</td>\n      <td>-3.640918</td>\n      <td>-8.714379</td>\n      <td>12.355302</td>\n      <td>uniform</td>\n      <td>0.000936</td>\n      <td>0.969670</td>\n      <td>0.000156</td>\n      <td>...</td>\n      <td>0.274316</td>\n      <td>0.007393</td>\n      <td>0.009558</td>\n      <td>0.001937</td>\n      <td>0.047193</td>\n      <td>0.044481</td>\n      <td>0.098077</td>\n      <td>0.000212</td>\n      <td>0.000225</td>\n      <td>0.000102</td>\n    </tr>\n    <tr>\n      <th>3</th>\n      <td>atomic-sweep-116</td>\n      <td>3</td>\n      <td>100000.0</td>\n      <td>-3.996430</td>\n      <td>-8.473587</td>\n      <td>12.470016</td>\n      <td>uniform</td>\n      <td>0.001027</td>\n      <td>0.970464</td>\n      <td>0.000728</td>\n      <td>...</td>\n      <td>0.159183</td>\n      <td>0.005522</td>\n      <td>0.008229</td>\n      <td>0.007855</td>\n      <td>0.054120</td>\n      <td>0.045492</td>\n      <td>0.050592</td>\n      <td>0.000185</td>\n      <td>0.000220</td>\n      <td>0.000198</td>\n    </tr>\n    <tr>\n      <th>4</th>\n      <td>laced-sweep-114</td>\n      <td>3</td>\n      <td>100000.0</td>\n      <td>-3.747862</td>\n      <td>-8.485846</td>\n      <td>12.233707</td>\n      <td>uniform</td>\n      <td>0.003681</td>\n      <td>0.946228</td>\n      <td>0.000269</td>\n      <td>...</td>\n      <td>0.045951</td>\n      <td>0.007410</td>\n      <td>0.007825</td>\n      <td>0.008242</td>\n      <td>0.050532</td>\n      <td>0.049638</td>\n      <td>0.051911</td>\n      <td>0.000198</td>\n      <td>0.000201</td>\n      <td>0.000193</td>\n    </tr>\n    <tr>\n      <th>5</th>\n      <td>ancient-sweep-112</td>\n      <td>3</td>\n      <td>100000.0</td>\n      <td>-3.586784</td>\n      <td>-8.464359</td>\n      <td>12.051142</td>\n      <td>uniform</td>\n      <td>0.003386</td>\n      <td>0.951198</td>\n      <td>0.000124</td>\n      <td>...</td>\n      <td>0.136959</td>\n      <td>0.007778</td>\n      <td>0.008751</td>\n      <td>0.005789</td>\n      <td>0.049475</td>\n      <td>0.044894</td>\n      <td>0.054576</td>\n      <td>0.000202</td>\n      <td>0.000223</td>\n      <td>0.000183</td>\n    </tr>\n    <tr>\n      <th>6</th>\n      <td>spring-sweep-113</td>\n      <td>3</td>\n      <td>100000.0</td>\n      <td>-3.934934</td>\n      <td>-8.590427</td>\n      <td>12.525364</td>\n      <td>uniform</td>\n      <td>0.002835</td>\n      <td>0.962819</td>\n      <td>0.001381</td>\n      <td>...</td>\n      <td>0.086533</td>\n      <td>0.007939</td>\n      <td>0.007793</td>\n      <td>0.004224</td>\n      <td>0.048887</td>\n      <td>0.045082</td>\n      <td>0.070696</td>\n      <td>0.000205</td>\n      <td>0.000222</td>\n      <td>0.000141</td>\n    </tr>\n    <tr>\n      <th>...</th>\n      <td>...</td>\n      <td>...</td>\n      <td>...</td>\n      <td>...</td>\n      <td>...</td>\n      <td>...</td>\n      <td>...</td>\n      <td>...</td>\n      <td>...</td>\n      <td>...</td>\n      <td>...</td>\n      <td>...</td>\n      <td>...</td>\n      <td>...</td>\n      <td>...</td>\n      <td>...</td>\n      <td>...</td>\n      <td>...</td>\n      <td>...</td>\n      <td>...</td>\n      <td>...</td>\n    </tr>\n    <tr>\n      <th>101</th>\n      <td>hearty-sweep-16</td>\n      <td>3</td>\n      <td>10.0</td>\n      <td>-0.628291</td>\n      <td>-0.029677</td>\n      <td>0.657968</td>\n      <td>uniform</td>\n      <td>1.681410</td>\n      <td>0.149829</td>\n      <td>0.419867</td>\n      <td>...</td>\n      <td>0.002663</td>\n      <td>3.051715</td>\n      <td>3.196243</td>\n      <td>3.118419</td>\n      <td>0.000015</td>\n      <td>0.000017</td>\n      <td>0.000044</td>\n      <td>6813.537006</td>\n      <td>5913.999350</td>\n      <td>2263.865816</td>\n    </tr>\n    <tr>\n      <th>102</th>\n      <td>worldly-sweep-14</td>\n      <td>3</td>\n      <td>10.0</td>\n      <td>-0.629037</td>\n      <td>-0.028636</td>\n      <td>0.657673</td>\n      <td>uniform</td>\n      <td>2.732165</td>\n      <td>0.152009</td>\n      <td>0.672617</td>\n      <td>...</td>\n      <td>0.003187</td>\n      <td>3.133762</td>\n      <td>3.053871</td>\n      <td>3.105312</td>\n      <td>0.000034</td>\n      <td>0.000049</td>\n      <td>0.000043</td>\n      <td>2946.676136</td>\n      <td>2028.687045</td>\n      <td>2347.593478</td>\n    </tr>\n    <tr>\n      <th>103</th>\n      <td>electric-sweep-13</td>\n      <td>3</td>\n      <td>10.0</td>\n      <td>-0.629196</td>\n      <td>-0.028810</td>\n      <td>0.658006</td>\n      <td>uniform</td>\n      <td>0.139535</td>\n      <td>0.151928</td>\n      <td>0.139535</td>\n      <td>...</td>\n      <td>0.002722</td>\n      <td>2.980591</td>\n      <td>3.030186</td>\n      <td>2.984174</td>\n      <td>0.000033</td>\n      <td>0.000041</td>\n      <td>0.000009</td>\n      <td>3024.593273</td>\n      <td>2462.646376</td>\n      <td>11314.802235</td>\n    </tr>\n    <tr>\n      <th>104</th>\n      <td>amber-sweep-5</td>\n      <td>3</td>\n      <td>10.0</td>\n      <td>-0.630610</td>\n      <td>-0.026974</td>\n      <td>0.657584</td>\n      <td>uniform</td>\n      <td>2.011273</td>\n      <td>0.147999</td>\n      <td>0.895605</td>\n      <td>...</td>\n      <td>0.003388</td>\n      <td>3.030219</td>\n      <td>3.165489</td>\n      <td>3.011441</td>\n      <td>0.000026</td>\n      <td>0.000054</td>\n      <td>0.000005</td>\n      <td>3847.065156</td>\n      <td>1842.198024</td>\n      <td>19432.445254</td>\n    </tr>\n    <tr>\n      <th>105</th>\n      <td>misunderstood-sweep-2</td>\n      <td>3</td>\n      <td>10.0</td>\n      <td>-0.628700</td>\n      <td>-0.029314</td>\n      <td>0.658014</td>\n      <td>uniform</td>\n      <td>0.533577</td>\n      <td>0.153660</td>\n      <td>0.533577</td>\n      <td>...</td>\n      <td>0.002787</td>\n      <td>2.966259</td>\n      <td>2.997663</td>\n      <td>2.987550</td>\n      <td>0.000058</td>\n      <td>0.000021</td>\n      <td>0.000092</td>\n      <td>1717.882695</td>\n      <td>4801.295981</td>\n      <td>1083.640826</td>\n    </tr>\n  </tbody>\n</table>\n<p>86 rows × 30 columns</p>\n</div>"
     },
     "execution_count": 131,
     "metadata": {},
     "output_type": "execute_result"
    }
   ],
   "source": [
    "runs_df"
   ],
   "metadata": {
    "collapsed": false,
    "pycharm": {
     "name": "#%%\n"
    }
   }
  },
  {
   "cell_type": "code",
   "execution_count": 119,
   "outputs": [],
   "source": [
    "runs_df = runs_df[runs_df.gamma_square <= 1e5]"
   ],
   "metadata": {
    "collapsed": false,
    "pycharm": {
     "name": "#%%\n"
    }
   }
  },
  {
   "cell_type": "markdown",
   "source": [
    "$$ \\sigma_k^2 (x) = \\left(-n''(\\mu_k^\\phi(x)) + \\gamma^2 \\left\\Vert \\left[ J_f(g(x))\\right]_{:k}\\right\\Vert^2\\right)^{-1} $$"
   ],
   "metadata": {
    "collapsed": false,
    "pycharm": {
     "name": "#%% md\n"
    }
   }
  },
  {
   "cell_type": "markdown",
   "source": [],
   "metadata": {
    "collapsed": false,
    "pycharm": {
     "name": "#%% md\n"
    }
   }
  },
  {
   "cell_type": "code",
   "execution_count": 122,
   "outputs": [
    {
     "data": {
      "text/plain": "             cima4min_neg_elbo                                          \\\n                         count      mean       std       min       25%   \ngamma_square                                                             \n10.0                      20.0  1.335482  0.564094  0.611589  0.792626   \n100.0                     20.0  1.236132  0.559228  0.450587  0.768593   \n1000.0                    19.0  0.068911  0.139163  0.002055  0.002738   \n10000.0                   15.0  0.001613  0.000886  0.000733  0.000937   \n100000.0                  12.0  0.003683  0.003522  0.000571  0.001451   \n\n                                            \n                   50%       75%       max  \ngamma_square                                \n10.0          1.350295  1.737893  2.397702  \n100.0         1.049250  1.718161  2.334175  \n1000.0        0.004156  0.007729  0.444581  \n10000.0       0.001533  0.002020  0.003491  \n100000.0      0.002916  0.004132  0.012824  ",
      "text/html": "<div>\n<style scoped>\n    .dataframe tbody tr th:only-of-type {\n        vertical-align: middle;\n    }\n\n    .dataframe tbody tr th {\n        vertical-align: top;\n    }\n\n    .dataframe thead tr th {\n        text-align: left;\n    }\n\n    .dataframe thead tr:last-of-type th {\n        text-align: right;\n    }\n</style>\n<table border=\"1\" class=\"dataframe\">\n  <thead>\n    <tr>\n      <th></th>\n      <th colspan=\"8\" halign=\"left\">cima4min_neg_elbo</th>\n    </tr>\n    <tr>\n      <th></th>\n      <th>count</th>\n      <th>mean</th>\n      <th>std</th>\n      <th>min</th>\n      <th>25%</th>\n      <th>50%</th>\n      <th>75%</th>\n      <th>max</th>\n    </tr>\n    <tr>\n      <th>gamma_square</th>\n      <th></th>\n      <th></th>\n      <th></th>\n      <th></th>\n      <th></th>\n      <th></th>\n      <th></th>\n      <th></th>\n    </tr>\n  </thead>\n  <tbody>\n    <tr>\n      <th>10.0</th>\n      <td>20.0</td>\n      <td>1.335482</td>\n      <td>0.564094</td>\n      <td>0.611589</td>\n      <td>0.792626</td>\n      <td>1.350295</td>\n      <td>1.737893</td>\n      <td>2.397702</td>\n    </tr>\n    <tr>\n      <th>100.0</th>\n      <td>20.0</td>\n      <td>1.236132</td>\n      <td>0.559228</td>\n      <td>0.450587</td>\n      <td>0.768593</td>\n      <td>1.049250</td>\n      <td>1.718161</td>\n      <td>2.334175</td>\n    </tr>\n    <tr>\n      <th>1000.0</th>\n      <td>19.0</td>\n      <td>0.068911</td>\n      <td>0.139163</td>\n      <td>0.002055</td>\n      <td>0.002738</td>\n      <td>0.004156</td>\n      <td>0.007729</td>\n      <td>0.444581</td>\n    </tr>\n    <tr>\n      <th>10000.0</th>\n      <td>15.0</td>\n      <td>0.001613</td>\n      <td>0.000886</td>\n      <td>0.000733</td>\n      <td>0.000937</td>\n      <td>0.001533</td>\n      <td>0.002020</td>\n      <td>0.003491</td>\n    </tr>\n    <tr>\n      <th>100000.0</th>\n      <td>12.0</td>\n      <td>0.003683</td>\n      <td>0.003522</td>\n      <td>0.000571</td>\n      <td>0.001451</td>\n      <td>0.002916</td>\n      <td>0.004132</td>\n      <td>0.012824</td>\n    </tr>\n  </tbody>\n</table>\n</div>"
     },
     "execution_count": 122,
     "metadata": {},
     "output_type": "execute_result"
    }
   ],
   "source": [
    "runs_df[[ \"cima4min_neg_elbo\", \"gamma_square\"]].groupby(\"gamma_square\").describe()"
   ],
   "metadata": {
    "collapsed": false,
    "pycharm": {
     "name": "#%%\n"
    }
   }
  },
  {
   "cell_type": "code",
   "execution_count": 14,
   "outputs": [
    {
     "data": {
      "text/plain": "             mcc4min_neg_elbo                                          \\\n                        count      mean       std       min       25%   \ngamma_square                                                            \n10.0                     20.0  0.152054  0.002594  0.145711  0.150620   \n100.0                    20.0  0.150781  0.003009  0.144056  0.149297   \n1000.0                   19.0  0.711884  0.095085  0.529063  0.738003   \n10000.0                  15.0  0.960604  0.008021  0.945257  0.954726   \n100000.0                  8.0  0.961928  0.006590  0.951066  0.959291   \n1000000.0                19.0  0.874615  0.078698  0.681927  0.835355   \n\n                                            \n                   50%       75%       max  \ngamma_square                                \n10.0          0.151827  0.153587  0.156768  \n100.0         0.150826  0.152549  0.156737  \n1000.0        0.758195  0.764575  0.773091  \n10000.0       0.961280  0.967258  0.972414  \n100000.0      0.960931  0.965914  0.972617  \n1000000.0     0.892959  0.925237  0.966841  ",
      "text/html": "<div>\n<style scoped>\n    .dataframe tbody tr th:only-of-type {\n        vertical-align: middle;\n    }\n\n    .dataframe tbody tr th {\n        vertical-align: top;\n    }\n\n    .dataframe thead tr th {\n        text-align: left;\n    }\n\n    .dataframe thead tr:last-of-type th {\n        text-align: right;\n    }\n</style>\n<table border=\"1\" class=\"dataframe\">\n  <thead>\n    <tr>\n      <th></th>\n      <th colspan=\"8\" halign=\"left\">mcc4min_neg_elbo</th>\n    </tr>\n    <tr>\n      <th></th>\n      <th>count</th>\n      <th>mean</th>\n      <th>std</th>\n      <th>min</th>\n      <th>25%</th>\n      <th>50%</th>\n      <th>75%</th>\n      <th>max</th>\n    </tr>\n    <tr>\n      <th>gamma_square</th>\n      <th></th>\n      <th></th>\n      <th></th>\n      <th></th>\n      <th></th>\n      <th></th>\n      <th></th>\n      <th></th>\n    </tr>\n  </thead>\n  <tbody>\n    <tr>\n      <th>10.0</th>\n      <td>20.0</td>\n      <td>0.152054</td>\n      <td>0.002594</td>\n      <td>0.145711</td>\n      <td>0.150620</td>\n      <td>0.151827</td>\n      <td>0.153587</td>\n      <td>0.156768</td>\n    </tr>\n    <tr>\n      <th>100.0</th>\n      <td>20.0</td>\n      <td>0.150781</td>\n      <td>0.003009</td>\n      <td>0.144056</td>\n      <td>0.149297</td>\n      <td>0.150826</td>\n      <td>0.152549</td>\n      <td>0.156737</td>\n    </tr>\n    <tr>\n      <th>1000.0</th>\n      <td>19.0</td>\n      <td>0.711884</td>\n      <td>0.095085</td>\n      <td>0.529063</td>\n      <td>0.738003</td>\n      <td>0.758195</td>\n      <td>0.764575</td>\n      <td>0.773091</td>\n    </tr>\n    <tr>\n      <th>10000.0</th>\n      <td>15.0</td>\n      <td>0.960604</td>\n      <td>0.008021</td>\n      <td>0.945257</td>\n      <td>0.954726</td>\n      <td>0.961280</td>\n      <td>0.967258</td>\n      <td>0.972414</td>\n    </tr>\n    <tr>\n      <th>100000.0</th>\n      <td>8.0</td>\n      <td>0.961928</td>\n      <td>0.006590</td>\n      <td>0.951066</td>\n      <td>0.959291</td>\n      <td>0.960931</td>\n      <td>0.965914</td>\n      <td>0.972617</td>\n    </tr>\n    <tr>\n      <th>1000000.0</th>\n      <td>19.0</td>\n      <td>0.874615</td>\n      <td>0.078698</td>\n      <td>0.681927</td>\n      <td>0.835355</td>\n      <td>0.892959</td>\n      <td>0.925237</td>\n      <td>0.966841</td>\n    </tr>\n  </tbody>\n</table>\n</div>"
     },
     "execution_count": 14,
     "metadata": {},
     "output_type": "execute_result"
    }
   ],
   "source": [
    "runs_df[[ \"mcc4min_neg_elbo\", \"gamma_square\"]].groupby(\"gamma_square\").describe()"
   ],
   "metadata": {
    "collapsed": false,
    "pycharm": {
     "name": "#%%\n"
    }
   }
  },
  {
   "cell_type": "code",
   "execution_count": 123,
   "outputs": [
    {
     "data": {
      "text/plain": "             min_neg_elbo                                                    \\\n                    count      mean       std       min       25%       50%   \ngamma_square                                                                  \n10.0                 20.0 -0.631330  0.001146 -0.633572 -0.632227 -0.631218   \n100.0                20.0 -3.733695  0.001176 -3.736262 -3.734592 -3.733493   \n1000.0               19.0 -4.696911  0.014440 -4.711015 -4.707474 -4.705772   \n10000.0              15.0 -4.734727  0.121436 -4.889158 -4.822603 -4.767874   \n100000.0             12.0 -3.856143  0.319052 -4.231724 -4.126556 -3.892644   \n\n                                  \n                   75%       max  \ngamma_square                      \n10.0         -0.630326 -0.629624  \n100.0        -3.732953 -3.731812  \n1000.0       -4.687442 -4.660370  \n10000.0      -4.644563 -4.476871  \n100000.0     -3.697896 -3.312922  ",
      "text/html": "<div>\n<style scoped>\n    .dataframe tbody tr th:only-of-type {\n        vertical-align: middle;\n    }\n\n    .dataframe tbody tr th {\n        vertical-align: top;\n    }\n\n    .dataframe thead tr th {\n        text-align: left;\n    }\n\n    .dataframe thead tr:last-of-type th {\n        text-align: right;\n    }\n</style>\n<table border=\"1\" class=\"dataframe\">\n  <thead>\n    <tr>\n      <th></th>\n      <th colspan=\"8\" halign=\"left\">min_neg_elbo</th>\n    </tr>\n    <tr>\n      <th></th>\n      <th>count</th>\n      <th>mean</th>\n      <th>std</th>\n      <th>min</th>\n      <th>25%</th>\n      <th>50%</th>\n      <th>75%</th>\n      <th>max</th>\n    </tr>\n    <tr>\n      <th>gamma_square</th>\n      <th></th>\n      <th></th>\n      <th></th>\n      <th></th>\n      <th></th>\n      <th></th>\n      <th></th>\n      <th></th>\n    </tr>\n  </thead>\n  <tbody>\n    <tr>\n      <th>10.0</th>\n      <td>20.0</td>\n      <td>-0.631330</td>\n      <td>0.001146</td>\n      <td>-0.633572</td>\n      <td>-0.632227</td>\n      <td>-0.631218</td>\n      <td>-0.630326</td>\n      <td>-0.629624</td>\n    </tr>\n    <tr>\n      <th>100.0</th>\n      <td>20.0</td>\n      <td>-3.733695</td>\n      <td>0.001176</td>\n      <td>-3.736262</td>\n      <td>-3.734592</td>\n      <td>-3.733493</td>\n      <td>-3.732953</td>\n      <td>-3.731812</td>\n    </tr>\n    <tr>\n      <th>1000.0</th>\n      <td>19.0</td>\n      <td>-4.696911</td>\n      <td>0.014440</td>\n      <td>-4.711015</td>\n      <td>-4.707474</td>\n      <td>-4.705772</td>\n      <td>-4.687442</td>\n      <td>-4.660370</td>\n    </tr>\n    <tr>\n      <th>10000.0</th>\n      <td>15.0</td>\n      <td>-4.734727</td>\n      <td>0.121436</td>\n      <td>-4.889158</td>\n      <td>-4.822603</td>\n      <td>-4.767874</td>\n      <td>-4.644563</td>\n      <td>-4.476871</td>\n    </tr>\n    <tr>\n      <th>100000.0</th>\n      <td>12.0</td>\n      <td>-3.856143</td>\n      <td>0.319052</td>\n      <td>-4.231724</td>\n      <td>-4.126556</td>\n      <td>-3.892644</td>\n      <td>-3.697896</td>\n      <td>-3.312922</td>\n    </tr>\n  </tbody>\n</table>\n</div>"
     },
     "execution_count": 123,
     "metadata": {},
     "output_type": "execute_result"
    }
   ],
   "source": [
    "runs_df[[ \"min_neg_elbo\", \"gamma_square\"]].groupby(\"gamma_square\").describe()"
   ],
   "metadata": {
    "collapsed": false,
    "pycharm": {
     "name": "#%%\n"
    }
   }
  },
  {
   "cell_type": "markdown",
   "source": [],
   "metadata": {
    "collapsed": false,
    "pycharm": {
     "name": "#%% md\n"
    }
   }
  },
  {
   "cell_type": "code",
   "execution_count": 16,
   "outputs": [],
   "source": [
    "df_rhs = pd.DataFrame(runs_df[[col for col in runs_df.columns if \"rhs\" in col]].stack().droplevel(1), columns=[\"rhs\"])\n",
    "df_lhs = pd.DataFrame(runs_df[[col for col in runs_df.columns if \"sigma\" in col]].stack().droplevel(1), columns=[\"lhs\"])\n",
    "df_rhs_lhs_gamma_sq = df_rhs.merge( df_lhs, left_index=True, right_index=True).merge(runs_df[\"gamma_square\"], left_index=True, right_index=True)"
   ],
   "metadata": {
    "collapsed": false,
    "pycharm": {
     "name": "#%%\n"
    }
   }
  },
  {
   "cell_type": "code",
   "execution_count": 17,
   "outputs": [],
   "source": [
    "df_mse_sources_mean_decoded_sources = pd.DataFrame(runs_df[[col for col in runs_df.columns if col == \"mse_sources_mean_decoded_sources\"]].stack().droplevel(1), columns=[\"mse_sources_mean_decoded_sources\"])\n",
    "df_mse_obs_decoded_mean_latents = pd.DataFrame(runs_df[[col for col in runs_df.columns if col == \"mse_obs_decoded_mean_latents\"]].stack().droplevel(1), columns=[\"mse_obs_decoded_mean_latents\"])\n",
    "df_mse_gamma_sq = df_mse_sources_mean_decoded_sources.merge( df_mse_obs_decoded_mean_latents, left_index=True, right_index=True).merge(runs_df[\"gamma_square\"], left_index=True, right_index=True)"
   ],
   "metadata": {
    "collapsed": false,
    "pycharm": {
     "name": "#%%\n"
    }
   }
  },
  {
   "cell_type": "code",
   "execution_count": 49,
   "outputs": [],
   "source": [
    "def format_violin(vp, facecolor='#1A85FF'):\n",
    "    for el in vp['bodies']:\n",
    "        el.set_facecolor(facecolor)\n",
    "        el.set_edgecolor('black')\n",
    "        el.set_linewidth(1.5)\n",
    "        el.set_alpha(.9)\n",
    "    for pn in ['cbars', 'cmins', 'cmaxes', 'cmedians']:\n",
    "        vp_ = vp[pn]\n",
    "        vp_.set_edgecolor('black')\n",
    "        vp_.set_linewidth(1)"
   ],
   "metadata": {
    "collapsed": false,
    "pycharm": {
     "name": "#%%\n"
    }
   }
  },
  {
   "cell_type": "code",
   "execution_count": 44,
   "outputs": [],
   "source": [
    "def create_violinplot(groups, xlabel, ylabel, xticklabels, filename=None, ax=None):\n",
    "    if ax is None:\n",
    "        fig, ax = plt.subplots()\n",
    "    else:\n",
    "        ax = ax.twinx()\n",
    "\n",
    "    vp= ax.violinplot(groups, showmedians=True)\n",
    "    format_violin(vp, '#1A85FF')\n",
    "\n",
    "    ax.set_xticklabels(xticklabels)\n",
    "    # ax.set_xticks(xticks)\n",
    "    # plt.locator_params(axis='y', nbins=5)\n",
    "    # plt.yticks(fontsize=24)\n",
    "    # plt.ylim([0, 0.5])\n",
    "    ax.set_ylabel(ylabel)\n",
    "    # ax.set_xlabel(xlabel)\n",
    "    if filename is not None:\n",
    "        plt.savefig(f\"{filename}.svg\")\n",
    "    return ax"
   ],
   "metadata": {
    "collapsed": false,
    "pycharm": {
     "name": "#%%\n"
    }
   }
  },
  {
   "cell_type": "code",
   "execution_count": 37,
   "outputs": [],
   "source": [],
   "metadata": {
    "collapsed": false,
    "pycharm": {
     "name": "#%%\n"
    }
   }
  },
  {
   "cell_type": "code",
   "execution_count": 126,
   "outputs": [],
   "source": [
    "elbo_filter = runs_df[[ \"neg_elbo\", \"gamma_square\"]].groupby(\"gamma_square\").describe()['neg_elbo']['max']\n",
    "groups = [g for _, g in runs_df[[ \"neg_elbo\", \"mcc4min_neg_elbo\", \"cima4min_neg_elbo\", \"gamma_square\"]].groupby(\"gamma_square\")]\n",
    "gg_mcc = [g[g.neg_elbo <= threshold].mcc4min_neg_elbo  for g, threshold in zip(groups, elbo_filter)]\n",
    "gg_cima = [g[g.neg_elbo <= threshold].cima4min_neg_elbo  for g, threshold in zip(groups, elbo_filter)]\n",
    "gg_gamma = [g[g.neg_elbo <= threshold].gamma_square  for g, threshold in zip(groups, elbo_filter)]"
   ],
   "metadata": {
    "collapsed": false,
    "pycharm": {
     "name": "#%%\n"
    }
   }
  },
  {
   "cell_type": "code",
   "execution_count": 127,
   "outputs": [
    {
     "name": "stderr",
     "output_type": "stream",
     "text": [
      "/var/folders/rb/d8k1n6bj4lg801y0yxz4jtbh0000gn/T/ipykernel_25805/852160804.py:13: UserWarning: FixedFormatter should only be used together with FixedLocator\n",
      "  ax.set_xticklabels([0]+ sorted(np.log10(runs_df[\"gamma_square\"]).astype(int).unique()))\n"
     ]
    },
    {
     "data": {
      "text/plain": "<Figure size 396x244.741 with 2 Axes>",
      "image/png": "[encoded data removed]"
     },
     "metadata": {
      "needs_background": "light"
     },
     "output_type": "display_data"
    }
   ],
   "source": [
    "fig, ax = plt.subplots(figsize=figsizes.neurips2022(nrows=1, ncols=1)['figure.figsize'])\n",
    "ax2 = ax.twinx()\n",
    "\n",
    "vp= ax.violinplot([np.log10(g) for g in gg_cima], showmedians=True)\n",
    "format_violin(vp)\n",
    "ax.set_ylabel(\"$\\log_{10} C_{IMA}$\")\n",
    "\n",
    "vp2= ax2.violinplot(gg_mcc, showmedians=True)\n",
    "format_violin(vp2,'#D0021B')\n",
    "ax2.set_ylabel(\"$MCC$\")\n",
    "\n",
    "ax.set_xlabel(\"$\\log_{10}\\gamma^2$\")\n",
    "ax.set_xticklabels([0]+ sorted(np.log10(runs_df[\"gamma_square\"]).astype(int).unique()))\n",
    "plt.legend([vp['bodies'][0],vp2['bodies'][0]], [\"$\\log_{10} C_{IMA}$\", \"$MCC$\"], loc='right')\n",
    "\n",
    "plt.savefig(\"moebius_mcc_cima.svg\")"
   ],
   "metadata": {
    "collapsed": false,
    "pycharm": {
     "name": "#%%\n"
    }
   }
  },
  {
   "cell_type": "code",
   "execution_count": null,
   "outputs": [],
   "source": [
    "def violin_by_prior(gauss_data, laplace_data, uniform_data, xticks, xlabel, ylabel,  offset, filename, figsize=(8,6), log=False):\n",
    "\n",
    "    plt.figure(figsize=figsize)\n",
    "    vp_gauss = plt.violinplot([np.log10(i) if log is True else i for i in gauss_data], positions=xticks)\n",
    "    vp_laplace = plt.violinplot([np.log10(i) if log is True else i for i in laplace_data], positions=-offset+xticks)\n",
    "    vp_uniform= plt.violinplot([np.log10(i) if log is True else i for i in uniform_data], positions=offset+xticks)\n",
    "    plt.legend([vp_gauss['bodies'][0],vp_laplace['bodies'][0], vp_uniform['bodies'][0]], ['gaussian', 'laplace', 'uniform'], loc='upper right')\n",
    "    plt.xlabel(xlabel)\n",
    "    plt.ylabel(ylabel)\n",
    "    plt.xticks(xticks)\n",
    "    # plt.tight_layout()\n",
    "    plt.savefig(filename)"
   ],
   "metadata": {
    "collapsed": false,
    "pycharm": {
     "name": "#%%\n"
    }
   }
  }
 ],
 "metadata": {
  "kernelspec": {
   "display_name": "Python 3 (ipykernel)",
   "language": "python",
   "name": "python3"
  },
  "language_info": {
   "codemirror_mode": {
    "name": "ipython",
    "version": 3
   },
   "file_extension": ".py",
   "mimetype": "text/x-python",
   "name": "python",
   "nbconvert_exporter": "python",
   "pygments_lexer": "ipython3",
   "version": "3.9.6"
  }
 },
 "nbformat": 4,
 "nbformat_minor": 1
}