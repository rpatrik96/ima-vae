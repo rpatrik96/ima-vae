{
 "cells": [
  {
   "cell_type": "code",
   "execution_count": 1,
   "metadata": {
    "pycharm": {
     "name": "#%%\n"
    }
   },
   "outputs": [],
   "source": [
    "# imports\n",
    "from tueplots import bundles\n",
    "import wandb\n",
    "import pandas as pd\n",
    "import numpy as np\n",
    "import matplotlib.pyplot as plt\n",
    "from tueplots  import figsizes\n",
    "\n",
    "import sys\n",
    "%load_ext autoreload\n",
    "%autoreload 2\n",
    "\n",
    "sys.path.insert(0, '.')"
   ]
  },
  {
   "cell_type": "code",
   "execution_count": 18,
   "outputs": [],
   "source": [
    "from analysis import sweep2df, format_violin, RED, BLUE"
   ],
   "metadata": {
    "collapsed": false,
    "pycharm": {
     "name": "#%%\n"
    }
   }
  },
  {
   "cell_type": "code",
   "execution_count": 3,
   "outputs": [],
   "source": [
    "plt.rcParams.update(bundles.neurips2022(usetex=True))"
   ],
   "metadata": {
    "collapsed": false,
    "pycharm": {
     "name": "#%%\n"
    }
   }
  },
  {
   "cell_type": "code",
   "execution_count": 4,
   "metadata": {
    "pycharm": {
     "name": "#%%\n"
    }
   },
   "outputs": [],
   "source": [
    "# Constants\n",
    "ENTITY = \"ima-vae\"\n",
    "PROJECT = \"priors\"\n",
    "\n",
    "# W&B API\n",
    "api = wandb.Api(timeout=200)\n",
    "runs = api.runs(ENTITY + \"/\" + PROJECT)"
   ]
  },
  {
   "cell_type": "markdown",
   "source": [
    "# Data loading"
   ],
   "metadata": {
    "collapsed": false,
    "pycharm": {
     "name": "#%% md\n"
    }
   }
  },
  {
   "cell_type": "code",
   "execution_count": 5,
   "metadata": {
    "pycharm": {
     "name": "#%%\n"
    }
   },
   "outputs": [
    {
     "name": "stdout",
     "output_type": "stream",
     "text": [
      "Loading sweep with SWEEP_ID='2y77igd1'\n",
      "\t Loading moebius_sweep_2y77igd1.csv...\n",
      "Loading sweep with SWEEP_ID='vtyztyfn'\n",
      "\t Loading moebius_lin_map_sweep_vtyztyfn.csv...\n",
      "Loading sweep with SWEEP_ID='uac6296c'\n",
      "\t Loading moebius_lin_map_sweep_uac6296c.csv...\n",
      "Loading sweep with SWEEP_ID='afkhqbu9'\n",
      "\t Loading ar_flow_sweep_afkhqbu9.csv...\n"
     ]
    }
   ],
   "source": [
    "\"\"\"Moebius gamma ablation\"\"\"\n",
    "SWEEP_ID = \"2y77igd1\"\n",
    "sweep = api.sweep(f\"{ENTITY}/{PROJECT}/{SWEEP_ID}\")\n",
    "filename = f\"moebius_sweep_{SWEEP_ID}.csv\"\n",
    "print(f\"Loading sweep with {SWEEP_ID=}\")\n",
    "moebius_df = sweep2df(sweep.runs, filename, save=True, load=True)\n",
    "\n",
    "moebius_df = moebius_df[moebius_df.gamma_square <= 1e5]\n",
    "\n",
    "\"\"\"Moebius + linear map (20 seeds)\"\"\"\n",
    "SWEEP_ID = \"vtyztyfn\"\n",
    "api = wandb.Api(timeout=200)\n",
    "runs = api.runs(ENTITY + \"/\" + PROJECT)\n",
    "sweep = api.sweep(f\"{ENTITY}/{PROJECT}/{SWEEP_ID}\")\n",
    "print(f\"Loading sweep with {SWEEP_ID=}\")\n",
    "filename = f\"moebius_lin_map_sweep_{SWEEP_ID}.csv\"\n",
    "runs_df1 = sweep2df(sweep.runs, filename, save=True,load=True)\n",
    "\n",
    "\"\"\"Moebius + linear map (80 seeds)\"\"\"\n",
    "SWEEP_ID = \"uac6296c\"\n",
    "sweep = api.sweep(f\"{ENTITY}/{PROJECT}/{SWEEP_ID}\")\n",
    "filename = f\"moebius_lin_map_sweep_{SWEEP_ID}.csv\"\n",
    "print(f\"Loading sweep with {SWEEP_ID=}\")\n",
    "runs_df2 = sweep2df(sweep.runs, filename, save=True,load=True)\n",
    "\n",
    "moebius_lin_map_df = pd.concat([runs_df1, runs_df2]).reset_index(drop=True)\n",
    "\n",
    "\"\"\"AR flow (100 seeds)\"\"\"\n",
    "SWEEP_ID = \"afkhqbu9\"\n",
    "sweep = api.sweep(f\"{ENTITY}/{PROJECT}/{SWEEP_ID}\")\n",
    "filename = f\"ar_flow_sweep_{SWEEP_ID}.csv\"\n",
    "print(f\"Loading sweep with {SWEEP_ID=}\")\n",
    "flow_df = sweep2df(sweep.runs, filename, save=True, load=True)"
   ]
  },
  {
   "cell_type": "markdown",
   "source": [
    "## Data inspection"
   ],
   "metadata": {
    "collapsed": false,
    "pycharm": {
     "name": "#%% md\n"
    }
   }
  },
  {
   "cell_type": "markdown",
   "source": [
    "$$ \\sigma_k^2 (x) = \\left(-n''(\\mu_k^\\phi(x)) + \\gamma^2 \\left\\Vert \\left[ J_f(g(x))\\right]_{:k}\\right\\Vert^2\\right)^{-1} $$"
   ],
   "metadata": {
    "collapsed": false,
    "pycharm": {
     "name": "#%% md\n"
    }
   }
  },
  {
   "cell_type": "markdown",
   "source": [
    "### Moebius $\\gamma$ ablation"
   ],
   "metadata": {
    "collapsed": false,
    "pycharm": {
     "name": "#%% md\n"
    }
   }
  },
  {
   "cell_type": "markdown",
   "source": [],
   "metadata": {
    "collapsed": false,
    "pycharm": {
     "name": "#%% md\n"
    }
   }
  },
  {
   "cell_type": "code",
   "execution_count": 147,
   "outputs": [
    {
     "data": {
      "text/plain": "             cima4min_neg_elbo                                          \\\n                         count      mean       std       min       25%   \ngamma_square                                                             \n10.0                      20.0  1.335482  0.564094  0.611589  0.792626   \n100.0                     20.0  1.236132  0.559228  0.450587  0.768593   \n1000.0                    19.0  0.068911  0.139163  0.002055  0.002738   \n10000.0                   18.0  0.001694  0.001008  0.000548  0.000933   \n100000.0                  20.0  0.004486  0.003369  0.000571  0.002154   \n\n                                            \n                   50%       75%       max  \ngamma_square                                \n10.0          1.350295  1.737893  2.397702  \n100.0         1.049250  1.718161  2.334175  \n1000.0        0.004156  0.007729  0.444581  \n10000.0       0.001556  0.002046  0.003893  \n100000.0      0.003660  0.005736  0.012824  ",
      "text/html": "<div>\n<style scoped>\n    .dataframe tbody tr th:only-of-type {\n        vertical-align: middle;\n    }\n\n    .dataframe tbody tr th {\n        vertical-align: top;\n    }\n\n    .dataframe thead tr th {\n        text-align: left;\n    }\n\n    .dataframe thead tr:last-of-type th {\n        text-align: right;\n    }\n</style>\n<table border=\"1\" class=\"dataframe\">\n  <thead>\n    <tr>\n      <th></th>\n      <th colspan=\"8\" halign=\"left\">cima4min_neg_elbo</th>\n    </tr>\n    <tr>\n      <th></th>\n      <th>count</th>\n      <th>mean</th>\n      <th>std</th>\n      <th>min</th>\n      <th>25%</th>\n      <th>50%</th>\n      <th>75%</th>\n      <th>max</th>\n    </tr>\n    <tr>\n      <th>gamma_square</th>\n      <th></th>\n      <th></th>\n      <th></th>\n      <th></th>\n      <th></th>\n      <th></th>\n      <th></th>\n      <th></th>\n    </tr>\n  </thead>\n  <tbody>\n    <tr>\n      <th>10.0</th>\n      <td>20.0</td>\n      <td>1.335482</td>\n      <td>0.564094</td>\n      <td>0.611589</td>\n      <td>0.792626</td>\n      <td>1.350295</td>\n      <td>1.737893</td>\n      <td>2.397702</td>\n    </tr>\n    <tr>\n      <th>100.0</th>\n      <td>20.0</td>\n      <td>1.236132</td>\n      <td>0.559228</td>\n      <td>0.450587</td>\n      <td>0.768593</td>\n      <td>1.049250</td>\n      <td>1.718161</td>\n      <td>2.334175</td>\n    </tr>\n    <tr>\n      <th>1000.0</th>\n      <td>19.0</td>\n      <td>0.068911</td>\n      <td>0.139163</td>\n      <td>0.002055</td>\n      <td>0.002738</td>\n      <td>0.004156</td>\n      <td>0.007729</td>\n      <td>0.444581</td>\n    </tr>\n    <tr>\n      <th>10000.0</th>\n      <td>18.0</td>\n      <td>0.001694</td>\n      <td>0.001008</td>\n      <td>0.000548</td>\n      <td>0.000933</td>\n      <td>0.001556</td>\n      <td>0.002046</td>\n      <td>0.003893</td>\n    </tr>\n    <tr>\n      <th>100000.0</th>\n      <td>20.0</td>\n      <td>0.004486</td>\n      <td>0.003369</td>\n      <td>0.000571</td>\n      <td>0.002154</td>\n      <td>0.003660</td>\n      <td>0.005736</td>\n      <td>0.012824</td>\n    </tr>\n  </tbody>\n</table>\n</div>"
     },
     "execution_count": 147,
     "metadata": {},
     "output_type": "execute_result"
    }
   ],
   "source": [
    "moebius_df[[\"cima4min_neg_elbo\", \"gamma_square\"]].groupby(\"gamma_square\").describe()"
   ],
   "metadata": {
    "collapsed": false,
    "pycharm": {
     "name": "#%%\n"
    }
   }
  },
  {
   "cell_type": "code",
   "execution_count": 148,
   "outputs": [
    {
     "data": {
      "text/plain": "             mcc4min_neg_elbo                                          \\\n                        count      mean       std       min       25%   \ngamma_square                                                            \n10.0                     20.0  0.152054  0.002594  0.145711  0.150620   \n100.0                    20.0  0.150781  0.003009  0.144056  0.149297   \n1000.0                   19.0  0.711884  0.095085  0.529063  0.738003   \n10000.0                  18.0  0.960569  0.008208  0.945257  0.954324   \n100000.0                 20.0  0.960279  0.008393  0.945410  0.954748   \n\n                                            \n                   50%       75%       max  \ngamma_square                                \n10.0          0.151827  0.153587  0.156768  \n100.0         0.150826  0.152549  0.156737  \n1000.0        0.758195  0.764575  0.773091  \n10000.0       0.960455  0.967798  0.972966  \n100000.0      0.960646  0.965914  0.977027  ",
      "text/html": "<div>\n<style scoped>\n    .dataframe tbody tr th:only-of-type {\n        vertical-align: middle;\n    }\n\n    .dataframe tbody tr th {\n        vertical-align: top;\n    }\n\n    .dataframe thead tr th {\n        text-align: left;\n    }\n\n    .dataframe thead tr:last-of-type th {\n        text-align: right;\n    }\n</style>\n<table border=\"1\" class=\"dataframe\">\n  <thead>\n    <tr>\n      <th></th>\n      <th colspan=\"8\" halign=\"left\">mcc4min_neg_elbo</th>\n    </tr>\n    <tr>\n      <th></th>\n      <th>count</th>\n      <th>mean</th>\n      <th>std</th>\n      <th>min</th>\n      <th>25%</th>\n      <th>50%</th>\n      <th>75%</th>\n      <th>max</th>\n    </tr>\n    <tr>\n      <th>gamma_square</th>\n      <th></th>\n      <th></th>\n      <th></th>\n      <th></th>\n      <th></th>\n      <th></th>\n      <th></th>\n      <th></th>\n    </tr>\n  </thead>\n  <tbody>\n    <tr>\n      <th>10.0</th>\n      <td>20.0</td>\n      <td>0.152054</td>\n      <td>0.002594</td>\n      <td>0.145711</td>\n      <td>0.150620</td>\n      <td>0.151827</td>\n      <td>0.153587</td>\n      <td>0.156768</td>\n    </tr>\n    <tr>\n      <th>100.0</th>\n      <td>20.0</td>\n      <td>0.150781</td>\n      <td>0.003009</td>\n      <td>0.144056</td>\n      <td>0.149297</td>\n      <td>0.150826</td>\n      <td>0.152549</td>\n      <td>0.156737</td>\n    </tr>\n    <tr>\n      <th>1000.0</th>\n      <td>19.0</td>\n      <td>0.711884</td>\n      <td>0.095085</td>\n      <td>0.529063</td>\n      <td>0.738003</td>\n      <td>0.758195</td>\n      <td>0.764575</td>\n      <td>0.773091</td>\n    </tr>\n    <tr>\n      <th>10000.0</th>\n      <td>18.0</td>\n      <td>0.960569</td>\n      <td>0.008208</td>\n      <td>0.945257</td>\n      <td>0.954324</td>\n      <td>0.960455</td>\n      <td>0.967798</td>\n      <td>0.972966</td>\n    </tr>\n    <tr>\n      <th>100000.0</th>\n      <td>20.0</td>\n      <td>0.960279</td>\n      <td>0.008393</td>\n      <td>0.945410</td>\n      <td>0.954748</td>\n      <td>0.960646</td>\n      <td>0.965914</td>\n      <td>0.977027</td>\n    </tr>\n  </tbody>\n</table>\n</div>"
     },
     "execution_count": 148,
     "metadata": {},
     "output_type": "execute_result"
    }
   ],
   "source": [
    "moebius_df[[\"mcc4min_neg_elbo\", \"gamma_square\"]].groupby(\"gamma_square\").describe()"
   ],
   "metadata": {
    "collapsed": false,
    "pycharm": {
     "name": "#%%\n"
    }
   }
  },
  {
   "cell_type": "code",
   "execution_count": 149,
   "outputs": [
    {
     "data": {
      "text/plain": "             min_neg_elbo                                                    \\\n                    count      mean       std       min       25%       50%   \ngamma_square                                                                  \n10.0                 20.0 -0.631330  0.001146 -0.633572 -0.632227 -0.631218   \n100.0                20.0 -3.733695  0.001176 -3.736262 -3.734592 -3.733493   \n1000.0               19.0 -4.696911  0.014440 -4.711015 -4.707474 -4.705772   \n10000.0              18.0 -4.745679  0.116238 -4.889962 -4.827169 -4.769033   \n100000.0             20.0 -3.961198  0.287607 -4.266053 -4.183210 -4.077030   \n\n                                  \n                   75%       max  \ngamma_square                      \n10.0         -0.630326 -0.629624  \n100.0        -3.732953 -3.731812  \n1000.0       -4.687442 -4.660370  \n10000.0      -4.670219 -4.476871  \n100000.0     -3.825058 -3.312922  ",
      "text/html": "<div>\n<style scoped>\n    .dataframe tbody tr th:only-of-type {\n        vertical-align: middle;\n    }\n\n    .dataframe tbody tr th {\n        vertical-align: top;\n    }\n\n    .dataframe thead tr th {\n        text-align: left;\n    }\n\n    .dataframe thead tr:last-of-type th {\n        text-align: right;\n    }\n</style>\n<table border=\"1\" class=\"dataframe\">\n  <thead>\n    <tr>\n      <th></th>\n      <th colspan=\"8\" halign=\"left\">min_neg_elbo</th>\n    </tr>\n    <tr>\n      <th></th>\n      <th>count</th>\n      <th>mean</th>\n      <th>std</th>\n      <th>min</th>\n      <th>25%</th>\n      <th>50%</th>\n      <th>75%</th>\n      <th>max</th>\n    </tr>\n    <tr>\n      <th>gamma_square</th>\n      <th></th>\n      <th></th>\n      <th></th>\n      <th></th>\n      <th></th>\n      <th></th>\n      <th></th>\n      <th></th>\n    </tr>\n  </thead>\n  <tbody>\n    <tr>\n      <th>10.0</th>\n      <td>20.0</td>\n      <td>-0.631330</td>\n      <td>0.001146</td>\n      <td>-0.633572</td>\n      <td>-0.632227</td>\n      <td>-0.631218</td>\n      <td>-0.630326</td>\n      <td>-0.629624</td>\n    </tr>\n    <tr>\n      <th>100.0</th>\n      <td>20.0</td>\n      <td>-3.733695</td>\n      <td>0.001176</td>\n      <td>-3.736262</td>\n      <td>-3.734592</td>\n      <td>-3.733493</td>\n      <td>-3.732953</td>\n      <td>-3.731812</td>\n    </tr>\n    <tr>\n      <th>1000.0</th>\n      <td>19.0</td>\n      <td>-4.696911</td>\n      <td>0.014440</td>\n      <td>-4.711015</td>\n      <td>-4.707474</td>\n      <td>-4.705772</td>\n      <td>-4.687442</td>\n      <td>-4.660370</td>\n    </tr>\n    <tr>\n      <th>10000.0</th>\n      <td>18.0</td>\n      <td>-4.745679</td>\n      <td>0.116238</td>\n      <td>-4.889962</td>\n      <td>-4.827169</td>\n      <td>-4.769033</td>\n      <td>-4.670219</td>\n      <td>-4.476871</td>\n    </tr>\n    <tr>\n      <th>100000.0</th>\n      <td>20.0</td>\n      <td>-3.961198</td>\n      <td>0.287607</td>\n      <td>-4.266053</td>\n      <td>-4.183210</td>\n      <td>-4.077030</td>\n      <td>-3.825058</td>\n      <td>-3.312922</td>\n    </tr>\n  </tbody>\n</table>\n</div>"
     },
     "execution_count": 149,
     "metadata": {},
     "output_type": "execute_result"
    }
   ],
   "source": [
    "moebius_df[[\"min_neg_elbo\", \"gamma_square\"]].groupby(\"gamma_square\").describe()"
   ],
   "metadata": {
    "collapsed": false,
    "pycharm": {
     "name": "#%%\n"
    }
   }
  },
  {
   "cell_type": "markdown",
   "source": [
    "### Moebius + linear map and AR Flows"
   ],
   "metadata": {
    "collapsed": false,
    "pycharm": {
     "name": "#%% md\n"
    }
   }
  },
  {
   "cell_type": "code",
   "execution_count": 6,
   "outputs": [
    {
     "data": {
      "text/plain": "(<AxesSubplot:>, <AxesSubplot:>)"
     },
     "execution_count": 6,
     "metadata": {},
     "output_type": "execute_result"
    },
    {
     "data": {
      "text/plain": "<Figure size 396x244.741 with 1 Axes>",
      "image/png": "[encoded data removed]"
     },
     "metadata": {
      "needs_background": "light"
     },
     "output_type": "display_data"
    }
   ],
   "source": [
    "moebius_lin_map_df.mixing_linear_map_cima.hist(), flow_df.mixing_cima.hist()"
   ],
   "metadata": {
    "collapsed": false,
    "pycharm": {
     "name": "#%%\n"
    }
   }
  },
  {
   "cell_type": "markdown",
   "source": [
    "# Data pre-porcessing"
   ],
   "metadata": {
    "collapsed": false,
    "pycharm": {
     "name": "#%% md\n"
    }
   }
  },
  {
   "cell_type": "markdown",
   "source": [
    "## Moebius $\\gamma$ ablation"
   ],
   "metadata": {
    "collapsed": false,
    "pycharm": {
     "name": "#%% md\n"
    }
   }
  },
  {
   "cell_type": "code",
   "execution_count": 6,
   "outputs": [],
   "source": [
    "# if we need to filter outliers, use this\n",
    "# \"max\" means no filtering is done\n",
    "elbo_filter = moebius_df[[\"neg_elbo\", \"gamma_square\"]].groupby(\"gamma_square\").describe()['neg_elbo']['max']\n",
    "groups = [g for _, g in moebius_df[[\"neg_elbo\", \"mcc4min_neg_elbo\", \"cima4min_neg_elbo\", \"gamma_square\"]].groupby(\"gamma_square\")]\n",
    "\n",
    "# filter metrics based on ELBO threshold (if applicabble)\n",
    "gg_mcc = [g[g.neg_elbo <= threshold].mcc4min_neg_elbo  for g, threshold in zip(groups, elbo_filter)]\n",
    "gg_cima = [g[g.neg_elbo <= threshold].cima4min_neg_elbo  for g, threshold in zip(groups, elbo_filter)]\n",
    "gg_gamma = [g[g.neg_elbo <= threshold].gamma_square  for g, threshold in zip(groups, elbo_filter)]"
   ],
   "metadata": {
    "collapsed": false,
    "pycharm": {
     "name": "#%%\n"
    }
   }
  },
  {
   "cell_type": "markdown",
   "source": [
    "## Moebius + linear map and AR Flows"
   ],
   "metadata": {
    "collapsed": false,
    "pycharm": {
     "name": "#%% md\n"
    }
   }
  },
  {
   "cell_type": "code",
   "execution_count": 7,
   "outputs": [],
   "source": [
    "\"\"\"Data for Mobius with linear maps\"\"\"\n",
    "# get quartiles\n",
    "quartile_bins = moebius_lin_map_df.mixing_linear_map_cima.describe()[[\"min\", \"25%\", \"50%\", \"75%\", \"max\"]].tolist()\n",
    "\n",
    "NUM_BINS = 6 #len(quartile_bins)\n",
    "\n",
    "# create a log set of bins\n",
    "bins = np.logspace( np.log10(moebius_lin_map_df.mixing_linear_map_cima.min()-1e-8), np.log10(moebius_lin_map_df.mixing_linear_map_cima.max()+1e-8), NUM_BINS)\n",
    "logbins = sorted(np.log10(bins))\n",
    "binned_cima = pd.cut(moebius_lin_map_df.mixing_linear_map_cima, bins=bins, labels=list(range(NUM_BINS-1)), retbins=False, right=True, include_lowest=True)\n",
    "moebius_lin_map_groups = [moebius_lin_map_df.mcc4min_neg_elbo[binned_cima==label] for label in list(range(NUM_BINS-1))]"
   ],
   "metadata": {
    "collapsed": false,
    "pycharm": {
     "name": "#%%\n"
    }
   }
  },
  {
   "cell_type": "markdown",
   "source": [
    "# Plot"
   ],
   "metadata": {
    "collapsed": false,
    "pycharm": {
     "name": "#%% md\n"
    }
   }
  },
  {
   "cell_type": "code",
   "execution_count": 116,
   "outputs": [
    {
     "name": "stderr",
     "output_type": "stream",
     "text": [
      "/var/folders/rb/d8k1n6bj4lg801y0yxz4jtbh0000gn/T/ipykernel_75992/3976402239.py:38: UserWarning: FixedFormatter should only be used together with FixedLocator\n",
      "  ax.set_xticklabels([0] + sorted(np.log10(moebius_df[\"gamma_square\"]).astype(int).unique()))\n",
      "/var/folders/rb/d8k1n6bj4lg801y0yxz4jtbh0000gn/T/ipykernel_75992/3976402239.py:57: UserWarning: FixedFormatter should only be used together with FixedLocator\n",
      "  ax.set_xticklabels( xticklabels)\n"
     ]
    },
    {
     "data": {
      "text/plain": "<Figure size 396x122.371 with 4 Axes>",
      "image/png": "[encoded data removed]"
     },
     "metadata": {
      "needs_background": "light"
     },
     "output_type": "display_data"
    }
   ],
   "source": [
    "# to make the grid behind both plots: https://stackoverflow.com/a/55618417/16912032\n",
    "\n",
    "LABELPAD = 2\n",
    "TICK_PADDING = 2\n",
    "\n",
    "fig = plt.figure(figsize=figsizes.neurips2022(nrows=1, ncols=2)['figure.figsize'])\n",
    "\n",
    "\n",
    "\"\"\"MCC vs CIMA over different gamma\"\"\"\n",
    "ax = fig.add_subplot(121)\n",
    "ax.grid(True, which=\"both\", ls=\"-.\")\n",
    "\n",
    "# create double y-axis\n",
    "ax_cima = ax.twinx()\n",
    "ax_mcc = ax.twinx()\n",
    "\n",
    "# Link the respective y-axes for grid and plot\n",
    "ax.get_shared_y_axes().join(ax, ax_mcc)\n",
    "\n",
    "# Remove ticks and labels and set which side to label\n",
    "ticksoff = dict(labelleft=False, labelright=False, left=False, right=False)\n",
    "ax.tick_params(axis=\"y\", **ticksoff)\n",
    "ax_mcc.tick_params(axis=\"y\", labelleft=True, labelright=False, left=True, right=False)\n",
    "ax_cima.tick_params(axis=\"y\", labelleft=False, labelright=True, left=False, right=True)\n",
    "\n",
    "\n",
    "# MCC\n",
    "vp= ax_mcc.violinplot(gg_mcc, showmedians=True)\n",
    "format_violin(vp,BLUE)\n",
    "# CIMA\n",
    "# ax2.set_axisbelow(True)\n",
    "vp2= ax_cima.violinplot([np.log10(g) for g in gg_cima], showmedians=True)\n",
    "format_violin(vp2, RED)\n",
    "\n",
    "\n",
    "ax_cima.set_ylabel(\"$\\log_{10}c_{\\mathrm{IMA}}$\", labelpad=LABELPAD)\n",
    "ax.set_ylabel(\"$\\mathrm{MCC}$\", labelpad=LABELPAD+17)\n",
    "\n",
    "ax.set_xlabel(\"$\\log_{10}\\gamma^2$\", labelpad=LABELPAD)\n",
    "ax.set_xticklabels([0] + sorted(np.log10(moebius_df[\"gamma_square\"]).astype(int).unique()))\n",
    "\n",
    "\n",
    "\n",
    "plt.legend([vp['bodies'][0], vp2['bodies'][0]], [\"$\\mathrm{MCC}$\", \"$\\log_{10}c_{\\mathrm{IMA}}$\"], loc='center left')\n",
    "\n",
    "\n",
    "\"\"\"MCC vs the mixing lin map's CIMA\"\"\"\n",
    "ax = fig.add_subplot(122)\n",
    "ax.grid(True, which=\"both\", ls=\"-.\")\n",
    "ax.set_axisbelow(True)\n",
    "\n",
    "vp = plt.violinplot(moebius_lin_map_groups, showmedians=True)\n",
    "format_violin(vp)\n",
    "\n",
    "ax.set_ylabel(\"$\\mathrm{MCC}$\", labelpad=LABELPAD)\n",
    "ax.set_xlabel(\"$\\log_{10}c_{\\mathrm{IMA}}$\", labelpad=LABELPAD)\n",
    "\n",
    "xticklabels = [0]+ [f\"$[{logbins[0]:.2f};{logbins[1]:.2f})$\"]+ [f\"$<{logbins[i]:.2f}$\" for i in range(2,NUM_BINS-1)] +[f\"$[{logbins[-2]:.2f};{logbins[-1]:.2f}]$\"]\n",
    "ax.set_xticklabels( xticklabels)\n",
    "# plt.legend()\n",
    "ax.tick_params(axis='both', which='major', pad=TICK_PADDING)\n",
    "plt.legend([vp['bodies'][0],], [\"$\\mathrm{MCC}$\"], loc='lower left')\n",
    "\n",
    "plt.savefig(\"moebius_mcc_cima.svg\")"
   ],
   "metadata": {
    "collapsed": false,
    "pycharm": {
     "name": "#%%\n"
    }
   }
  },
  {
   "cell_type": "code",
   "execution_count": 16,
   "outputs": [
    {
     "data": {
      "text/plain": "<Figure size 396x244.741 with 1 Axes>",
      "image/png": "[encoded data removed]"
     },
     "metadata": {
      "needs_background": "light"
     },
     "output_type": "display_data"
    }
   ],
   "source": [
    "quartile_bins = flow_df.mixing_cima.describe()[[\"min\", \"25%\", \"50%\", \"75%\", \"max\"]].tolist()\n",
    "NUM_BINS = 10#len(quartile_bins)\n",
    "bins = np.logspace( np.log10(flow_df.mixing_cima.min()-1e-8), np.log10(flow_df.mixing_cima.max()+1e-8), NUM_BINS, base=5)\n",
    "binned_cima = pd.cut(flow_df.mixing_cima, bins=bins, labels=list(range(NUM_BINS-1)), retbins=False, right=True, include_lowest=True)\n",
    "\n",
    "groups = [flow_df.mcc4min_neg_elbo[binned_cima==label] for label in list(range(NUM_BINS-1)) if len(flow_df.mcc4min_neg_elbo[binned_cima==label])>0]\n",
    "vp = plt.violinplot(groups, showmedians=True)\n",
    "format_violin(vp)"
   ],
   "metadata": {
    "collapsed": false,
    "pycharm": {
     "name": "#%%\n"
    }
   }
  },
  {
   "cell_type": "markdown",
   "source": [
    "## ELBO, IMA, log-likelihood"
   ],
   "metadata": {
    "collapsed": false,
    "pycharm": {
     "name": "#%% md\n"
    }
   }
  },
  {
   "cell_type": "code",
   "execution_count": 15,
   "outputs": [],
   "source": [
    "elbo_gap_data= np.load(\"elbo_gap_data.npy\")"
   ],
   "metadata": {
    "collapsed": false,
    "pycharm": {
     "name": "#%%\n"
    }
   }
  },
  {
   "cell_type": "code",
   "execution_count": 127,
   "outputs": [],
   "source": [
    "log_gamma_sq = np.log10(elbo_gap_data[:,0])\n",
    "elbo = elbo_gap_data[:,1]\n",
    "log_likelihood = elbo_gap_data[:,2]\n",
    "ima = elbo_gap_data[:,3]\n",
    "\n"
   ],
   "metadata": {
    "collapsed": false,
    "pycharm": {
     "name": "#%%\n"
    }
   }
  },
  {
   "cell_type": "code",
   "execution_count": 128,
   "outputs": [
    {
     "data": {
      "text/plain": "array([1. , 1.5, 2. , 2.5, 3. , 3.5, 4. , 4.5, 5. ])"
     },
     "execution_count": 128,
     "metadata": {},
     "output_type": "execute_result"
    }
   ],
   "source": [
    "log_gamma_sq"
   ],
   "metadata": {
    "collapsed": false,
    "pycharm": {
     "name": "#%%\n"
    }
   }
  },
  {
   "cell_type": "code",
   "execution_count": 136,
   "outputs": [
    {
     "name": "stderr",
     "output_type": "stream",
     "text": [
      "/var/folders/rb/d8k1n6bj4lg801y0yxz4jtbh0000gn/T/ipykernel_75992/800425284.py:33: UserWarning: FixedFormatter should only be used together with FixedLocator\n",
      "  ax.set_xticklabels(range(log_gamma_sq[0].astype(int),log_gamma_sq[-1].astype(int)))\n"
     ]
    },
    {
     "data": {
      "text/plain": "<Figure size 396x244.741 with 1 Axes>",
      "image/png": "[encoded data removed]"
     },
     "metadata": {
      "needs_background": "light"
     },
     "output_type": "display_data"
    }
   ],
   "source": [
    "from matplotlib.ticker import MultipleLocator, FormatStrFormatter\n",
    "\n",
    "LABELPAD = 1\n",
    "TICK_PADDING = 2\n",
    "\n",
    "global_cima = 6.5\n",
    "\n",
    "fig = plt.figure(figsize=figsizes.neurips2022(nrows=1, ncols=1)['figure.figsize'])\n",
    "\n",
    "\"\"\"MCC vs CIMA over different gamma\"\"\"\n",
    "ax = fig.add_subplot(111)\n",
    "ax.grid(True, which=\"major\", ls=\"-.\")\n",
    "ax.set_axisbelow(True)\n",
    "\n",
    "\n",
    "\n",
    "# MCC\n",
    "elbo_ima = np.abs(elbo - ima)\n",
    "ax.plot(log_gamma_sq, elbo_ima, label=r\"$|\\mathrm{ELBO}^*-\\mathcal{L}_{\\mathrm{IMA}}|$\", c=BLUE)\n",
    "# ax.errorbar(log_gamma_sq, elbo_ima.mean(0), yerr=elbo_ima.std(0), label='elbo-ima', c=BLUE)\n",
    "\n",
    "# CIMA\n",
    "elbo_log_likelihood = np.abs(elbo-log_likelihood)\n",
    "ax.plot(log_gamma_sq, elbo_log_likelihood, label=r\"$|\\mathrm{ELBO}^*-\\log p_{\\mathbf{\\theta}}(\\mathbf{x})|$\", c=RED)\n",
    "# ax.errorbar(log_gamma_sq, elbo_log_likelihood.mean(0), yerr=elbo_log_likelihood.std(0), label='elbo-log likelihood', c=RED)\n",
    "\n",
    "ax.plot(log_gamma_sq, global_cima*np.ones_like(log_gamma_sq), label=r\"$C_{\\mathrm{IMA}}$\", c=\"black\", linestyle=\"--\")\n",
    "\n",
    "ax.set_ylabel(\"Absolute Loss Difference\", labelpad=LABELPAD)\n",
    "ax.set_xlabel(r\"$\\log_{10}\\gamma^2$\", labelpad=LABELPAD)\n",
    "plt.legend()\n",
    "\n",
    "ax.set_xticklabels(range(log_gamma_sq[0].astype(int),log_gamma_sq[-1].astype(int)))\n",
    "\n",
    "\n",
    "\n",
    "# Make a plot with major ticks that are multiples of 20 and minor ticks that\n",
    "# are multiples of 5.  Label major ticks with '%d' formatting but don't label\n",
    "# minor ticks.\n",
    "ax.xaxis.set_major_locator(MultipleLocator(1))\n",
    "ax.xaxis.set_major_formatter(FormatStrFormatter('%d'))\n",
    "\n",
    "# For the minor ticks, use no labels; default NullFormatter.\n",
    "ax.xaxis.set_minor_locator(MultipleLocator(0.5))\n",
    "\n",
    "# handle1, label1 = ax.get_legend_handles_labels()\n",
    "\n",
    "\n",
    "plt.savefig(\"ima_elbo_likelihood.svg\")"
   ],
   "metadata": {
    "collapsed": false,
    "pycharm": {
     "name": "#%%\n"
    }
   }
  },
  {
   "cell_type": "code",
   "execution_count": 132,
   "outputs": [
    {
     "data": {
      "text/plain": "1"
     },
     "execution_count": 132,
     "metadata": {},
     "output_type": "execute_result"
    }
   ],
   "source": [
    "log_gamma_sq[0].astype(int)"
   ],
   "metadata": {
    "collapsed": false,
    "pycharm": {
     "name": "#%%\n"
    }
   }
  },
  {
   "cell_type": "code",
   "execution_count": null,
   "outputs": [],
   "source": [],
   "metadata": {
    "collapsed": false,
    "pycharm": {
     "name": "#%%\n"
    }
   }
  }
 ],
 "metadata": {
  "kernelspec": {
   "display_name": "Python 3 (ipykernel)",
   "language": "python",
   "name": "python3"
  },
  "language_info": {
   "codemirror_mode": {
    "name": "ipython",
    "version": 3
   },
   "file_extension": ".py",
   "mimetype": "text/x-python",
   "name": "python",
   "nbconvert_exporter": "python",
   "pygments_lexer": "ipython3",
   "version": "3.9.6"
  }
 },
 "nbformat": 4,
 "nbformat_minor": 1
}